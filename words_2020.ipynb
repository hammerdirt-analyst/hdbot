{
 "cells": [
  {
   "cell_type": "markdown",
   "metadata": {},
   "source": [
    "__The flowers underneath our feet__\n",
    "A hammerdirt botany project"
   ]
  },
  {
   "cell_type": "code",
   "execution_count": 1,
   "metadata": {},
   "outputs": [],
   "source": [
    "#import statements\n",
    "import pandas as pd\n",
    "import datetime as dt\n",
    "import numpy as np\n",
    "import matplotlib as mpl\n",
    "import matplotlib.pyplot as plt\n",
    "import seaborn as sns\n",
    "import os\n",
    "import sys"
   ]
  },
  {
   "cell_type": "code",
   "execution_count": 2,
   "metadata": {},
   "outputs": [],
   "source": [
    "#load the data files\n",
    "here = os.getcwd()\n",
    "\n",
    "#loads gps-location name correspondance file\n",
    "afilename = here+\"/data/2020/map-keys-2020.csv\"\n",
    "places = pd.read_csv(afilename)\n",
    "\n",
    "#loads species data set\n",
    "afilename = here+\"/data/2020/species2020_full.csv\"\n",
    "samples = pd.read_csv(afilename)"
   ]
  },
  {
   "cell_type": "markdown",
   "metadata": {},
   "source": [
    "<h4> Abstract </h4>\n",
    "This report concludes a 2020 hammerdirt pilot project in identifying and surveying plant species along the urban Suze river and its Madretschkanal variant from June - September 2020. The objective was to use the relatively new plant recognition technology combined with the Flora Helvetica guidebook to identify plants and construct an initial dataset on the flowering plants along the urban Suze river.\n"
   ]
  },
  {
   "cell_type": "markdown",
   "metadata": {},
   "source": [
    "<h4> Contents </h4>\n",
    "<ol>\n",
    " <li>Objectives</li><li>Background</li><li>Location</li><li>Timeline</li><li>Methodology</li><li>Analysis</li><li>Lessons Learned and Reccomendations</li><li>Bibliography and useful links</li>\n",
    "</ol>\n",
    " "
   ]
  },
  {
   "cell_type": "markdown",
   "metadata": {},
   "source": [
    "<h4>Objectives</h4>\n",
    "<ul>\n",
    "<li>familiarize myself with the local flora, the subject and tools of plant identification</li><li>identify the key botanical and biogeographical datasets available</li><li>build the competencies to present a robust interpretation of my data</li><li>use this experience to improve the plant monitoring scheme for 2021</li>\n",
    "</ul>"
   ]
  },
  {
   "cell_type": "markdown",
   "metadata": {},
   "source": [
    "<h4> Background </h4>\n",
    "<p>Ecological systems in Europe and across the world are under intense stress from various human pressures. Extinction rates are high and on the rise, especially among species dependent on ecological niches that have experienced significant decline, often on the order of 90% loss or greater, since the mid-20th century, such as wetland habitats. It is not just the extinction of species, but the rarefaction of formerly common species alongside a general decline in the mass of mammals, birds and especially insects. This is perhaps best encapsulated by the well-known study that identified a 75% decline between 1989 and 2017 years in flying insect mass captured in a nature reserve in Southern Germany. Plants face similar challenges, including loss of habitat, ravages of invasive species, and rapidly changing climate and weather patterns. As plant communities homogeneize, this leads to a banalization of the insect and animal life that depend on these plant communities for food and shelter.</p>\n",
    "\n",
    "<p>As the aforementioned trends play out with the uncertainties of climate change looming in the background, the long term health of already fragile ecosystems is at serious risk. While national actors work to set standards and engage in international negotiations on emmission frameworks and related important agreements, local public and private actors have significant room to maneaovre. One way to mitigate the pressure a bit is a judicious use of public space, such as road verges,m railroad berms and parks, that balances their potential as habitats with the needs and requirements of the city's inhabitants. Alongside this, encouraging private sector and civil society initatives that are coming up with innovative horticultural techniques to transform the lived environment. Indeed, studies have shown that these (sub)urban green spaces can provide plants, insects and birds with suitable conditions to pursue their lifecycles, and even become a refuge amidst the ongoing intensification of agriculture and loss of habitat.</p> \n",
    "\n",
    "<p></p>\n",
    "\n"
   ]
  },
  {
   "cell_type": "markdown",
   "metadata": {},
   "source": [
    "<h4>Survey Locations</h4>\n",
    "\n",
    "<p>The bulk of the survey sites are located along the suze river and its Madretschkanal branch. They lie primarily between the exit of the Suze river from the Taubenloch gorges and the end of the river into Lake Biel / Thiel river. Along this stretch of the river, as with many urban settings, there are many varied habitats, from deep shade to full pavement to meadows set aside specifically for ecological purposes. These varied habitats offered an opportunity to identify a number of different plants. The sites are managed by the municipality to a greater or less degree and all areas surveyed were open access to the public and chosen to be reasonably accessible for an average person. . </p>\n",
    "\n",
    "\n",
    "<p>In total, surveys were carried out in four geographic regions of Switzerland (Bernese Oberland, Central Plateau, North Jura, Western Plateau), with the majority being on the Central Plateau, near the border with North Jura. In terms of the Welten-Sutter geographic regions, the survey locations largely lie along the border between area 151 (Biel) and area 154 (Grenchen), and close to where area 151 and 154 meet area 300 (Aarberg) and 301 (Büren). They largely lie comfortably within the 585/220 5 kilometer by 5 kilometer set of observations used by Infoflora/Infospecies to organize their citizen observations. In addition, some surveys were conducted near Lac de Neuchatel and Lac de Thoune, in the Jura, and on the other side of Lac de Bienne. All of this information is summarized in the following table.</p>"
   ]
  },
  {
   "cell_type": "code",
   "execution_count": 9,
   "metadata": {},
   "outputs": [],
   "source": [
    "#insert sample pictures of survey locations (alleestrasse, thunersee)\n",
    "#insert overall map of survey locations\n",
    "#insert close-up of Suze + Madretschkanal with Welten Sutter / 5X5 / biogeographic region\n",
    "#survey locations table"
   ]
  },
  {
   "cell_type": "markdown",
   "metadata": {},
   "source": [
    "<h4>Survey period</h4>\n",
    "<p>The survey period stretched from June - September 2020, with the majority of plant observations accomplished in August and September 2020.</p>"
   ]
  },
  {
   "cell_type": "code",
   "execution_count": 1,
   "metadata": {},
   "outputs": [],
   "source": [
    "#insert chart of observation frequency by date"
   ]
  },
  {
   "cell_type": "markdown",
   "metadata": {},
   "source": [
    "<h4>Methodology</h4>\n",
    "\n",
    "<p>The surveys attempt to answer the question “what are the different types of herbaceous plants flowering in this location?\" At first transects were tried, but in the end it was decided to simply go to a location that would be realtively easily identifiable on SwissTopo and survey the plants to the extent possible. Due to the lack of experience of the surveyor, implementing a specific survey method such as a transect would yield too low a number of positively identified plants. Similarly, identifying all plants within a small grid would yield misleading results as the surveyor did not have the experience to positively identify a large number of flowering plants, especially the small white ones and the yellow members of the asteracea family (or Damn Yellow Composites). </p>\n",
    "    \n",
    "<p>Plants were identified both in situ and ex situ by combining an automatic plant identification tool and the 4th edition of the Flora Helvetica guidebook. In the interest of preserving the flora examined, few samples were taken. The samples that were retrieved were to examen the structures under a microscope for educational purposes or to take detailed pictures in a more conducive environment. Some samples were dried and preserved. samples were taken to examine under a microscope or just in a more conducive (less windy, rainy, sunny) environment.  A combination of a smart phone camera (Samsung A50, Samsung A7) and a digital camera (Sony Cybershot) were used for the pictures.</p>\n",
    "\n",
    "<p>A survey is uniquely identified by a place name and a date and is composed of a collection of individual species observations, each of which records the following information: place, date and scientific name. The place name corresponds to a set of gps points. The survey locations were chosen largely so that the geographic extent of the survey location would be more or less clear from the satellite imagery. This survey includes also photographs of the sites and many of the flowers identified stored separately Notes and a drawing accompany many of the surveys, as well as one or more photographs of the survey area at the time the survey was conducted.</p>\n",
    "\n",
    "<p>By design, non flowering plants, grasses and trees were excluded. The trees were excluded as they are included in the cadastre des arbres of Biel, which means recording them would only be repeating a task already completed. The nonflowering plants and grasses were excluded due to the difficulty in identifying them for an amateur. In some cases trees were indeed included, especially Sorbus and Sambusca genera and similar due to their conspicuous flowers and berries. Due to starting the surveys in June, there were a large number of different herbaceous plants in flower and the surveyor had no prior experience, so the choice was made to exclude some common types of flowering plants from the surveys in order to cover a decent amount of territory and not initially sort through difficult families / genera. These were mainly plants that grew close to the ground and produced small or difficult to distinguish flowers, such as grasses and the crepis, cardamine, hieracium, taraxacum, plantago and trifolium generas as well as members of the asteracea family. By the end of the survey period many of the excluded herbaceous plants were added to the surveys as the surveyor gained the experience and confidence to record different species in these genera.</p>\n",
    "\n",
    "<p>Two smartphone applications (Flora Incognita and PlantNet) and one web application (PlantNet) provided the automatic plant recognition. For the first half of the survey period, in June and July, a series of picture were taken with the digital camera and submitted to the PlantNet web application, which generated a number of possible species. Those with a relatively high probability were investigated in the guidebook and pictures and/or samples were then taken for further confirmation. Accompanied by a GPS point and notes, the survey was later reconstructed. This was an innefficient and inneffective process that led to the loss of a number of observations. This  Once the species was confirmed with a reasonable degree of certainty it was entered in the database. The bias was to record the most common of the species observed given that the surveys were conducted in urban settings where presumably one would encounter the most common species at an even higher rate than furhter out in rural areas.</p>\n",
    "\n",
    "<p>From July 31st through September 30th, the smartphone application FloraIncognita was used to record and store the species observations. The approach was similar: first the plant would be identified following the flora incognita entry requirements, then the most likely species was searched in Flora Helvetica to determine if the match was correct or not. If confirmed, the result was accepted and stored in the application. If the match was unsatisfactory, the other suggested species were examined. If no species was a satisfactory match, it was saved as unknown and a sample and/or detailed pictures were then taken and the species eventually identified to a satisfactory degree in a controlled setting. Notes were taken alongside.</p>"
   ]
  },
  {
   "cell_type": "code",
   "execution_count": 2,
   "metadata": {},
   "outputs": [],
   "source": [
    "# insert screenshot of flora helvetica, plantnet app."
   ]
  },
  {
   "cell_type": "markdown",
   "metadata": {},
   "source": [
    "<h4>Results</h4>\n",
    "\n"
   ]
  },
  {
   "cell_type": "code",
   "execution_count": null,
   "metadata": {},
   "outputs": [],
   "source": [
    "# insert summary statistics table: \n",
    "# number of different species identified, min species identified per site, maximum identified per site, avg identified per site"
   ]
  },
  {
   "cell_type": "markdown",
   "metadata": {},
   "source": [
    "<h4>Lessons Learned and Reccomendations</h4>\n",
    "\n",
    "The goal of this project to survey the plants that grow along the river that flows through my neighborhood and begin developping my own skills in the field of biological mapping and data analysis. Throughout this time, one major reflection is that the data is not enough. In some manner, such information needs to be combined from the beginning with an immediate improvement of the situation. To take the example of conducting beach litter surveys: even if no one uses the data, the beach is meticulously cleaned. This is concrete improvement of the world and is important for  projects to remain materially grounded in the production of value. \n",
    "\n",
    "While these lessons learned have largely been about plant surveying and related data, it is clear that the pursuit of seed collection, invasive species removal, production of some horticultural good, or other concrete benefit and value needs to come out of these surveys and this project next year In the meantime, the lessons learned from this initial report on surveying the flowering plants in Biel are the following:\n",
    "<ul>\n",
    "    <li>Data resources available</li><li>Plant identification tools</li><li>Diversity of citizen science initiatives</li><li>knowledge of the herbaceous flora around Biel/Bienne</li>\n",
    "</ul>\n",
    "\n",
    "<h5>Data resources available</h5>\n",
    "\n",
    "<p>In writing this report and conducting background reading a number of useful data sources for mapping the flora across Switzerland. First is the data available through InfoFlora, namely the Welten-Sutter areas and the 5x5 kilometer squares of observations. These low resolution, open source data sets primarily allow a quick comparison to see if a species has already been identified in the region and overall allow to see how many of the plants in the region have been identified. Higher resolution data is available upon request. Comparing observations from this surveyor to observations confirmed by Flora Helvetica would be a useful check on the integrity of the surveyor's data set and permit an evaluation of the evolution of the area since the other Flora Helvetica observations were conducted.</p>\n",
    "\n",
    "<p>Biel, like many cities in Switzerland, also maintains a registry of the trees on the city's public spaces. This data is available to browse with identification to the species, horticultural variety or genus level, as well as information on when the tree was planted and the survey conducted. It is not clear at the time of this report what other data may be available upon request. Clearly, this dataset would be a perfect complement to the more complete study on herbaceous plant species in 2021, giving quite a good picture of the flora of the city.</p>\n",
    "\n",
    "\n",
    "Recomendations:\n",
    "\n",
    "<ul>\n",
    "    <li>Request the full data set of the registry of the trees of Biel.</li><li>Request a higher resolution detail of the observations from Info Flora for the region around Biel</li><li>Request the Welten Sutter and 5kmx5km polygon layers for Switzerland</li>\n",
    "</ul>\n",
    "\n",
    "\n",
    "<h5>Plant identification and observation recording tools</h5>\n",
    "\n",
    "The two plant identification tools that were used were PlantNet (identify.plantnet.org) and Flora Incognita. A number of others were researched and briefly tested but these two apps came from the most reputable sources and were the clear frontrunners in terms of accuracy and functionality for use in Switzerland. In the end, they can be used interchangeably, as they gave consistently similar results. Plantnet has an edge in terms of functionality thanks to the availablility of a web application. In the end, if in doubt the identification was confirmed through the 5th edition of Flora Helvetica regardless of the tool used. In addition to functioning as identification tools, these apps also serve as a list of observations. The Flora Incognita app was chosen to fulfill this dual purpose. Unfortunately, the GPS coordinates were not verified and later found to be off on the order of 250 meters for every single observation. The locations were largely reconstructed, but some observations were unfortunately lost.\n",
    "\n",
    "The following table gives a brief comparison of the two tools. \n",
    "Both of them gave consistently similar identification results. \n",
    "Generally, PlantNet gave a wider net of possible identifications, while Flora Incognita's input algorithm gave a more precies identification\n",
    "PlantNet's GPS system is signicantly superior to Flora Incognita\n",
    "Both link to more information directly about the plant, PlantNet gives a lot more links, Flora incogntia curates the content\n",
    "Can add custom observations\n",
    "Easy export observations to .csv\n",
    "\n",
    "The main inconvenience of using an identification app to also store all observations was the needless recording of pictures and skipping through recognition steps for common plants that were easily identified, thus it is recommended to only use the applications as identification support tools. Since it is best to only have one master list of species identified, the most effective ways are through either a field notebook or through the flora helvetica application, or a combination of the two. The flora helvetica application is very well built, fast, and offers a wide variety of predefined indicators as well as custom input fields. All in all, this is an effective standalone multipurpose data entry tool that can meet the needs of surveying flowes in an urban environment. A signficant improvement is the release of the Flora Helvetica guidebook application. This means that with a few taps of the finger, a surveyor can go from a plant recognication application, to the flora helvetica guidebook for confirmation, to data entry in the flora helvetica application.\n",
    "\n",
    "Finally, there are a number of other related ecological indicators whose presence would be of significant value to decision makers concerning the promotion of nature based solutions in (sub)urban environments. One example is the habiapp, which allows surveyors to identify and introduce trees which have unique microhabitats key to the lifecycles of many of Switzerland's rarest insects. These habitats (holes in the trunk of three, dead wood hanging in the tree branches, etc) can be identified, catalogued and tracked to determine whether the specific habitats of different organisms present only at certain stages of the evoluation of these environments are available for colonization or if the region is in effect inhospitable to these species. Of course, the hammerdirt beach litter survey application can be deployed across urban locations.\n",
    "\n",
    "Recomendations:\n",
    "\n",
    "<ul>\n",
    "    <li>Obtain the digital version of the Flora Helvetica guidebook.</li><li>Use the Flora Helvetica application to record observations</li><li>Identify further applications designed for use in surveys of regional flora</li>\n",
    "</ul>\n",
    "\n",
    "<h5>Diversity of citizen science initiatives around regional flora</h5>\n",
    "\n",
    "<p>There are a large number of citizen science initiatives with more or less engagement from the public available. In Switzerland, this flows mainly through InfoFlora which provides varied offers through the useable and intuitive flora helvetica web application. At the same time, Infoflora does not have any active projects adapted to urban flora. In France, Telebotanica, a grouping of French botanists, has a number of ways to participate in specifically identifying plants growing in urban environments. These range from specifically identifying types of lichens to track air quality to identifying the flora around the base of trees planted in urban environments and the methodologies should be examined for potential applicaiton to Biel/Bienne.</p>\n",
    "\n",
    "<p>About 25 kilometers away from Biel, Bern conducted a participative science program in 2017 where some 70 thousand flora observations from around the city were submitted. This data would make an excellent comparison to the 2020 and especially the forthcoming 2021 data set. It is not clear at the time of writing of this report whether other local governments have put in place similar programs. </p>\n",
    "\n",
    "Recomendations:\n",
    "\n",
    "<ul>\n",
    "    <li>Obtain the digital version of the Flora Helvetica guidebook.</li><li>Use the Flora Helvetica application or a dedicated journal to record observations going forward</li><li>Request the Welten Sutter and 5kmx5km polygon layers for Switzerland</li><li>Request the data from the results of the Berne observations of the flora of the city</li>\n",
    "</ul\n",
    "\n",
    "<h5>Knowledge of the herbaceous plants around Biel/Bienne</h5>\n"
   ]
  },
  {
   "cell_type": "code",
   "execution_count": null,
   "metadata": {},
   "outputs": [],
   "source": [
    "# insert screenshot of flora helvetica, plantnet app.\n",
    "# insert screenshot of cadastre des arbres with selections"
   ]
  },
  {
   "cell_type": "markdown",
   "metadata": {},
   "source": [
    "<h5>Bibliography and useful links</h5>\n",
    "\n",
    "<p> <ul><li>Study of insect communities in Luzern and Zürich https://www.sciencedirect.com/science/article/pii/S0169204611002593?casa_token=uQZ1v0tFvMMAAAAA:mdcKSrLbZHJGvzxGXCxaD3nIMhdbk3-ixso0jie_erf_hSYQqMaYt4qCcc8TZRC_cS8VZGVJWA</li><li>Cadastre des arbres: https://www.nateco.ch/fr/projets/gruenflaechen/126-ville-de-bienne-cadastre-des-arbres</li><li>Info Flora data: https://www.infoflora.ch/fr/donnees.html</li><li></li><ul/></p>"
   ]
  },
  {
   "cell_type": "markdown",
   "metadata": {},
   "source": []
  },
  {
   "cell_type": "code",
   "execution_count": null,
   "metadata": {},
   "outputs": [],
   "source": []
  },
  {
   "cell_type": "code",
   "execution_count": null,
   "metadata": {},
   "outputs": [],
   "source": []
  },
  {
   "cell_type": "markdown",
   "metadata": {},
   "source": [
    "A large number of observations were lost from June and July due to an inneficient collection protocol and a lack of familiarity with the subject matter."
   ]
  },
  {
   "cell_type": "markdown",
   "metadata": {},
   "source": [
    "__Comparison of the identification tools__\n",
    "#INSERT LINKS\n",
    "A number of plant identification tools were downloaded and tested,  The three that stood out for the purposes of this study were iNaturalist, PlantNet, and Flora Incognita. Of these, the latter are developped under European initiatives and so were chosen to be the primary image recognication tools used in this project. In the experience of this project, PlantNet's identification methodology proved more functional for an amateur to begin identifying newly encountered flowers as it tended to generated more possible species than Flora Incognita. If poor photos were submitted PlantNet more often returned a result which could still be used as a starting point in the guidebook, while Flora Incognita sometimes returned no result or fewer similar possibilities. Overall, this made little difference as most of the very similar species were in the same genera, and grouped in such a way as to be fairly readily comparable in the Flora Helvetica guidebook. \n",
    "\n",
    "On the other hand, Flora Incognita proved superior as a provisional data entry tool until hammerdirt builds a prototype application due to its simple and effective data entry and export option. Going forward the reccomendation is to continue using either plant id tool combined with the flora helvetica guidebook when in doubt.\n"
   ]
  },
  {
   "cell_type": "code",
   "execution_count": 5,
   "metadata": {},
   "outputs": [],
   "source": [
    "#photos of the flora incognita and plantnet phone applications?\n",
    "#table of applications downloaded and tested"
   ]
  },
  {
   "cell_type": "markdown",
   "metadata": {},
   "source": [
    "__Findings__\n"
   ]
  },
  {
   "cell_type": "markdown",
   "metadata": {},
   "source": [
    "__Comparison with the 2014 Info Flora Watch List / BLack List of invasives and the Welten-Sutter Area 151__"
   ]
  },
  {
   "cell_type": "markdown",
   "metadata": {},
   "source": [
    "InfoFlora maintains "
   ]
  },
  {
   "cell_type": "markdown",
   "metadata": {},
   "source": [
    "__Neophytes & Invasives__\n",
    "\n",
    "The following invasive plant species on the _liste noire des plantes neophytes envahissantes_ were identified: \n",
    "1) Buddleja davidii\n",
    "2) Erigeron annuus\n",
    "3) Solidago canadensis\n"
   ]
  },
  {
   "cell_type": "code",
   "execution_count": 6,
   "metadata": {},
   "outputs": [],
   "source": [
    "#number of times each of the above species was identified, and % of total in a table."
   ]
  },
  {
   "cell_type": "markdown",
   "metadata": {},
   "source": [
    "This study aligns with the second part of the modern definition of biodiversity:\n",
    "<ul>\n",
    "    <li>ecological biodiversity or the diversity of biotopes</li>\n",
    "    <li>species diversity within these different ecological spaces</li>\n",
    "    <li>genetic diversity of each species</li>\n",
    "</ul>\n",
    "\n"
   ]
  },
  {
   "cell_type": "code",
   "execution_count": 7,
   "metadata": {},
   "outputs": [],
   "source": [
    "#photo of Erigeron a. buddleja d., solidago c."
   ]
  },
  {
   "cell_type": "markdown",
   "metadata": {},
   "source": [
    "Erigeron annuus is a "
   ]
  }
 ],
 "metadata": {
  "kernelspec": {
   "display_name": "Python 3",
   "language": "python",
   "name": "python3"
  },
  "language_info": {
   "codemirror_mode": {
    "name": "ipython",
    "version": 3
   },
   "file_extension": ".py",
   "mimetype": "text/x-python",
   "name": "python",
   "nbconvert_exporter": "python",
   "pygments_lexer": "ipython3",
   "version": "3.8.2"
  }
 },
 "nbformat": 4,
 "nbformat_minor": 4
}
