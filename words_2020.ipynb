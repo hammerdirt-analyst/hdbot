{
 "cells": [
  {
   "cell_type": "markdown",
   "metadata": {},
   "source": [
    "__The flowers underneath our feet__\n",
    "A hammerdirt botany project"
   ]
  },
  {
   "cell_type": "markdown",
   "metadata": {},
   "source": [
    "__Abstract__\n",
    "This report concludes a 2020 hammerdirt pilot project in identifying and surveying plant species along the urban Suze river and its Madretschkanal variant from June - September 2020. The objective was to use the relatively new plant recognition technology combined with the Flora Helvetica guidebook to identify plants and construct an initial dataset on the flowering plants along the urban Suze river.\n"
   ]
  },
  {
   "cell_type": "markdown",
   "metadata": {},
   "source": [
    "__Background__\n",
    "Ecological systems in Europe and the world have been pushed to the breaking point by human pressures, namely land use, pollution, and the introduction of exotic species. As the effects of climate change accentuate it is clear that the integrity of these systems will be further strained and investment must be made to restore habitat and provide ecological space and resources for wild species to survive the ongoing extinction. At the moment, the current rates of species extinction varyies from 10X-100X higher than the estimated background rate of extinction, a rate that is accompanied by a loss of integrity and functionality of entire ecosystems. Accentuating the starkness of this situation, the decline in local species abundance, defaunation, is also up across the board. A recent striking example of this which generated headlines and spurred some public action was a study published in 2017 that found a 75% decline in flying insect abundance in traps placed in a natural reserve in Germany from the 1989 to 2016. "
   ]
  },
  {
   "cell_type": "markdown",
   "metadata": {},
   "source": [
    "__Survey Locations__\n",
    "The majority of the survey sites are located along the suze river and its Madretschkanal branch as it runs through Biel. Along the course of the river many varied habitats were encountered, ranging from the deep shade of old trees, to nearly full pavement, to meadows set aside specifically for flowering plants, were encountered which offered the opportunity to identify a number of different plants. These sites are managed by the municipality to a greater or less degree and all areas surveyed were open access to the public and chosen to be reasonably accessible for an average person.\n",
    "\n",
    "The survey sites themselves were not measured, but are demarcated by natural or anthropomorphic features which allows for their fairly exact size to be determined. The sites themselves were chosen to not be too large so as to overlook plants, but neither too small to limit the number of species that could be identified. Additional survey were carried out in four geographic regions of Switzerland (Bernese Oberland, Central Plateau, North Jura, Western Plateau) as opportunity presented itself. In total the survey locations are represented in the following table."
   ]
  },
  {
   "cell_type": "code",
   "execution_count": null,
   "metadata": {},
   "outputs": [],
   "source": [
    "#table of survey locations by geographic type\n",
    "#insert the sample photos of survey locations"
   ]
  },
  {
   "cell_type": "markdown",
   "metadata": {},
   "source": [
    "__Methodology__\n",
    "The surveys attempted to answer the question “what are the different types of plants flowering in this location?” A survey is uniquels identified by a place and a date and is composed of a collection of individual species observations, each of which records the following information: place, date and scientific name. Other data is often included, such as time of day, observation ID, and notes. Ths survey includes also photographs of the sites and many of the flowers stored separately. The place name corresponds to a set of gps points via a separate key. Notes and a drawing accompany many of the surveys, as well as one or more photographs of the survey area at the time the survey was conducted.\n",
    "\n",
    "Plants were identified both in situ and ex situ using a combination of automatic plant identification technology and the flora helvetica guidebook. Most identification was performed in situ although samples were taken to examine under a microscope in a more conducive environment. For identification ex-situ and for evidence of the identification, pictures of key elements were taken at different angles for many of the plants identified. A combination of a smart phone camera (Samsung A50, Samsung A7) and a digital camera (Sony Cybershot) were used for the pictures.\n",
    "\n",
    "Two smartphone applications (Flora Incognita and PlantNet) and one web application (PlantNet) provided the automatic plant recognition. For the first half of the survey period, PlantNet was used, where a picture would be taken and submitted to PlantNet, which generated a number of possible species. Those with a relatively high probability were investigated in the guidebook and pictures and/or samples were then taken for further confirmation.  Once the species was confirmed with a reasonable degree of certainty it was entered in the database. The bias was to record the most common of the species observed given that the surveys were conducted in urban settings where presumably one would encounter the most common species at an even higher rate than furhter out in rural areas.\n",
    "\n",
    "From July 31st through September 30th, the smartphone application FloraIncognita was used to record and store the species observations. The approach was similar: first the plant would be identified following the flora incognita entry requirements, then the most likely species was searched in Flora Helvetica to determine if the match was correct or not. If confirmed, the result was accepted and stored in the application. If the match was unsatisfactory, the other suggested species were examined. If no species was a satisfactory match, it was saved as unknown and a sample and/or detailed pictures were then taken and the species eventually identified to a satisfactory degree in a controlled setting. Notes were taken alongside.\n",
    "\n",
    "By design, non flowering plants and most trees and shrubs were excluded as they were primarily not in flower during the survey period, although those with conspicuous berries were often identified. Due to starting the surveys in June, there were a large number of different plants in flower and the surveyor had no prior experience, so the choice was made to exclude some common types of flowering plants from the surveys in order to cover a decent amount of territory and not initially sort through and distinguish between certain genera. These were mainly plants that grew close to the ground and produced small or difficult to distinguish flowers, such as grasses and the crepis, cardamine, hieracium, taraxacum, plantago and trifolium generas. By the end of the survey period most of the excluded herbaceous plants were added to the surveys, but not the grasses.\n"
   ]
  },
  {
   "cell_type": "code",
   "execution_count": null,
   "metadata": {},
   "outputs": [],
   "source": []
  },
  {
   "cell_type": "code",
   "execution_count": null,
   "metadata": {},
   "outputs": [],
   "source": [
    "#insert the "
   ]
  },
  {
   "cell_type": "markdown",
   "metadata": {},
   "source": [
    "__Comparison of the identification tools__\n",
    "#INSERT LINKS\n",
    "A number of plant identification tools were downloaded and tested,  The three that stood out for the purposes of this study were iNaturalist, PlantNet, and Flora Incognita. Of these, the latter are developped under European initiatives and so were chosen to be the primary image recognication tools used in this project. In the experience of this project, PlantNet's identification methodology proved more functional for an amateur to begin identifying newly encountered flowers. It tended to generated more possible species than Flora Incognita. If poor photos were submitted PlantNet returned a result which could still be used as a starting point in the guidebook, while Flora Incognita sometimes returned no result. During this project, this made little difference as most of the very similar species were in the same genera, and grouped in such a way as to be fairly readily comparable in the Flora Helvetica guidebook. On the other hand, Flora Incognita proved superior as a provisional data entry tool until hammerdirt builds a prototype application due to its simple and effective data entry and export option.\n",
    "\n",
    "Going forward the reccomendation is to continue using either plant id tool combined with the flora helvetica guidebook.\n"
   ]
  },
  {
   "cell_type": "code",
   "execution_count": null,
   "metadata": {},
   "outputs": [],
   "source": [
    "#photos of the flora incognita and plantnet phone applications?\n",
    "#table of applications downloaded and tested"
   ]
  },
  {
   "cell_type": "markdown",
   "metadata": {},
   "source": [
    "__Findings__\n"
   ]
  },
  {
   "cell_type": "markdown",
   "metadata": {},
   "source": [
    "__Neophytes & Invasives__\n",
    "\n",
    "The following invasive plant species on the _liste noire des plantes neophytes envahissantes_ were identified: \n",
    "1) Buddleja davidii\n",
    "2) Erigeron annuus\n",
    "3) Solidago canadensis\n"
   ]
  },
  {
   "cell_type": "code",
   "execution_count": null,
   "metadata": {},
   "outputs": [],
   "source": [
    "#number of times each of the above species was identified, and % of total in a table."
   ]
  },
  {
   "cell_type": "markdown",
   "metadata": {},
   "source": [
    "Erigeron annuus is a strong pr"
   ]
  }
 ],
 "metadata": {
  "kernelspec": {
   "display_name": "Python 3",
   "language": "python",
   "name": "python3"
  },
  "language_info": {
   "codemirror_mode": {
    "name": "ipython",
    "version": 3
   },
   "file_extension": ".py",
   "mimetype": "text/x-python",
   "name": "python",
   "nbconvert_exporter": "python",
   "pygments_lexer": "ipython3",
   "version": "3.7.4"
  }
 },
 "nbformat": 4,
 "nbformat_minor": 4
}
