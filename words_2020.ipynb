{
 "cells": [
  {
   "cell_type": "markdown",
   "metadata": {},
   "source": [
    "__The flowers underneath our feet__\n",
    "A hammerdirt botany project"
   ]
  },
  {
   "cell_type": "code",
   "execution_count": 1,
   "metadata": {},
   "outputs": [],
   "source": [
    "#import statements\n",
    "import pandas as pd\n",
    "import datetime as dt\n",
    "import numpy as np\n",
    "import matplotlib as mpl\n",
    "import matplotlib.pyplot as plt\n",
    "import seaborn as sns\n",
    "import os\n",
    "import sys"
   ]
  },
  {
   "cell_type": "code",
   "execution_count": 2,
   "metadata": {},
   "outputs": [],
   "source": [
    "#load the data files\n",
    "here = os.getcwd()\n",
    "\n",
    "#loads gps-location name correspondance file\n",
    "afilename = here+\"/data/2020/map-keys-2020.csv\"\n",
    "places = pd.read_csv(afilename)\n",
    "\n",
    "#loads species data set\n",
    "afilename = here+\"/data/2020/species2020_full.csv\"\n",
    "samples = pd.read_csv(afilename)"
   ]
  },
  {
   "cell_type": "markdown",
   "metadata": {},
   "source": [
    "<h4> Abstract </h4>\n",
    "This report concludes a 2020 hammerdirt pilot project in identifying and surveying plant species along the urban Suze river and its Madretschkanal variant from June - September 2020. The objective was to use the relatively new plant recognition technology combined with the Flora Helvetica guidebook to identify plants and construct an initial dataset on the flowering plants along the urban Suze river.\n"
   ]
  },
  {
   "cell_type": "markdown",
   "metadata": {},
   "source": [
    "<h4> Contents </h4>\n",
    "<ol>\n",
    " <li>Objectives</li><li>Background</li><li>Location</li><li>2020 data and methodology</li><li>analysis & results</li><li>preview of 2021</li>\n",
    "</ol>\n",
    " "
   ]
  },
  {
   "cell_type": "markdown",
   "metadata": {},
   "source": [
    "<h4>Objectives</h4>\n",
    "<ul>\n",
    "<li>familiarize myself with the local flora, the subject and tools of plant identification</li><li>identify the key botanical and biogeographical datasets available</li><li>build the competencies to present a robust interpretation of my data in accordance with the larger datasets as available identified in step 2</li><li>use this experience to improve the plant monitoring scheme for 2021</li>\n",
    "</ul>"
   ]
  },
  {
   "cell_type": "markdown",
   "metadata": {},
   "source": [
    "<h4> Background </h4>\n",
    "<p>Ecological systems in Europe and across the world are under an intense amount of stress from various human pressures. Extinction rates are high and on the rise, especially among species dependent on ecological niches that have experienced significant decline, often on the order of 90% loss or greater, since the mid-20th century, such as wetland habitats. It is not just the extinction of species, but the rarefaction of formerly common species alongside a general decline in the mass of mammals, birds and especially insects. This is perhaps best encapsulated by the well-known study that identified a 75% decline between 1989 and 2017 years in flying insect mass captured in a nature reserve in Southern Germany. Plants face similar challenges, including loss of habitat, ravages of invasive species, and rapidly changing climate and weather patterns. As plant communities homogenize it goes hand in hand with a banalization of the insect and animal life that depend on these plant communities for food and shelter.</p>\n",
    "\n",
    "<p>As the aforementioned trends play out with the uncertainties of climate change looming in the background, the long term health of already fragile ecosystems is at serious risk. While national actors work to set standards and engage in international negotiations on emmission frameworks and related important agreements, municipalities and local governments have significant room to maneaovre. One of the most obvious ways is a judicious use of public spaces that balances their potential as microhabitats with the needs and requirements of the city's inhabitants. as well as indirectly by incentivizing, encouraging and demonstrating appropriate horticultural techniques. Indeed, studies have shown that (sub)urban areas can provide insects refuge from changing environmental conditions and the ongoing intensification of agriculture.</p> \n",
    "\n",
    "<p></p>\n",
    "\n",
    "The modern definition of biodiversity includes three components:\n",
    "<ul>\n",
    "    <li>ecological biodiversity or the diversity of biotopes</li>\n",
    "    <li>species diversity within these different ecological spaces</li>\n",
    "    <li>genetic diversity of each species</li>\n",
    "</ul>\n",
    "\n",
    "This study will focus on the second aspect of biodiversity, species diversity, while building the knowledge to engage in the others.\n"
   ]
  },
  {
   "cell_type": "code",
   "execution_count": null,
   "metadata": {},
   "outputs": [],
   "source": [
    "<p></p>\n"
   ]
  },
  {
   "cell_type": "markdown",
   "metadata": {},
   "source": [
    "<h4>Survey Locations</h4>\n",
    "<p>The bulk of the survey sites are located along the suze river and its Madretschkanal branch. They lie primarily between the exit of the Suze river from the Taubenloch gorges and the end of the river into Lake Biel / Thiel river. Along this stretch of the river there are many varied habitats, to nearly full pavement, to meadows set aside specifically for flowering plants, were encountered which offered the opportunity to identify a number of different plants. These sites are managed by the municipality to a greater or less degree and all areas surveyed were open access to the public and chosen to be reasonably accessible for an average person.</p>\n",
    "\n",
    "<p>The survey sites themselves were not measured, but are demarcated by natural or anthropomorphic features which allows for their fairly exact size to be determined. The sites themselves were chosen to not be too large so as to overlook plants, but neither too small to limit the number of species that could be identified. Additional survey were carried out in four geographic regions of Switzerland (Bernese Oberland, Central Plateau, North Jura, Western Plateau) as opportunity presented itself. In total the survey locations are represented in the following table.</p>"
   ]
  },
  {
   "cell_type": "code",
   "execution_count": 9,
   "metadata": {},
   "outputs": [],
   "source": [
    "#insert sample pictures of survey locations (alleestrasse for sure, others?)\n",
    "#insert overall map of survey locations\n",
    "#insert close-up of Suze + Madretschkanal"
   ]
  },
  {
   "cell_type": "markdown",
   "metadata": {},
   "source": [
    "<h4>Survey period</h4>\n",
    "<p>The survey period stretched from June - September 2020, with the majority of plant identifications being done in August and September.</p>"
   ]
  },
  {
   "cell_type": "code",
   "execution_count": 3,
   "metadata": {},
   "outputs": [],
   "source": [
    "#table of survey locations by geographic type\n",
    "#insert the sample photos of survey locations"
   ]
  },
  {
   "cell_type": "markdown",
   "metadata": {},
   "source": [
    "<h4>Methodology</h4>\n",
    "The surveys attempted to answer the question “what are the different types of plants flowering in this location?” A survey is uniquely identified by a place and a date and is composed of a collection of individual species observations, each of which records the following information: place, date and scientific name. Other data is often included, such as time of day, observation ID, and notes. Ths survey includes also photographs of the sites and many of the flowers stored separately. The place name corresponds to a set of gps points via a separate key. Notes and a drawing accompany many of the surveys, as well as one or more photographs of the survey area at the time the survey was conducted.\n",
    "\n",
    "Plants were identified both in situ and ex situ using a combination of automatic plant identification technology and the flora helvetica guidebook. Most identification was performed in situ although samples were taken to examine under a microscope in a more conducive environment. For identification ex-situ and for evidence of the identification, pictures of key elements were taken at different angles for many of the plants identified. A combination of a smart phone camera (Samsung A50, Samsung A7) and a digital camera (Sony Cybershot) were used for the pictures.\n",
    "\n",
    "Two smartphone applications (Flora Incognita and PlantNet) and one web application (PlantNet) provided the automatic plant recognition. For the first half of the survey period, PlantNet was used, where a picture would be taken and submitted to PlantNet, which generated a number of possible species. Those with a relatively high probability were investigated in the guidebook and pictures and/or samples were then taken for further confirmation.  Once the species was confirmed with a reasonable degree of certainty it was entered in the database. The bias was to record the most common of the species observed given that the surveys were conducted in urban settings where presumably one would encounter the most common species at an even higher rate than furhter out in rural areas.\n",
    "\n",
    "From July 31st through September 30th, the smartphone application FloraIncognita was used to record and store the species observations. The approach was similar: first the plant would be identified following the flora incognita entry requirements, then the most likely species was searched in Flora Helvetica to determine if the match was correct or not. If confirmed, the result was accepted and stored in the application. If the match was unsatisfactory, the other suggested species were examined. If no species was a satisfactory match, it was saved as unknown and a sample and/or detailed pictures were then taken and the species eventually identified to a satisfactory degree in a controlled setting. Notes were taken alongside.\n",
    "\n",
    "By design, non flowering plants and most trees and shrubs were excluded as they were primarily not in flower during the survey period, although those with conspicuous berries were often identified. Due to starting the surveys in June, there were a large number of different plants in flower and the surveyor had no prior experience, so the choice was made to exclude some common types of flowering plants from the surveys in order to cover a decent amount of territory and not initially sort through and distinguish between certain genera. These were mainly plants that grew close to the ground and produced small or difficult to distinguish flowers, such as grasses and the crepis, cardamine, hieracium, taraxacum, plantago and trifolium generas. By the end of the survey period most of the excluded herbaceous plants were added to the surveys (not the grasses or carex genera)."
   ]
  },
  {
   "cell_type": "markdown",
   "metadata": {},
   "source": [
    "whats the point?\n",
    "Damn Yellow Composites (DYCs)"
   ]
  },
  {
   "cell_type": "code",
   "execution_count": 4,
   "metadata": {},
   "outputs": [],
   "source": [
    "#insert the "
   ]
  },
  {
   "cell_type": "markdown",
   "metadata": {},
   "source": [
    "__Comparison of the identification tools__\n",
    "#INSERT LINKS\n",
    "A number of plant identification tools were downloaded and tested,  The three that stood out for the purposes of this study were iNaturalist, PlantNet, and Flora Incognita. Of these, the latter are developped under European initiatives and so were chosen to be the primary image recognication tools used in this project. In the experience of this project, PlantNet's identification methodology proved more functional for an amateur to begin identifying newly encountered flowers as it tended to generated more possible species than Flora Incognita. If poor photos were submitted PlantNet more often returned a result which could still be used as a starting point in the guidebook, while Flora Incognita sometimes returned no result or fewer similar possibilities. Overall, this made little difference as most of the very similar species were in the same genera, and grouped in such a way as to be fairly readily comparable in the Flora Helvetica guidebook. \n",
    "\n",
    "On the other hand, Flora Incognita proved superior as a provisional data entry tool until hammerdirt builds a prototype application due to its simple and effective data entry and export option. Going forward the reccomendation is to continue using either plant id tool combined with the flora helvetica guidebook when in doubt.\n"
   ]
  },
  {
   "cell_type": "code",
   "execution_count": 5,
   "metadata": {},
   "outputs": [],
   "source": [
    "#photos of the flora incognita and plantnet phone applications?\n",
    "#table of applications downloaded and tested"
   ]
  },
  {
   "cell_type": "markdown",
   "metadata": {},
   "source": [
    "__Findings__\n"
   ]
  },
  {
   "cell_type": "markdown",
   "metadata": {},
   "source": [
    "__Comparison with the 2014 Info Flora Watch List / BLack List of invasives and the Welten-Sutter Area 151__"
   ]
  },
  {
   "cell_type": "markdown",
   "metadata": {},
   "source": [
    "InfoFlora maintains "
   ]
  },
  {
   "cell_type": "markdown",
   "metadata": {},
   "source": [
    "__Neophytes & Invasives__\n",
    "\n",
    "The following invasive plant species on the _liste noire des plantes neophytes envahissantes_ were identified: \n",
    "1) Buddleja davidii\n",
    "2) Erigeron annuus\n",
    "3) Solidago canadensis\n"
   ]
  },
  {
   "cell_type": "code",
   "execution_count": 6,
   "metadata": {},
   "outputs": [],
   "source": [
    "#number of times each of the above species was identified, and % of total in a table."
   ]
  },
  {
   "cell_type": "code",
   "execution_count": 7,
   "metadata": {},
   "outputs": [],
   "source": [
    "#photo of Erigeron a. buddleja d., solidago c."
   ]
  },
  {
   "cell_type": "markdown",
   "metadata": {},
   "source": [
    "Erigeron annuus is a "
   ]
  }
 ],
 "metadata": {
  "kernelspec": {
   "display_name": "Python 3",
   "language": "python",
   "name": "python3"
  },
  "language_info": {
   "codemirror_mode": {
    "name": "ipython",
    "version": 3
   },
   "file_extension": ".py",
   "mimetype": "text/x-python",
   "name": "python",
   "nbconvert_exporter": "python",
   "pygments_lexer": "ipython3",
   "version": "3.8.2"
  }
 },
 "nbformat": 4,
 "nbformat_minor": 4
}
