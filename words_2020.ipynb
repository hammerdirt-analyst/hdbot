{
 "cells": [
  {
   "cell_type": "markdown",
   "metadata": {},
   "source": [
    "__The flowers underneath our feet__\n",
    "A hammerdirt botany project"
   ]
  },
  {
   "cell_type": "markdown",
   "metadata": {},
   "source": [
    "__Abstract__\n",
    "This report prepares the ground for a detailed study of plant species in selected urban regions of Biel in 2021. Plant species in flower were identified at a number of locations across 120 surveys, primarily in the green spaces along the Suze river in the city of Biel and its Madretschkanal branch, from June to September 2020.\n"
   ]
  },
  {
   "cell_type": "markdown",
   "metadata": {},
   "source": [
    "__Background__\n",
    "\n",
    "\n"
   ]
  },
  {
   "cell_type": "markdown",
   "metadata": {},
   "source": [
    "__Survey Locations__\n",
    "The majority of the survey sites are located along the suze river and its Madretschkanal branch as it runs through Biel. Along the course of the river many varied habitats were encountered, ranging from deep shade of old trees, to nearly full pavement, to meadows set aside specifically for flowering plants, were encountered which offered the opportunity to identify a number of different plants. These sites are managed by the municipality to a greater or less degree and all areas surveyed were open access to the public and chosen to be reasonably accessible for an average person.\n",
    "\n",
    "The survey sites themselves were not measured, but are demarcated by natural or anthropomorphic features which allows for their fairly exact size to be determined. The sites themselves were chosen to not be too large so as to overlook plants, but neither too small to limit the number of species that could be identified. Additional survey were carried out in four geographic regions of Switzerland (Bernese Oberland, Central Plateau, North Jura, Western Plateau) as opportunity presented itself. In total the survey locations are represented in the following table."
   ]
  },
  {
   "cell_type": "code",
   "execution_count": null,
   "metadata": {},
   "outputs": [],
   "source": [
    "#table of survey locations by water feature"
   ]
  },
  {
   "cell_type": "markdown",
   "metadata": {},
   "source": [
    "__Methodology__\n",
    "The surveys attempted to answer the question “what are the different types of plants1 flowering in this location?” and each survey has the following information: place, date, time, flora incognita key, list of species identified at the site, and accompanying photographs of the sites and flowers stored separately. The place name corresponds to a set of gps points via a separate key.\n",
    "\n",
    "Plants were identified both in situ and ex situ using a combination of automatic plant identification technology and the flora helvetica guidebook. Most identification was performed in situ although many samples were taken to examine under a microscope and in a more conducive environment. For identification ex-situ and for evidence of the identification, for many samples pictures of key elements were taken at different angles of many of the plants identified.  A combination of a smart phone camera (Samsung A50, Samsung A7) and a digital camera (Sony Cybershot) were used for the pictures. \n"
   ]
  },
  {
   "cell_type": "code",
   "execution_count": null,
   "metadata": {},
   "outputs": [],
   "source": [
    "#photos of "
   ]
  }
 ],
 "metadata": {
  "kernelspec": {
   "display_name": "Python 3",
   "language": "python",
   "name": "python3"
  },
  "language_info": {
   "codemirror_mode": {
    "name": "ipython",
    "version": 3
   },
   "file_extension": ".py",
   "mimetype": "text/x-python",
   "name": "python",
   "nbconvert_exporter": "python",
   "pygments_lexer": "ipython3",
   "version": "3.7.4"
  }
 },
 "nbformat": 4,
 "nbformat_minor": 4
}
