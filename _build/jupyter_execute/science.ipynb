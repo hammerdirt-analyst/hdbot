{
 "cells": [
  {
   "cell_type": "markdown",
   "id": "95f30fd8-3cd3-4719-90d4-7f4ea28b781b",
   "metadata": {},
   "source": [
    "# Proposed citizen science initiatives"
   ]
  },
  {
   "cell_type": "code",
   "execution_count": null,
   "id": "d8a33567-5a8e-4c20-879e-4d5760b46f3c",
   "metadata": {},
   "outputs": [],
   "source": []
  },
  {
   "cell_type": "markdown",
   "id": "765d66e5-2dab-45ac-bf4b-998f9ca107b7",
   "metadata": {},
   "source": [
    "## Introduction to citizen science\n",
    "\n",
    "* Example of Hammerdirt beach litter surveys and Hackuarium lab projects.\n",
    "* Plant observation platforms infoflora, plantnet\n"
   ]
  },
  {
   "cell_type": "markdown",
   "id": "b780a193-e42d-456c-8447-d85f81c14466",
   "metadata": {},
   "source": [
    "## Contributions to InfoFlora database - plant surveys\n",
    "* Time out in the field is often the most expensive part of conducting plant surveys - take advantage of field time dedicated to seed collection to collect data and make observations. Relevant for region surrounding Biel/Bienne.\n",
    "* Construct and maintain observational database of plant life around the city.\n",
    "* Gather knowledge from local experts, activists and gardeners who know where plant populations are but have not officially recorded them.\n"
   ]
  },
  {
   "cell_type": "markdown",
   "id": "57bf60a1-30f2-45a7-9e73-75d0ddad2fed",
   "metadata": {},
   "source": [
    "## Genetic diversity of vascular plants"
   ]
  },
  {
   "cell_type": "markdown",
   "id": "6f09bb40-ffd3-4190-a1aa-e6c7acad35f1",
   "metadata": {},
   "source": []
  }
 ],
 "metadata": {
  "kernelspec": {
   "display_name": "Python 3 (ipykernel)",
   "language": "python",
   "name": "python3"
  },
  "language_info": {
   "codemirror_mode": {
    "name": "ipython",
    "version": 3
   },
   "file_extension": ".py",
   "mimetype": "text/x-python",
   "name": "python",
   "nbconvert_exporter": "python",
   "pygments_lexer": "ipython3",
   "version": "3.8.11"
  }
 },
 "nbformat": 4,
 "nbformat_minor": 5
}