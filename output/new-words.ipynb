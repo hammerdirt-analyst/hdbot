{
 "cells": [
  {
   "cell_type": "markdown",
   "id": "quiet-array",
   "metadata": {},
   "source": [
    "HDBOT Plans"
   ]
  },
  {
   "cell_type": "markdown",
   "id": "arranged-efficiency",
   "metadata": {},
   "source": [
    "Timeline: June 2020 - june 2021\n",
    "\n",
    "Welten-sutter\n",
    "\n",
    "5x5 kilometers\n"
   ]
  }
 ],
 "metadata": {
  "kernelspec": {
   "display_name": "Python 3",
   "language": "python",
   "name": "python3"
  },
  "language_info": {
   "codemirror_mode": {
    "name": "ipython",
    "version": 3
   },
   "file_extension": ".py",
   "mimetype": "text/x-python",
   "name": "python",
   "nbconvert_exporter": "python",
   "pygments_lexer": "ipython3",
   "version": "3.8.2"
  }
 },
 "nbformat": 4,
 "nbformat_minor": 5
}
