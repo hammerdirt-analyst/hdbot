{
 "cells": [
  {
   "cell_type": "markdown",
   "metadata": {},
   "source": [
    "Introduction"
   ]
  },
  {
   "cell_type": "markdown",
   "metadata": {},
   "source": [
    "Import statements"
   ]
  },
  {
   "cell_type": "code",
   "execution_count": 1,
   "metadata": {},
   "outputs": [],
   "source": [
    "import string\n",
    "import datetime\n",
    "import utility\n",
    "import os\n",
    "import sys"
   ]
  },
  {
   "cell_type": "markdown",
   "metadata": {},
   "source": [
    "Load the 2020 data set and the reference files."
   ]
  },
  {
   "cell_type": "code",
   "execution_count": null,
   "metadata": {},
   "outputs": [],
   "source": []
  },
  {
   "cell_type": "code",
   "execution_count": 2,
   "metadata": {},
   "outputs": [],
   "source": [
    "data2020 = utility.importfile(\"data/2020/2020datasimp.csv\")\n",
    "floralist = utility.importfile(\"refs/florahelvetica/florahelveticarcsvnew.csv\")"
   ]
  },
  {
   "cell_type": "markdown",
   "metadata": {},
   "source": [
    "Clean 2020 data set and reference files"
   ]
  },
  {
   "cell_type": "code",
   "execution_count": 3,
   "metadata": {},
   "outputs": [],
   "source": [
    "data2020 = utility.removelistreturns(data2020)\n",
    "floralist = utility.removelistreturns(floralist)\n",
    "data2020 = utility.makenestedlist(data2020)\n",
    "floralist = utility.makenestedlist(floralist)\n",
    "data2020 = utility.arrange2020data(data2020)\n",
    "floralist = utility.arrangeflorahelveticadata(floralist)\n",
    "data2020[3] = utility.removenameendings(data2020[3])\n",
    "data2020 = utility.fixscinames(data2020)\n",
    "data2020 = utility.fixdate(data2020)\n",
    "data2020 = utility.fixtime(data2020)"
   ]
  },
  {
   "cell_type": "markdown",
   "metadata": {},
   "source": [
    "Initial data analysis"
   ]
  },
  {
   "cell_type": "code",
   "execution_count": 4,
   "metadata": {},
   "outputs": [
    {
     "name": "stdout",
     "output_type": "stream",
     "text": [
      "(236, ['sci', 'plantago lanceolata', 'centaurea nigra', 'plantago media', 'chenopodium album', 'centaurea jacea', 'veronica persica', 'geranium pyrenaicum', 'daucus carota', 'mentha spicata', 'pastinaca sativa', 'galium mollugo', 'trifolium pratense', 'achillea millefolium', 'sedum album', 'chaerophyllum hirsutum', 'erigeron annuus', 'epilobium hirsutum', 'verbascum thapsus', 'silene latifolia', 'silene dichotoma', 'verbena bonariensis', 'clinopodium vulgare', 'scabiosa columbaria', 'trifolium repens', 'silene vulgaris', 'crepis capillaris', 'melilotus albus', 'malva neglecta', 'cirsium arvense', 'calystegia sepium', 'brassica napus', 'lotus corniculatus', 'medicago sativa', 'hypericum perforatum', 'tragopogon pratensis', 'knautia arvensis', 'leucanthemum vulgare', 'vicia sepium', 'senecio inaequidens', 'dianthus carthusianorum', 'mentha longifolia', 'lapsana communis', 'medicago lupulina', 'cichorium intybus', 'potentilla reptans', 'papaver rhoeas', 'hypericum maculatum', 'arenaria serpyllifolia', 'clinopodium acinos', 'lavandula angustifolia', 'eupatorium cannabinum', 'solidago canadensis', 'epilobium dodonaei', 'echium vulgare', 'taraxacum', 'ranunculus acris', 'clematis vitalba', 'dianthus armeria', 'centranthus ruber', 'chelidonium majus', 'cornus sanguinea', 'verbena officinalis', 'bryonia dioica', 'sorbus aucuparia', 'sambucus nigra', 'geranium robertianum', 'urtica dioica', 'rubus', 'rubus armeniacus', 'polygonum aviculare', 'rubus rubus sect.', 'lamium maculatum', 'sonchus oleraceus', 'galeopsis tetrahit', 'artemisia vulgaris', 'parthenocissus quinquefolia', 'malus sylvestris', 'borkhausenia intermedia', 'solanum nigrum', 'erodium cicutarium', 'alcea rosea', 'arctium minus', 'carduus crispus', 'convolvulus arvensis', 'oxalis dillenii', 'crataegus monogyna', 'robinia pseudoacacia', 'centaurea scabiosa', 'campanula rotundifolia', 'vicia cracca', 'lycopus europaeus', 'erigeron canadensis', 'petrorhagia saxifraga', 'cirsium vulgare', 'tripleurospermum maritimum', 'heracleum sphondylium', 'geranium molle', 'geum urbanum', 'buddleja davidii', 'lythrum salicaria', 'viburnum opulus', 'rubus caesius', 'stachys palustris', 'persicaria maculosa', 'persicaria longiseta', 'achillea ptarmica', 'geranium pratense', 'malva alcea', 'ligustrum vulgare', 'oenothera biennis', 'anemone sylvestris', 'jacobaea vulgaris', 'artemisia verlotiorum', 'cirsium palustre', 'linaria vulgaris', 'lactuca serriola', 'x', 'matricaria chamomilla', 'melilotus officinalis', 'populus alba', 'malva sylvestris', 'verbascum densiflorum', 'diplotaxis tenuifolia', 'packera aurea', 'rosa canina', 'cymbalaria muralis', 'seseli libanotis', 'reseda lutea', 'solanum dulcamara', 'cirsium oleraceum', 'angelica sylvestris', 'origanum vulgare', 'sedum sexangulare', 'dipsacus fullonum', 'alnus glutinosa', 'prenanthes purpurea', 'rubus fruticosus', 'campanula scheuchzeri', 'campanula trachelium', 'filipendula ulmaria', 'knautia dipsacifolia', 'verbascum lychnitis', 'verbascum nigrum', 'rubus idaeus', 'lactuca muralis', 'solidago virgaurea', 'rumex obtusifolius', 'chaerophyllum aureum', 'arctium lappa', 'acer pseudoplatanus', 'malva moschata', 'cosmos bipinnatus', 'symphytum officinale', 'onobrychis viciifolia', 'securigera varia', 'bellis perennis', 'circaea lutetiana', 'chaerophyllum temulum', 'viburnum lantana', 'trifolium dubium', 'corylus cornuta', 'prunus spinosa', 'silene dioica', 'reynoutria japonica', 'pilosella aurantiaca', 'mentha aquatica', 'picris hieracioides', 'ligustrum sinense', 'symphoricarpos albus', 'corylus avellana', 'viburnum rhytidophyllum', 'lathyrus latifolius', 'stachys byzantina', 'stachys recta', 'prunella grandiflora', 'eupatorium serotinum', 'stellaria aquatica', 'impatiens glandulifera', 'salix alba', 'salix purpurea', 'galium album', 'sisymbrium officinale', 'chaenorhinum minus', 'geranium pusillum', 'lepidium virginicum', 'salvia pratensis', 'succisa pratensis', 'crepis biennis', 'saponaria officinalis', 'cotoneaster horizontalis', 'epilobium angustifolium', 'epilobium parviflorum', 'epilobium fleischeri', 'hippocrepis emerus', 'hypochaeris radicata', 'trifolium medium', 'clinopodium nepeta', 'linaria repens', 'cyclamen purpurascens', 'lysimachia arvensis', 'rorippa sylvestris', 'melampyrum pratense', 'rudbeckia hirta', 'antirrhinum majus', 'oxalis corniculata', 'solanum ptychanthum', 'ranunculus repens', 'aethusa cynapium', 'epilobium roseum', 'veronica beccabunga', 'cyclamen hederifolium', 'lathyrus sylvestris', 'lathyrus pratensis', 'epilobium collinum', 'hylotelephium telephium', 'salvia glutinosa', 'campanula rapunculoides', 'campanula rhomboidalis', 'carduus personata', 'dipsacus pilosus', 'leontodon hispidus', 'petasites hybridus', 'salix nigra', 'rorippa islandica', 'tussilago farfara', 'persicaria lapathifolia', 'phlox pilosa', 'rosa spinosissima', 'rapistrum rugosum', 'geranium rotundifolium', 'hieracium morulum', 'pseudofumaria lutea', 'aria edulis', 'allium carinatum', 'lysimachia vulgaris'])\n"
     ]
    },
    {
     "ename": "TypeError",
     "evalue": "write() argument must be str, not list",
     "output_type": "error",
     "traceback": [
      "\u001b[0;31m---------------------------------------------------------------------------\u001b[0m",
      "\u001b[0;31mTypeError\u001b[0m                                 Traceback (most recent call last)",
      "\u001b[0;32m<ipython-input-4-ad4f453a9339>\u001b[0m in \u001b[0;36m<module>\u001b[0;34m\u001b[0m\n\u001b[1;32m      3\u001b[0m \u001b[0mprint\u001b[0m\u001b[0;34m(\u001b[0m\u001b[0moccurencesummary\u001b[0m\u001b[0;34m[\u001b[0m\u001b[0;36m3\u001b[0m\u001b[0;34m]\u001b[0m\u001b[0;34m)\u001b[0m\u001b[0;34m\u001b[0m\u001b[0;34m\u001b[0m\u001b[0m\n\u001b[1;32m      4\u001b[0m \u001b[0mnewfile\u001b[0m \u001b[0;34m=\u001b[0m \u001b[0mopen\u001b[0m\u001b[0;34m(\u001b[0m\u001b[0;34m\"occurencesummary.txt\"\u001b[0m\u001b[0;34m,\u001b[0m \u001b[0;34m'w'\u001b[0m\u001b[0;34m)\u001b[0m\u001b[0;34m\u001b[0m\u001b[0;34m\u001b[0m\u001b[0m\n\u001b[0;32m----> 5\u001b[0;31m \u001b[0mnewfile\u001b[0m\u001b[0;34m.\u001b[0m\u001b[0mwrite\u001b[0m\u001b[0;34m(\u001b[0m\u001b[0moccurencesummary\u001b[0m\u001b[0;34m)\u001b[0m\u001b[0;34m\u001b[0m\u001b[0;34m\u001b[0m\u001b[0m\n\u001b[0m\u001b[1;32m      6\u001b[0m \u001b[0mnewfile\u001b[0m\u001b[0;34m.\u001b[0m\u001b[0mclose\u001b[0m\u001b[0;34m(\u001b[0m\u001b[0;34m)\u001b[0m\u001b[0;34m\u001b[0m\u001b[0;34m\u001b[0m\u001b[0m\n\u001b[1;32m      7\u001b[0m \u001b[0mcomparison\u001b[0m \u001b[0;34m=\u001b[0m \u001b[0mutility\u001b[0m\u001b[0;34m.\u001b[0m\u001b[0mcompared\u001b[0m\u001b[0;34m(\u001b[0m\u001b[0moccurencesummary\u001b[0m\u001b[0;34m[\u001b[0m\u001b[0;36m3\u001b[0m\u001b[0;34m]\u001b[0m\u001b[0;34m[\u001b[0m\u001b[0;36m1\u001b[0m\u001b[0;34m]\u001b[0m\u001b[0;34m,\u001b[0m \u001b[0mfloralist\u001b[0m\u001b[0;34m[\u001b[0m\u001b[0;36m9\u001b[0m\u001b[0;34m]\u001b[0m\u001b[0;34m)\u001b[0m\u001b[0;34m\u001b[0m\u001b[0;34m\u001b[0m\u001b[0m\n",
      "\u001b[0;31mTypeError\u001b[0m: write() argument must be str, not list"
     ]
    }
   ],
   "source": [
    "#total number of different values for each variable in data.\n",
    "occurencesummary = utility.occurencelists(data2020)\n",
    "print(occurencesummary[3])\n",
    "newfile = open(\"occurencesummary.txt\", 'w')\n",
    "newfile.write(occurencesummary)\n",
    "newfile.close()\n",
    "comparison = utility.compared(occurencesummary[3][1], floralist[9])\n",
    "print(comparison)"
   ]
  },
  {
   "cell_type": "code",
   "execution_count": null,
   "metadata": {},
   "outputs": [],
   "source": []
  }
 ],
 "metadata": {
  "kernelspec": {
   "display_name": "Python 3",
   "language": "python",
   "name": "python3"
  },
  "language_info": {
   "codemirror_mode": {
    "name": "ipython",
    "version": 3
   },
   "file_extension": ".py",
   "mimetype": "text/x-python",
   "name": "python",
   "nbconvert_exporter": "python",
   "pygments_lexer": "ipython3",
   "version": "3.8.3"
  }
 },
 "nbformat": 4,
 "nbformat_minor": 5
}
