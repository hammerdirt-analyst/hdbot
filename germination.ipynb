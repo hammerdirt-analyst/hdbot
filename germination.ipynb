{
 "cells": [
  {
   "cell_type": "markdown",
   "id": "cc0cf0b5-4f63-4b69-a638-4b37229b5eca",
   "metadata": {},
   "source": [
    "## Wildflower germination\n",
    "\n",
    "Germinating and propogating wildflowers ranges from the very easy to the very difficult. In comparison to the number of wildflowers one finds in the areas around Biel/Bienne, there is relatively little information on the propogation of many species readily available. In order to germinate the wildflower seeds representative of Biel/Bienne, and in particular the Felseck biotope, a number of different factors must be accounted for. Seeds have been divided into those that are easy to germinate and those that are difficult. For easy to germinate seeds, they will follow a standard planting protocol laid out below. For those that are difficult, the will be germinated in a similar manner, but will also be tested against different combinations of light and dark and cold stratification.\n",
    "\n",
    "### Preparation\n",
    "\n",
    "\n",
    "The list of seeds representative of the Felseck biotope was taken by crossing some of the plant observations at this site made by Gabrial Erismann and Ursula Albrecht with the regional seeds available for use in the Equipe Volo garden and storage unit. They are in the following table with their provenance:\n",
    "\n",
    "INSERT TABLE \n",
    "\n",
    "\n",
    "Information on germination of the list of wildflowers is collected from the advice of Julia Bäuerlein, reference books, databases and various academic publications identified through online searches.\n",
    "\n",
    "\n",
    "* The germination requirements for these wildflower species are searched online to identify the paramaters for a reasonable germination. The parameters are the following: cold stratification, scarification, alternating temperature, temperature, and light.\n",
    "* These paramaters are collected into a database and used to germinate the plant species.\n",
    "* If the paramaters of a plant is not identified, then the parameters for a close relative (genus level) are used.\n",
    "\n",
    "### Germination\n",
    "\n",
    "#### \"Easy seeds\"\n",
    "These seeds will be germinated in shallow concrete containers directly above a heating unit in an appartment in Biel. The trays contain either (1) a mixture of coconut coir (40%), sand (40%), sterilized compost (20%), or (2) an organic germination soil of the OECO Plan brand from Coop. \n",
    "\n",
    "They are divided into light and dark type and each will follow the same protocol with the only differences being the following:\n",
    "* placement of the containers: light-type will be placed underneth a large window with full aftenoon sun; dark-type in a closed room.\n",
    "* depth of seed burial: light-type will be sown near the surface with only a fine layer of growing medium above. Dark-type seeds will be planted deeper (SPECIFY) and the light-type seeds will be planted .  following protocol is used to sow the seeds:\n",
    "\n",
    "The daily protocols are the following:\n",
    "* The temperature will be taken each day (CA 20 C),\n",
    "* The seed trays will be exposed to light throughout the day, direct light in the aftenoon\n",
    "* Each concrete container will be covered with a layer of plastic wrap \n",
    "* Containers moist by misting twice daily.\n",
    "* Presence and quantity of germinated plants noted each day.\n",
    "\n",
    "#### Alternating temperatures & lower temperature seeds\n",
    "These seeds do not require scarification or stratification but need to be subjected to cooler average temperatures or fluctuating temperatures will be germinated under the same conditions as the \"easy seeds\" but will be kept on a balcony exposed to alternating, cooler fall temperatures but sheltered from wind and extremes.\n",
    "\n",
    "In all other respects, the same protocols will be followed.\n",
    "\n",
    "\n",
    "\n",
    "### Planting\n",
    "Seeds that need to be cold stratified will be sowed directly into larger containers and placed outside . \n",
    "The germinated seedlings will be maintained until they are large enough to transplant into buckets or their final pot.\n",
    "\n",
    "### Data\n",
    "- how often to assess the different variables?\n",
    "- are we looking at variables beyond the germination rate ? Or even just \"succesful\" germination defined as got enough plants from my seeds to serve my purpose.\n",
    "- "
   ]
  }
 ],
 "metadata": {
  "kernelspec": {
   "display_name": "Python 3 (ipykernel)",
   "language": "python",
   "name": "python3"
  },
  "language_info": {
   "codemirror_mode": {
    "name": "ipython",
    "version": 3
   },
   "file_extension": ".py",
   "mimetype": "text/x-python",
   "name": "python",
   "nbconvert_exporter": "python",
   "pygments_lexer": "ipython3",
   "version": "3.8.11"
  }
 },
 "nbformat": 4,
 "nbformat_minor": 5
}
