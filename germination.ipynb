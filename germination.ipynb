{
 "cells": [
  {
   "cell_type": "markdown",
   "id": "cc0cf0b5-4f63-4b69-a638-4b37229b5eca",
   "metadata": {},
   "source": [
    "## Germinating wildflowers\n",
    "\n",
    "There are a wide range of germination conditions for regional wildflowers, information on which is often not readily available. This simple experiment will test which species germinate under the simple conditions of being kept moist, at 20 degrees celsius, and exposed to the light of a large easterly facing window.\n",
    "\n",
    "This experiment is not focused on the germination rate, rather on whether a small, moderate, or large amount of seeds yielded no seedlings, some seedlings, or full cells of seedlings. Keeping the data easy to measure and record allows for a large number of species with varied ages and storage conditions to be tested. For species with a clearly high germination rate under these conditions, they will be noted, the seedlings transferred to an unheated greenhouse to weather the winter and used for the next year. For the others, different germination conditions will be tried in similar continuous experiments to identify methods that can reliably germinate these plants.\n",
    "\n",
    "\n",
    "### Preparation\n",
    "\n",
    "The seeds chosen for germination come from the following sources:\n",
    "* Seeds collected around Biel/Bienne and La Chaux-de-Fonds during the 2020 or 2021 plant surveys\n",
    "* Seeds collcted \n",
    "\n",
    "INSERT TABLE \n",
    "\n",
    "\n",
    "Information on germination of the list of wildflowers is collected from the advice of Julia Bäuerlein, reference books, databases and various academic publications identified through online searches.\n",
    "\n",
    "\n",
    "* The germination requirements for these wildflower species are searched online to identify the paramaters for a reasonable germination. The parameters are the following: cold stratification, scarification, alternating temperature, temperature, and light.\n",
    "* These paramaters are collected into a database and used to germinate the plant species.\n",
    "* If the paramaters of a plant is not identified, then the parameters for a close relative (genus level) are used.\n",
    "\n",
    "### Germination\n",
    "\n",
    "#### \"Easy seeds\"\n",
    "These seeds will be germinated in shallow concrete containers directly above a heating unit in an appartment in Biel. The trays contain either (1) a mixture of coconut coir (40%), sand (40%), sterilized compost (20%), or (2) an organic germination soil of the OECO Plan brand from Coop. \n",
    "\n",
    "They are divided into light and dark type and each will follow the same protocol with the only differences being the following:\n",
    "* placement of the containers: light-type will be placed underneth a large window with full aftenoon sun; dark-type in a closed room.\n",
    "* depth of seed burial: light-type will be sown near the surface with only a fine layer of growing medium above. Dark-type seeds will be planted deeper (SPECIFY) and the light-type seeds will be planted .  following protocol is used to sow the seeds:\n",
    "\n",
    "The daily protocols are the following:\n",
    "* The temperature will be taken each day (CA 20 C),\n",
    "* The seed trays will be exposed to light throughout the day, direct light in the aftenoon\n",
    "* Each concrete container will be covered with a layer of plastic wrap \n",
    "* Containers moist by misting twice daily.\n",
    "* Presence and quantity of germinated plants noted each day.\n",
    "\n",
    "#### Alternating temperatures & lower temperature seeds\n",
    "These seeds do not require scarification or stratification but need to be subjected to cooler average temperatures or fluctuating temperatures will be germinated under the same conditions as the \"easy seeds\" but will be kept on a balcony exposed to alternating, cooler fall temperatures but sheltered from wind and extremes.\n",
    "\n",
    "In all other respects, the same protocols will be followed.\n",
    "\n",
    "\n",
    "\n",
    "### Planting\n",
    "Seeds that need to be cold stratified will be sowed directly into larger containers and placed outside . \n",
    "The germinated seedlings will be maintained until they are large enough to transplant into buckets or their final pot.\n",
    "\n",
    "### Data\n",
    "- how often to assess the different variables?\n",
    "- are we looking at variables beyond the germination rate ? Or even just \"succesful\" germination defined as got enough plants from my seeds to serve my purpose.\n",
    "- "
   ]
  }
 ],
 "metadata": {
  "kernelspec": {
   "display_name": "Python 3 (ipykernel)",
   "language": "python",
   "name": "python3"
  },
  "language_info": {
   "codemirror_mode": {
    "name": "ipython",
    "version": 3
   },
   "file_extension": ".py",
   "mimetype": "text/x-python",
   "name": "python",
   "nbconvert_exporter": "python",
   "pygments_lexer": "ipython3",
   "version": "3.8.12"
  }
 },
 "nbformat": 4,
 "nbformat_minor": 5
}
