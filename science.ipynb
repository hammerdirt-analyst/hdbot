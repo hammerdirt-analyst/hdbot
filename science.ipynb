{
 "cells": [
  {
   "cell_type": "markdown",
   "id": "95f30fd8-3cd3-4719-90d4-7f4ea28b781b",
   "metadata": {},
   "source": [
    "# Proposed citizen science initiatives"
   ]
  },
  {
   "cell_type": "markdown",
   "id": "4a8da502-06dd-45eb-8a31-e0e002d3e56f",
   "metadata": {},
   "source": [
    "There are a number of collaborative possibilities for interested citizens to aid in advancing the art and science of growing productive, sustainable urban and periurban wildflower meadows."
   ]
  },
  {
   "cell_type": "markdown",
   "id": "b780a193-e42d-456c-8447-d85f81c14466",
   "metadata": {},
   "source": [
    "## Contributions to plant survey data\n",
    "* When collecting seeds, an additional 15 minutes of plant survey time to document the presence (and other factors depending on time available) could provide infoflora and other regional managers with useful data on populations.\n",
    "* Construct and maintain a relatively detailed observational database of plant life around the city to inform policymakers and interested stakeholders of the evolution of local plant life over time.\n",
    "* Gather knowledge from local experts, activists and gardeners who may know where plant populations are but have not officially recorded them."
   ]
  },
  {
   "cell_type": "markdown",
   "id": "57bf60a1-30f2-45a7-9e73-75d0ddad2fed",
   "metadata": {},
   "source": [
    "## Genetic and phenotypic diversity within vascular plant species\n",
    "* compare the levels of genetic diversity in commercial seeds to seeds collected by Equipe Volo\n",
    "* compares \n",
    "* compare viability of local to commercial seeds (germination, etc, etc)"
   ]
  },
  {
   "cell_type": "markdown",
   "id": "6f09bb40-ffd3-4190-a1aa-e6c7acad35f1",
   "metadata": {},
   "source": [
    "## Hemiparasites\n",
    "Hemiparasitic plants are a fascinating phenomenon and they are often becoming increasingly rare. They are however potentially valuable for urban restoration projects as they can reduce the vigour of aggressive members of Poaceae and Fabulaceae that can quickly dominate urban restoration projects.\n",
    "Three hemiparasitic plants, Rhinanthus minor, Melampyrum arvense and M. nemorosum, will be grown in pots under the following configurations:\n",
    "* Mature host plants Brizola media (poaceae) and Melilotus alba (fabaceae) are already present and the hemiparasite is planted alongside its roots\n",
    "* A host plant (medicago lupulina and medicago sativa) and the hemiparasite are planted at the same time with the host plant germinated first\n",
    "* No host plants\n",
    "\n",
    "\n",
    "Origin of hemiparasites:\n",
    "* Melanpyrum arvense gathered from UA/Equipe Volo (qty tbd)\n",
    "* Commercial Melanpyrum arvense from Germany (1 seed packet)\n",
    "* Rhinanthus minor gathered from La Chaux-de-Fonds (qty tbd)\n",
    "* Melanpyrum nemorosum gathered from Felseck (qty tbd)\n",
    "\n",
    "\n",
    "Origin and quantity of host plants:\n",
    "* +/- 24 melilotus alba plants (6 commercial melanpyrum, 6 \n",
    "* +/- 12 pots of Brizola minor\n",
    "* +/- 3 grams medicago lupulina seeds"
   ]
  },
  {
   "cell_type": "markdown",
   "id": "8218dca6-87b8-440f-941a-0daf17b932d2",
   "metadata": {},
   "source": [
    "## Wildflower germination\n",
    "\n",
    "In order to germinate the wildflower seeds representative of the Felseck biotope a number of different factors must be accounted for. Seeds have been divided into those that are easy to germinate and those that are difficult. For easy to germinate seeds, they will follow a standard planting protocol, those that are difficult will be tested in a number of different combinations of light, alternating temperature, and cold stratification.\n",
    "\n",
    "For difficult to germinate seeds, a germination experiment will be run to alternateneeds to be run. Germinating wildflowers from seed is a nontrivial exercise and the required information to do so in an efficient way is not readily available, at least not publicly.\n",
    "\n",
    "### Preparation\n",
    "\n",
    "The list of seeds representative of the Felseck biotope was taken by crossing some of the plant observations at this site made by Gabrial Erismann and Ursula Albrecht with the regional seeds available for use in the Equipe Volo garden and storage unit. They are the following:\n",
    "* Anthericum racimosum\n",
    "* Aster amellus\n",
    "* Aster linosyrus\n",
    "* Centaurea montana\n",
    "* Cichorium Intybus\n",
    "* Campanula perscifolia\n",
    "* Campanula rotundifolia\n",
    "* Dianthus superbus\n",
    "* Dianthus carthusienorum\n",
    "* Dianthus sylvestris\n",
    "* Euphorbia cyparissias\n",
    "* Epi\n",
    "\n",
    "#### Easy to germinate seeds\n",
    "\n",
    "The easy to germinate seeds will be will be germinated in a warm, well-lit environment. They are\n",
    "\n",
    "Information on germination of the list of wildflowers is collected from various academic publications. One publication of particular mention is the database SylvanSeeds available here: https://efernandezpascual.github.io/home/sylvanseeds.html. The database is constructed as follows:\n",
    "* The species selected corresponds to two lists of species. The first is a list of species as representative of the Felseck biotope. The second is a list of species collected from around Biel.\n",
    "* The germination requirements for these wildflower species are searched online to identify the paramaters for a reasonable germination. The parameters are the following: cold stratification, scarification, alternating temperature, temperature, and light.\n",
    "* These paramaters are collected into a database and used to germinate the plant species.\n",
    "* If the paramaters of a plant is not identified, then the parameters for a close relative (genus level) are used.\n",
    "\n",
    "### Germination\n",
    "\n",
    "The seeds will be planted into the following containers and divided into locations based on their temperature requirements for germination. Seeds that do not need to be cold stratified will be placed in different locations according to the following:\n",
    "* Fluctuating temperature : greenhouse\n",
    "* Constant temperature : home\n",
    "* Alternating, higher temperatu: outside greenhouse\n",
    "* Alternating, lower temperature: inside greenhouse\n",
    "\n",
    "They will be placed in the following \n",
    "\n",
    "### Planting\n",
    "Seeds that need to be cold stratified will be sowed directly into larger containers and placed outside . \n",
    "The germinated seedlings will be maintained until they are large enough to transplant into buckets or their final pot.\n",
    "\n",
    "### Data\n",
    "- how often to assess the different variables?\n",
    "- are we looking at variables beyond the germination rate ? Or even just \"succesful\" germination defined as got enough plants from my seeds to serve my purpose.\n",
    "- "
   ]
  },
  {
   "cell_type": "markdown",
   "id": "7860e72f-c11e-47b5-955b-c40467422fd4",
   "metadata": {},
   "source": [
    "Links not yet in bib file:\n",
    "\n",
    "https://www.zora.uzh.ch/id/eprint/131707/1/Matthies_2017_submitted.pdf\n",
    "\n"
   ]
  }
 ],
 "metadata": {
  "kernelspec": {
   "display_name": "Python 3 (ipykernel)",
   "language": "python",
   "name": "python3"
  },
  "language_info": {
   "codemirror_mode": {
    "name": "ipython",
    "version": 3
   },
   "file_extension": ".py",
   "mimetype": "text/x-python",
   "name": "python",
   "nbconvert_exporter": "python",
   "pygments_lexer": "ipython3",
   "version": "3.8.11"
  }
 },
 "nbformat": 4,
 "nbformat_minor": 5
}
