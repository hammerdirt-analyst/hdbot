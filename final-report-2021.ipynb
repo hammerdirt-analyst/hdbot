{
 "cells": [
  {
   "cell_type": "markdown",
   "id": "touched-anatomy",
   "metadata": {},
   "source": [
    "# The Flowers Around the City - A report on the flora of Biel/Bienne\n",
    "\n",
    "The second year of surveying is coming to a close in mid-October and construction of the second year report will begin shortly. Check back for updates!"
   ]
  },
  {
   "cell_type": "markdown",
   "id": "dense-auckland",
   "metadata": {},
   "source": [
    "# Abstract\n",
    "\n",
    "A number of plant surveys were conducted between March - October 2021 resulting in more than 4000 observations of herbeaceous plants, concentrated on public spaces in urban and suburban areas of Biel / Bienne. The results are TBD"
   ]
  }
 ],
 "metadata": {
  "kernelspec": {
   "display_name": "Python 3",
   "language": "python",
   "name": "python3"
  },
  "language_info": {
   "codemirror_mode": {
    "name": "ipython",
    "version": 3
   },
   "file_extension": ".py",
   "mimetype": "text/x-python",
   "name": "python",
   "nbconvert_exporter": "python",
   "pygments_lexer": "ipython3",
   "version": "3.8.2"
  }
 },
 "nbformat": 4,
 "nbformat_minor": 5
}
