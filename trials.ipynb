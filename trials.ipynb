{
 "cells": [
  {
   "cell_type": "markdown",
   "id": "electrical-reader",
   "metadata": {},
   "source": [
    "working file"
   ]
  },
  {
   "cell_type": "markdown",
   "id": "crucial-product",
   "metadata": {},
   "source": [
    "import statements"
   ]
  },
  {
   "cell_type": "code",
   "execution_count": 1,
   "id": "checked-diana",
   "metadata": {},
   "outputs": [],
   "source": [
    "import pandas as pd\n",
    "import datetime as dt\n",
    "import numpy as np\n",
    "import matplotlib as mpl\n",
    "import matplotlib.pyplot as plt\n",
    "import seaborn as sns\n",
    "import os\n",
    "import sys"
   ]
  },
  {
   "cell_type": "markdown",
   "id": "palestinian-albania",
   "metadata": {},
   "source": [
    "load the data files"
   ]
  },
  {
   "cell_type": "code",
   "execution_count": 12,
   "id": "minute-spotlight",
   "metadata": {},
   "outputs": [
    {
     "data": {
      "text/html": [
       "<div>\n",
       "<style scoped>\n",
       "    .dataframe tbody tr th:only-of-type {\n",
       "        vertical-align: middle;\n",
       "    }\n",
       "\n",
       "    .dataframe tbody tr th {\n",
       "        vertical-align: top;\n",
       "    }\n",
       "\n",
       "    .dataframe thead th {\n",
       "        text-align: right;\n",
       "    }\n",
       "</style>\n",
       "<table border=\"1\" class=\"dataframe\">\n",
       "  <thead>\n",
       "    <tr style=\"text-align: right;\">\n",
       "      <th></th>\n",
       "      <th>Taxon_Id</th>\n",
       "      <th>ISFS</th>\n",
       "      <th>Espèce</th>\n",
       "      <th>Code WS</th>\n",
       "      <th>Introduite</th>\n",
       "      <th>Nb. Obs.</th>\n",
       "      <th>Années (min)</th>\n",
       "      <th>Années (max)</th>\n",
       "      <th>Douteuse (?)</th>\n",
       "    </tr>\n",
       "  </thead>\n",
       "  <tbody>\n",
       "    <tr>\n",
       "      <th>0</th>\n",
       "      <td>1000000</td>\n",
       "      <td>100.0</td>\n",
       "      <td>Abies alba Mill.</td>\n",
       "      <td>Fréquent</td>\n",
       "      <td>Indigène</td>\n",
       "      <td>9</td>\n",
       "      <td>1955</td>\n",
       "      <td>2020</td>\n",
       "      <td>NaN</td>\n",
       "    </tr>\n",
       "    <tr>\n",
       "      <th>1</th>\n",
       "      <td>1000020</td>\n",
       "      <td>150.0</td>\n",
       "      <td>Abutilon theophrasti Medik.</td>\n",
       "      <td>-</td>\n",
       "      <td>Néophyte</td>\n",
       "      <td>1</td>\n",
       "      <td>2018</td>\n",
       "      <td>2018</td>\n",
       "      <td>NaN</td>\n",
       "    </tr>\n",
       "    <tr>\n",
       "      <th>2</th>\n",
       "      <td>1000070</td>\n",
       "      <td>300.0</td>\n",
       "      <td>Acer campestre L.</td>\n",
       "      <td>Fréquent</td>\n",
       "      <td>Indigène</td>\n",
       "      <td>32</td>\n",
       "      <td>1953</td>\n",
       "      <td>2020</td>\n",
       "      <td>NaN</td>\n",
       "    </tr>\n",
       "    <tr>\n",
       "      <th>3</th>\n",
       "      <td>1000110</td>\n",
       "      <td>600.0</td>\n",
       "      <td>Acer opalus Mill.</td>\n",
       "      <td>Fréquent</td>\n",
       "      <td>Indigène</td>\n",
       "      <td>26</td>\n",
       "      <td>1901</td>\n",
       "      <td>2020</td>\n",
       "      <td>NaN</td>\n",
       "    </tr>\n",
       "    <tr>\n",
       "      <th>4</th>\n",
       "      <td>1000120</td>\n",
       "      <td>700.0</td>\n",
       "      <td>Acer platanoides L.</td>\n",
       "      <td>Fréquent</td>\n",
       "      <td>Indigène</td>\n",
       "      <td>24</td>\n",
       "      <td>1982</td>\n",
       "      <td>2020</td>\n",
       "      <td>NaN</td>\n",
       "    </tr>\n",
       "  </tbody>\n",
       "</table>\n",
       "</div>"
      ],
      "text/plain": [
       "   Taxon_Id   ISFS                       Espèce   Code WS Introduite  \\\n",
       "0   1000000  100.0             Abies alba Mill.  Fréquent   Indigène   \n",
       "1   1000020  150.0  Abutilon theophrasti Medik.         -   Néophyte   \n",
       "2   1000070  300.0            Acer campestre L.  Fréquent   Indigène   \n",
       "3   1000110  600.0            Acer opalus Mill.  Fréquent   Indigène   \n",
       "4   1000120  700.0          Acer platanoides L.  Fréquent   Indigène   \n",
       "\n",
       "   Nb. Obs.  Années (min)  Années (max) Douteuse (?)  \n",
       "0         9          1955          2020          NaN  \n",
       "1         1          2018          2018          NaN  \n",
       "2        32          1953          2020          NaN  \n",
       "3        26          1901          2020          NaN  \n",
       "4        24          1982          2020          NaN  "
      ]
     },
     "execution_count": 12,
     "metadata": {},
     "output_type": "execute_result"
    }
   ],
   "source": [
    "here = os.getcwd()\n",
    "\n",
    "#loads gps-location name correspondance file\n",
    "afilename = here+\"/data/2020/map-keys-2020.csv\"\n",
    "places = pd.read_csv(afilename)\n",
    "\n",
    "#loads species data set\n",
    "afilename = here+\"/data/2020/species2020_full.csv\"\n",
    "samples = pd.read_csv(afilename)\n",
    "\n",
    "#loads the latest (2014) list of black list/watch list of species for Switzerland from Flora Helvetica, available here: https://www.infoflora.ch/fr/neophytes/listes-et-fiches.html\n",
    "\n",
    "afilename = here+\"/data/florahelvetica/BL_WL_2014_modified.csv\"\n",
    "invasives = pd.read_csv(afilename)\n",
    "\n",
    "#loads the Welten-Sutter list of species for the plots containing surveys, all hosted by Infoflora\n",
    "#the two observations from the Doubs are not included in these counts.\n",
    "\n",
    "afilename = here+\"/data/florahelvetica/AtlasWS_151_Biel.csv\"\n",
    "ws151 = pd.read_csv(afilename, encoding = \"utf-16\")\n",
    "afilename = here+\"/data/florahelvetica/AtlasWS_151_Biel.csv\"\n",
    "ws226 = pd.read_csv(afilename, encoding = \"utf-16\")\n",
    "afilename = here+\"/data/florahelvetica/AtlasWS_151_Biel.csv\"\n",
    "ws252 = pd.read_csv(afilename, encoding = \"utf-16\")\n",
    "afilename = here+\"/data/florahelvetica/AtlasWS_151_Biel.csv\"\n",
    "ws572 = pd.read_csv(afilename, encoding = \"utf-16\")\n",
    "afilename = here+\"/data/florahelvetica/AtlasWS_151_Biel.csv\"\n",
    "ws573 = pd.read_csv(afilename, sep = \";\", encoding = \"utf-16\")\n",
    "\n",
    "#loads the list of under identified species that Infloflora requests be announced\n",
    "afilename = here+\"/data/florahelvetica/taxa_sous_echantillonnes.csv\"\n",
    "taxase = pd.read_csv(afilename)\n",
    "\n",
    "#loads the list of species identified in the 5X5 kilomter square around Biel that corresponds well to the majority of the survey locations\n",
    "afilename = here+\"/data/florahelvetica/Atlas5x5_585_220.csv\"\n",
    "fivexfive_biel = pd.read_csv(afilename, encoding = \"utf-16\")\n",
    "\n",
    "fivexfive_biel.head()"
   ]
  },
  {
   "cell_type": "markdown",
   "id": "reflected-edwards",
   "metadata": {},
   "source": [
    "date data"
   ]
  },
  {
   "cell_type": "code",
   "execution_count": 3,
   "id": "second-aside",
   "metadata": {},
   "outputs": [
    {
     "name": "stdout",
     "output_type": "stream",
     "text": [
      "0    2020-09-02\n",
      "dtype: object\n",
      "count            935\n",
      "unique            65\n",
      "top       2020-09-02\n",
      "freq              55\n",
      "Name: date, dtype: object\n",
      "count    935.000000\n",
      "mean       7.898396\n",
      "std        0.901668\n",
      "min        6.000000\n",
      "25%        7.000000\n",
      "50%        8.000000\n",
      "75%        9.000000\n",
      "max        9.000000\n",
      "Name: month, dtype: float64\n",
      "the unique months are:\n",
      "[9 7 6 8]\n"
     ]
    }
   ],
   "source": [
    "#check date data for missing values and converts to strptime format.\n",
    "def check_dates(x):\n",
    "    try:\n",
    "        data = dt.datetime.strptime(x, \"%Y-%m-%d\")\n",
    "    except:\n",
    "        data = 'no date'\n",
    "    return data\n",
    "\n",
    "samples['date_stamp'] = samples['date'].map(lambda x: check_dates(x))\n",
    "samples.sort_values('date', ascending = True)\n",
    "samples['month'] = samples.date_stamp.dt.month\n",
    "\n",
    "\n",
    "#basic date statistics\n",
    "first_date = samples.date.min()\n",
    "last_date = samples.date.max()\n",
    "mode_date = samples.date.mode() #highest number of species identified on this day.\n",
    "#number of locations per date (not the number of species identified)\n",
    "#access lists of species by date / by month\n",
    "\n",
    "print(mode_date)\n",
    "print(samples.date.describe())\n",
    "print(samples.month.describe())\n",
    "print(\"the unique months are:\")\n",
    "print(samples.month.unique())"
   ]
  },
  {
   "cell_type": "markdown",
   "id": "fluid-thriller",
   "metadata": {},
   "source": [
    "Species data"
   ]
  },
  {
   "cell_type": "code",
   "execution_count": 4,
   "id": "immediate-attraction",
   "metadata": {},
   "outputs": [],
   "source": [
    "#format species names to be compatible\n",
    "\n",
    "invasives.rename(columns={\"Latin\":\"name\"}, inplace = True)\n",
    "def change_species(x):\n",
    "    try: \n",
    "        int_data = x.split()\n",
    "        data = int_data[:2]\n",
    "        data = \" \".join(data)\n",
    "        data = data.lower()\n",
    "    except:\n",
    "        data = F\"wrong {x}\"\n",
    "    return data\n",
    "\n",
    "invasives[\"species\"] = invasives.name.map(lambda x: change_species(x))\n",
    "ws151[\"species1\"] = ws151.species.map(lambda x: change_species(x))\n",
    "taxase[\"species\"] = taxase.taxon.map(lambda x: change_species(x))\n",
    "\n",
    "#pull out watch list and black list from invasives df to compare to my list of species identified.\n",
    "#samples[\"danger_list\"] = samples.species.map(lambda x: add_lists(x))\n",
    "\n"
   ]
  },
  {
   "cell_type": "code",
   "execution_count": 5,
   "id": "assigned-sight",
   "metadata": {},
   "outputs": [
    {
     "data": {
      "text/plain": [
       "['robinia pseudoacacia',\n",
       " 'rubus armeniacus',\n",
       " 'symphoricarpos albus',\n",
       " 'impatiens glandulifera',\n",
       " 'solidago canadensis',\n",
       " 'artemisia verlotiorum',\n",
       " 'reynoutria japonica',\n",
       " 'erigeron annuus',\n",
       " 'senecio inaequidens',\n",
       " 'buddleja davidii']"
      ]
     },
     "execution_count": 5,
     "metadata": {},
     "output_type": "execute_result"
    }
   ],
   "source": [
    "#comparison with invasive lists\n",
    "\n",
    "#returns list and count of unique species identified\n",
    "my_species = samples.species.unique()\n",
    "their_species_inv = invasives.species.unique()\n",
    "inv_number = len(invasives[\"species\"])\n",
    "\n",
    "#returns the list and count of species in the sample that are also in the invasives list.\n",
    "\n",
    "int_inv = list(set(my_species)&set(their_species_inv))\n",
    "int_inv_count = len(int_inv)\n",
    "\n",
    "int_inv"
   ]
  },
  {
   "cell_type": "code",
   "execution_count": 6,
   "id": "global-england",
   "metadata": {},
   "outputs": [],
   "source": [
    "#Welten-Sutter list from area 151\n",
    "their_species_ws151 = ws151.species1.unique()\n",
    "\n",
    "#get the species areas for thoune\n",
    "\n",
    "int_ws151 = list(set(my_species)&set(their_species_ws151))\n",
    "com_ws151 = [x for x in samples.species.unique() if x not in ws151.species1.unique()]"
   ]
  },
  {
   "cell_type": "code",
   "execution_count": 7,
   "id": "bulgarian-norway",
   "metadata": {},
   "outputs": [
    {
     "data": {
      "text/plain": [
       "['stachys recta',\n",
       " 'leontodon hispidus',\n",
       " 'hypericum maculatum',\n",
       " 'malus sylvestris',\n",
       " 'trifolium pratense',\n",
       " 'vicia cracca',\n",
       " 'verbascum thapsus',\n",
       " 'heracleum sphondylium',\n",
       " 'centaurea scabiosa']"
      ]
     },
     "execution_count": 7,
     "metadata": {},
     "output_type": "execute_result"
    }
   ],
   "source": [
    "#under sampled taxa list\n",
    "\n",
    "their_species_taxase = taxase.species.unique()\n",
    "int_taxase = list(set(my_species)&set(their_species_taxase))\n",
    "int_taxase\n"
   ]
  },
  {
   "cell_type": "code",
   "execution_count": null,
   "id": "yellow-freight",
   "metadata": {},
   "outputs": [],
   "source": []
  },
  {
   "cell_type": "code",
   "execution_count": 8,
   "id": "weighted-budapest",
   "metadata": {},
   "outputs": [
    {
     "data": {
      "text/html": [
       "<div>\n",
       "<style scoped>\n",
       "    .dataframe tbody tr th:only-of-type {\n",
       "        vertical-align: middle;\n",
       "    }\n",
       "\n",
       "    .dataframe tbody tr th {\n",
       "        vertical-align: top;\n",
       "    }\n",
       "\n",
       "    .dataframe thead th {\n",
       "        text-align: right;\n",
       "    }\n",
       "</style>\n",
       "<table border=\"1\" class=\"dataframe\">\n",
       "  <thead>\n",
       "    <tr style=\"text-align: right;\">\n",
       "      <th></th>\n",
       "      <th>id number</th>\n",
       "      <th>ISFS</th>\n",
       "      <th>species</th>\n",
       "      <th>Code WS</th>\n",
       "      <th>Introduite</th>\n",
       "      <th>Nb. Obs.</th>\n",
       "      <th>Années (min)</th>\n",
       "      <th>Années (max)</th>\n",
       "      <th>Douteuse (?)</th>\n",
       "      <th>species1</th>\n",
       "    </tr>\n",
       "  </thead>\n",
       "  <tbody>\n",
       "    <tr>\n",
       "      <th>0</th>\n",
       "      <td>1000000</td>\n",
       "      <td>100.0</td>\n",
       "      <td>Abies alba Mill.</td>\n",
       "      <td>Fréquent</td>\n",
       "      <td>Indigène</td>\n",
       "      <td>71</td>\n",
       "      <td>1979</td>\n",
       "      <td>2021</td>\n",
       "      <td>NaN</td>\n",
       "      <td>abies alba</td>\n",
       "    </tr>\n",
       "    <tr>\n",
       "      <th>1</th>\n",
       "      <td>1000020</td>\n",
       "      <td>150.0</td>\n",
       "      <td>Abutilon theophrasti Medik.</td>\n",
       "      <td>-</td>\n",
       "      <td>Néophyte</td>\n",
       "      <td>1</td>\n",
       "      <td>2018</td>\n",
       "      <td>2018</td>\n",
       "      <td>NaN</td>\n",
       "      <td>abutilon theophrasti</td>\n",
       "    </tr>\n",
       "    <tr>\n",
       "      <th>2</th>\n",
       "      <td>1000060</td>\n",
       "      <td>250.0</td>\n",
       "      <td>Acanthus mollis L.</td>\n",
       "      <td>-</td>\n",
       "      <td>Subspontané</td>\n",
       "      <td>1</td>\n",
       "      <td>2006</td>\n",
       "      <td>2006</td>\n",
       "      <td>NaN</td>\n",
       "      <td>acanthus mollis</td>\n",
       "    </tr>\n",
       "    <tr>\n",
       "      <th>3</th>\n",
       "      <td>1000070</td>\n",
       "      <td>300.0</td>\n",
       "      <td>Acer campestre L.</td>\n",
       "      <td>Fréquent</td>\n",
       "      <td>Indigène</td>\n",
       "      <td>234</td>\n",
       "      <td>1940</td>\n",
       "      <td>2020</td>\n",
       "      <td>NaN</td>\n",
       "      <td>acer campestre</td>\n",
       "    </tr>\n",
       "    <tr>\n",
       "      <th>4</th>\n",
       "      <td>1000100</td>\n",
       "      <td>500.0</td>\n",
       "      <td>Acer negundo L.</td>\n",
       "      <td>-</td>\n",
       "      <td>Introduit</td>\n",
       "      <td>1</td>\n",
       "      <td>2009</td>\n",
       "      <td>2009</td>\n",
       "      <td>NaN</td>\n",
       "      <td>acer negundo</td>\n",
       "    </tr>\n",
       "  </tbody>\n",
       "</table>\n",
       "</div>"
      ],
      "text/plain": [
       "   id number   ISFS                      species   Code WS   Introduite  \\\n",
       "0    1000000  100.0             Abies alba Mill.  Fréquent     Indigène   \n",
       "1    1000020  150.0  Abutilon theophrasti Medik.         -     Néophyte   \n",
       "2    1000060  250.0           Acanthus mollis L.         -  Subspontané   \n",
       "3    1000070  300.0            Acer campestre L.  Fréquent     Indigène   \n",
       "4    1000100  500.0              Acer negundo L.         -    Introduit   \n",
       "\n",
       "   Nb. Obs.  Années (min)  Années (max) Douteuse (?)              species1  \n",
       "0        71          1979          2021          NaN            abies alba  \n",
       "1         1          2018          2018          NaN  abutilon theophrasti  \n",
       "2         1          2006          2006          NaN       acanthus mollis  \n",
       "3       234          1940          2020          NaN        acer campestre  \n",
       "4         1          2009          2009          NaN          acer negundo  "
      ]
     },
     "execution_count": 8,
     "metadata": {},
     "output_type": "execute_result"
    }
   ],
   "source": [
    "ws151.head()"
   ]
  },
  {
   "cell_type": "markdown",
   "id": "amateur-exhibition",
   "metadata": {},
   "source": [
    "location data"
   ]
  },
  {
   "cell_type": "code",
   "execution_count": 9,
   "id": "expanded-vietnam",
   "metadata": {},
   "outputs": [
    {
     "ename": "SyntaxError",
     "evalue": "invalid syntax (<ipython-input-9-a0b869db0529>, line 5)",
     "output_type": "error",
     "traceback": [
      "\u001b[0;36m  File \u001b[0;32m\"<ipython-input-9-a0b869db0529>\"\u001b[0;36m, line \u001b[0;32m5\u001b[0m\n\u001b[0;31m    def add_names\u001b[0m\n\u001b[0m                 ^\u001b[0m\n\u001b[0;31mSyntaxError\u001b[0m\u001b[0;31m:\u001b[0m invalid syntax\n"
     ]
    }
   ],
   "source": [
    "places.head()\n",
    "places.waterbody.unique()\n",
    "\n",
    "#using append both the waterbody name and the gps coordinates to the "
   ]
  },
  {
   "cell_type": "code",
   "execution_count": null,
   "id": "ultimate-baseball",
   "metadata": {},
   "outputs": [],
   "source": []
  },
  {
   "cell_type": "code",
   "execution_count": null,
   "id": "unavailable-feeling",
   "metadata": {},
   "outputs": [],
   "source": []
  }
 ],
 "metadata": {
  "kernelspec": {
   "display_name": "Python 3",
   "language": "python",
   "name": "python3"
  },
  "language_info": {
   "codemirror_mode": {
    "name": "ipython",
    "version": 3
   },
   "file_extension": ".py",
   "mimetype": "text/x-python",
   "name": "python",
   "nbconvert_exporter": "python",
   "pygments_lexer": "ipython3",
   "version": "3.8.2"
  }
 },
 "nbformat": 4,
 "nbformat_minor": 5
}
