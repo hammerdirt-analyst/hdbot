{
 "cells": [
  {
   "cell_type": "markdown",
   "id": "specified-occasions",
   "metadata": {},
   "source": [
    "trial and draft file"
   ]
  },
  {
   "cell_type": "markdown",
   "id": "chinese-agenda",
   "metadata": {},
   "source": [
    "import statements"
   ]
  },
  {
   "cell_type": "code",
   "execution_count": 1,
   "id": "assisted-flash",
   "metadata": {},
   "outputs": [],
   "source": [
    "import pandas as pd\n",
    "import datetime as dt\n",
    "import numpy as np\n",
    "import matplotlib as mpl\n",
    "import matplotlib.pyplot as plt\n",
    "import seaborn as sns\n",
    "import os\n",
    "import sys"
   ]
  },
  {
   "cell_type": "markdown",
   "id": "handed-proposition",
   "metadata": {},
   "source": [
    "load the data files"
   ]
  },
  {
   "cell_type": "code",
   "execution_count": 2,
   "id": "german-architect",
   "metadata": {},
   "outputs": [],
   "source": [
    "here = os.getcwd()\n",
    "\n",
    "#loads gps-location name correspondance file\n",
    "afilename = here+\"/data/2020/map-keys-2020.csv\"\n",
    "places = pd.read_csv(afilename)\n",
    "\n",
    "#loads species data set\n",
    "afilename = here+\"/data/2020/species2020_full.csv\"\n",
    "samples = pd.read_csv(afilename)"
   ]
  },
  {
   "cell_type": "markdown",
   "id": "portuguese-blogger",
   "metadata": {},
   "source": [
    "general data"
   ]
  },
  {
   "cell_type": "code",
   "execution_count": 3,
   "id": "molecular-structure",
   "metadata": {},
   "outputs": [
    {
     "data": {
      "text/html": [
       "<div>\n",
       "<style scoped>\n",
       "    .dataframe tbody tr th:only-of-type {\n",
       "        vertical-align: middle;\n",
       "    }\n",
       "\n",
       "    .dataframe tbody tr th {\n",
       "        vertical-align: top;\n",
       "    }\n",
       "\n",
       "    .dataframe thead th {\n",
       "        text-align: right;\n",
       "    }\n",
       "</style>\n",
       "<table border=\"1\" class=\"dataframe\">\n",
       "  <thead>\n",
       "    <tr style=\"text-align: right;\">\n",
       "      <th></th>\n",
       "      <th>place</th>\n",
       "      <th>date</th>\n",
       "      <th>species</th>\n",
       "      <th>name</th>\n",
       "      <th>slug</th>\n",
       "    </tr>\n",
       "  </thead>\n",
       "  <tbody>\n",
       "    <tr>\n",
       "      <th>count</th>\n",
       "      <td>935</td>\n",
       "      <td>935</td>\n",
       "      <td>935</td>\n",
       "      <td>671</td>\n",
       "      <td>935</td>\n",
       "    </tr>\n",
       "    <tr>\n",
       "      <th>unique</th>\n",
       "      <td>111</td>\n",
       "      <td>65</td>\n",
       "      <td>232</td>\n",
       "      <td>190</td>\n",
       "      <td>232</td>\n",
       "    </tr>\n",
       "    <tr>\n",
       "      <th>top</th>\n",
       "      <td>buren-2</td>\n",
       "      <td>2020-09-02</td>\n",
       "      <td>erigeron annuus</td>\n",
       "      <td>trèfle des prés</td>\n",
       "      <td>erigeron-annuus</td>\n",
       "    </tr>\n",
       "    <tr>\n",
       "      <th>freq</th>\n",
       "      <td>27</td>\n",
       "      <td>55</td>\n",
       "      <td>35</td>\n",
       "      <td>27</td>\n",
       "      <td>35</td>\n",
       "    </tr>\n",
       "  </tbody>\n",
       "</table>\n",
       "</div>"
      ],
      "text/plain": [
       "          place        date          species             name             slug\n",
       "count       935         935              935              671              935\n",
       "unique      111          65              232              190              232\n",
       "top     buren-2  2020-09-02  erigeron annuus  trèfle des prés  erigeron-annuus\n",
       "freq         27          55               35               27               35"
      ]
     },
     "execution_count": 3,
     "metadata": {},
     "output_type": "execute_result"
    }
   ],
   "source": [
    "samples.describe()"
   ]
  },
  {
   "cell_type": "markdown",
   "id": "worse-annotation",
   "metadata": {},
   "source": [
    "date data"
   ]
  },
  {
   "cell_type": "code",
   "execution_count": 4,
   "id": "wireless-correlation",
   "metadata": {},
   "outputs": [
    {
     "name": "stdout",
     "output_type": "stream",
     "text": [
      "0    2020-09-02\n",
      "dtype: object\n",
      "count            935\n",
      "unique            65\n",
      "top       2020-09-02\n",
      "freq              55\n",
      "Name: date, dtype: object\n",
      "count    935.000000\n",
      "mean       7.898396\n",
      "std        0.901668\n",
      "min        6.000000\n",
      "25%        7.000000\n",
      "50%        8.000000\n",
      "75%        9.000000\n",
      "max        9.000000\n",
      "Name: month, dtype: float64\n",
      "the unique months are:\n",
      "[9 7 6 8]\n"
     ]
    }
   ],
   "source": [
    "#check date data for missing values and converts to strptime format.\n",
    "def check_dates(x):\n",
    "    try:\n",
    "        data = dt.datetime.strptime(x, \"%Y-%m-%d\")\n",
    "    except:\n",
    "        data = 'no date'\n",
    "    return data\n",
    "\n",
    "samples['date_stamp'] = samples['date'].map(lambda x: check_dates(x))\n",
    "samples.sort_values('date', ascending = True)\n",
    "samples['month'] = samples.date_stamp.dt.month\n",
    "\n",
    "\n",
    "#basic date statistics\n",
    "first_date = samples.date.min()\n",
    "last_date = samples.date.max()\n",
    "mode_date = samples.date.mode() #highest number of species identified on this day.\n",
    "#number of locations per date (not the number of species identified)\n",
    "#access lists of species by date / by month\n",
    "\n",
    "print(mode_date)\n",
    "print(samples.date.describe())\n",
    "print(samples.month.describe())\n",
    "print(\"the unique months are:\")\n",
    "print(samples.month.unique())"
   ]
  },
  {
   "cell_type": "code",
   "execution_count": null,
   "id": "designed-prayer",
   "metadata": {},
   "outputs": [],
   "source": [
    "\n"
   ]
  },
  {
   "cell_type": "markdown",
   "id": "effective-hollow",
   "metadata": {},
   "source": [
    "Species data"
   ]
  },
  {
   "cell_type": "code",
   "execution_count": 5,
   "id": "recovered-notebook",
   "metadata": {},
   "outputs": [
    {
     "data": {
      "text/plain": [
       "pandas.core.series.Series"
      ]
     },
     "execution_count": 5,
     "metadata": {},
     "output_type": "execute_result"
    }
   ],
   "source": [
    "samples.species.describe()\n",
    "type(samples.species)"
   ]
  },
  {
   "cell_type": "markdown",
   "id": "polished-binding",
   "metadata": {},
   "source": [
    "location data"
   ]
  },
  {
   "cell_type": "code",
   "execution_count": 6,
   "id": "therapeutic-thesis",
   "metadata": {},
   "outputs": [
    {
     "data": {
      "text/plain": [
       "count         935\n",
       "unique        111\n",
       "top       buren-2\n",
       "freq           27\n",
       "Name: place, dtype: object"
      ]
     },
     "execution_count": 6,
     "metadata": {},
     "output_type": "execute_result"
    }
   ],
   "source": [
    "samples.place.describe()\n",
    "#identify locations with 2 plants or fewer identified"
   ]
  },
  {
   "cell_type": "code",
   "execution_count": null,
   "id": "utility-postage",
   "metadata": {},
   "outputs": [],
   "source": []
  }
 ],
 "metadata": {
  "kernelspec": {
   "display_name": "Python 3",
   "language": "python",
   "name": "python3"
  },
  "language_info": {
   "codemirror_mode": {
    "name": "ipython",
    "version": 3
   },
   "file_extension": ".py",
   "mimetype": "text/x-python",
   "name": "python",
   "nbconvert_exporter": "python",
   "pygments_lexer": "ipython3",
   "version": "3.8.2"
  }
 },
 "nbformat": 4,
 "nbformat_minor": 5
}
