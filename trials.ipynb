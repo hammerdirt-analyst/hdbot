{
 "cells": [
  {
   "cell_type": "markdown",
   "id": "accepting-breath",
   "metadata": {},
   "source": [
    "trial and draft file"
   ]
  },
  {
   "cell_type": "markdown",
   "id": "republican-loading",
   "metadata": {},
   "source": [
    "import statements"
   ]
  },
  {
   "cell_type": "code",
   "execution_count": 1,
   "id": "upper-trunk",
   "metadata": {},
   "outputs": [],
   "source": [
    "import pandas as pd\n",
    "import datetime as dt\n",
    "import numpy as np\n",
    "import matplotlib as mpl\n",
    "import matplotlib.pyplot as plt\n",
    "import seaborn as sns\n",
    "import os\n",
    "import sys"
   ]
  },
  {
   "cell_type": "markdown",
   "id": "weekly-nelson",
   "metadata": {},
   "source": [
    "load the data files"
   ]
  },
  {
   "cell_type": "code",
   "execution_count": 2,
   "id": "positive-deviation",
   "metadata": {},
   "outputs": [],
   "source": [
    "here = os.getcwd()\n",
    "\n",
    "#loads gps-location name correspondance file\n",
    "afilename = here+\"/data/2020/map-keys-2020.csv\"\n",
    "places = pd.read_csv(afilename)\n",
    "\n",
    "#loads species data set\n",
    "afilename = here+\"/data/2020/species2020_full.csv\"\n",
    "samples = pd.read_csv(afilename)"
   ]
  },
  {
   "cell_type": "markdown",
   "id": "proprietary-induction",
   "metadata": {},
   "source": [
    "general data"
   ]
  },
  {
   "cell_type": "code",
   "execution_count": 31,
   "id": "middle-saver",
   "metadata": {},
   "outputs": [
    {
     "ename": "TypeError",
     "evalue": "'Index' object is not callable",
     "output_type": "error",
     "traceback": [
      "\u001b[0;31m---------------------------------------------------------------------------\u001b[0m",
      "\u001b[0;31mTypeError\u001b[0m                                 Traceback (most recent call last)",
      "\u001b[0;32m<ipython-input-31-25f5ed35f73a>\u001b[0m in \u001b[0;36m<module>\u001b[0;34m\u001b[0m\n\u001b[1;32m      1\u001b[0m \u001b[0msamples\u001b[0m\u001b[0;34m.\u001b[0m\u001b[0mdescribe\u001b[0m\u001b[0;34m(\u001b[0m\u001b[0;34m)\u001b[0m\u001b[0;34m\u001b[0m\u001b[0;34m\u001b[0m\u001b[0m\n\u001b[0;32m----> 2\u001b[0;31m \u001b[0msamples\u001b[0m\u001b[0;34m.\u001b[0m\u001b[0mcolumns\u001b[0m\u001b[0;34m(\u001b[0m\u001b[0;34m)\u001b[0m\u001b[0;34m\u001b[0m\u001b[0;34m\u001b[0m\u001b[0m\n\u001b[0m",
      "\u001b[0;31mTypeError\u001b[0m: 'Index' object is not callable"
     ]
    }
   ],
   "source": [
    "samples.describe()\n",
    "samples.columns()"
   ]
  },
  {
   "cell_type": "markdown",
   "id": "imposed-assignment",
   "metadata": {},
   "source": [
    "date data"
   ]
  },
  {
   "cell_type": "code",
   "execution_count": 26,
   "id": "documentary-february",
   "metadata": {},
   "outputs": [
    {
     "name": "stdout",
     "output_type": "stream",
     "text": [
      "0    2020-09-02\n",
      "dtype: object\n",
      "count            935\n",
      "unique            65\n",
      "top       2020-09-02\n",
      "freq              55\n",
      "Name: date, dtype: object\n",
      "count    935.000000\n",
      "mean       7.898396\n",
      "std        0.901668\n",
      "min        6.000000\n",
      "25%        7.000000\n",
      "50%        8.000000\n",
      "75%        9.000000\n",
      "max        9.000000\n",
      "Name: month, dtype: float64\n",
      "the unique months are:\n",
      "[9 7 6 8]\n"
     ]
    }
   ],
   "source": [
    "#check date data for missing values and converts to strptime format.\n",
    "def check_dates(x):\n",
    "    try:\n",
    "        data = dt.datetime.strptime(x, \"%Y-%m-%d\")\n",
    "    except:\n",
    "        data = 'no date'\n",
    "    return data\n",
    "\n",
    "samples['date_stamp'] = samples['date'].map(lambda x: check_dates(x))\n",
    "samples.sort_values('date', ascending = True)\n",
    "\n",
    "samples['month'] = samples.date_stamp.dt.month\n",
    "\n",
    "#first and last survey dates\n",
    "first_date = samples.date.min()\n",
    "last_date = samples.date.max()\n",
    "\n",
    "#largest number of surveys in one day (largest number of different survey locations in one day)\n",
    "print(samples.date.mode())\n",
    "\n",
    "#other basic stats\n",
    "print(samples.date.describe())\n",
    "print(samples.month.describe())\n",
    "print(\"the unique months are:\")\n",
    "print(samples.month.unique())"
   ]
  },
  {
   "cell_type": "markdown",
   "id": "worth-interview",
   "metadata": {},
   "source": [
    "Species data"
   ]
  },
  {
   "cell_type": "code",
   "execution_count": 33,
   "id": "incomplete-chaos",
   "metadata": {},
   "outputs": [
    {
     "data": {
      "text/plain": [
       "pandas.core.series.Series"
      ]
     },
     "execution_count": 33,
     "metadata": {},
     "output_type": "execute_result"
    }
   ],
   "source": [
    "samples.species.describe()\n",
    "type(samples.species)"
   ]
  },
  {
   "cell_type": "markdown",
   "id": "compressed-arrest",
   "metadata": {},
   "source": [
    "location data"
   ]
  },
  {
   "cell_type": "code",
   "execution_count": 32,
   "id": "egyptian-computer",
   "metadata": {},
   "outputs": [
    {
     "data": {
      "text/plain": [
       "count         935\n",
       "unique        111\n",
       "top       buren-2\n",
       "freq           27\n",
       "Name: place, dtype: object"
      ]
     },
     "execution_count": 32,
     "metadata": {},
     "output_type": "execute_result"
    }
   ],
   "source": [
    "samples.place.describe()\n",
    "#identify locations with 2 plants or fewer identified"
   ]
  },
  {
   "cell_type": "code",
   "execution_count": null,
   "id": "victorian-superior",
   "metadata": {},
   "outputs": [],
   "source": []
  }
 ],
 "metadata": {
  "kernelspec": {
   "display_name": "Python 3",
   "language": "python",
   "name": "python3"
  },
  "language_info": {
   "codemirror_mode": {
    "name": "ipython",
    "version": 3
   },
   "file_extension": ".py",
   "mimetype": "text/x-python",
   "name": "python",
   "nbconvert_exporter": "python",
   "pygments_lexer": "ipython3",
   "version": "3.8.2"
  }
 },
 "nbformat": 4,
 "nbformat_minor": 5
}
