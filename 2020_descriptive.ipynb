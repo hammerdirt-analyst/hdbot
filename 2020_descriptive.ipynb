{
 "cells": [
  {
   "cell_type": "markdown",
   "metadata": {},
   "source": [
    "Introduction"
   ]
  },
  {
   "cell_type": "markdown",
   "metadata": {},
   "source": [
    "Import statements"
   ]
  },
  {
   "cell_type": "code",
   "execution_count": 1,
   "metadata": {},
   "outputs": [],
   "source": [
    "import pandas as pd\n",
    "import datetime as dt\n",
    "import numpy as np\n",
    "import matplotlib as mpl\n",
    "import matplotlib.pyplot as plt\n",
    "import seaborn as sns\n",
    "import os\n",
    "import sys"
   ]
  },
  {
   "cell_type": "code",
   "execution_count": 2,
   "metadata": {},
   "outputs": [],
   "source": [
    "here = os.getcwd()\n",
    "\n",
    "afilename= F\"{here}/data/2020/map-keys-2020.csv\"\n",
    "map_keys = pd.read_csv(afilename)\n",
    "\n",
    "afilename = here+\"/data/2020/species2020_n23.csv\"\n",
    "samples = pd.read_csv(afilename)"
   ]
  },
  {
   "cell_type": "code",
   "execution_count": 3,
   "metadata": {},
   "outputs": [
    {
     "data": {
      "text/html": [
       "<div>\n",
       "<style scoped>\n",
       "    .dataframe tbody tr th:only-of-type {\n",
       "        vertical-align: middle;\n",
       "    }\n",
       "\n",
       "    .dataframe tbody tr th {\n",
       "        vertical-align: top;\n",
       "    }\n",
       "\n",
       "    .dataframe thead th {\n",
       "        text-align: right;\n",
       "    }\n",
       "</style>\n",
       "<table border=\"1\" class=\"dataframe\">\n",
       "  <thead>\n",
       "    <tr style=\"text-align: right;\">\n",
       "      <th></th>\n",
       "      <th>place</th>\n",
       "      <th>date</th>\n",
       "      <th>species</th>\n",
       "      <th>name</th>\n",
       "      <th>slug</th>\n",
       "    </tr>\n",
       "  </thead>\n",
       "  <tbody>\n",
       "    <tr>\n",
       "      <th>0</th>\n",
       "      <td>alleestrasse-1</td>\n",
       "      <td>2020-09-02</td>\n",
       "      <td>plantago lanceolata</td>\n",
       "      <td>plantain lancéolé</td>\n",
       "      <td>plantago-lanceolata</td>\n",
       "    </tr>\n",
       "    <tr>\n",
       "      <th>1</th>\n",
       "      <td>alleestrasse-1</td>\n",
       "      <td>2020-09-02</td>\n",
       "      <td>centaurea nigra</td>\n",
       "      <td>centaurée noire</td>\n",
       "      <td>centaurea-nigra</td>\n",
       "    </tr>\n",
       "    <tr>\n",
       "      <th>2</th>\n",
       "      <td>alleestrasse-1</td>\n",
       "      <td>2020-09-02</td>\n",
       "      <td>plantago media</td>\n",
       "      <td>plantain moyen</td>\n",
       "      <td>plantago-media</td>\n",
       "    </tr>\n",
       "    <tr>\n",
       "      <th>3</th>\n",
       "      <td>alleestrasse-1</td>\n",
       "      <td>2020-09-02</td>\n",
       "      <td>chenopodium album</td>\n",
       "      <td>chénopode blanc</td>\n",
       "      <td>chenopodium-album</td>\n",
       "    </tr>\n",
       "    <tr>\n",
       "      <th>4</th>\n",
       "      <td>alleestrasse-1</td>\n",
       "      <td>2020-09-02</td>\n",
       "      <td>centaurea jacea</td>\n",
       "      <td>centaurée jacée</td>\n",
       "      <td>centaurea-jacea</td>\n",
       "    </tr>\n",
       "  </tbody>\n",
       "</table>\n",
       "</div>"
      ],
      "text/plain": [
       "            place        date              species               name  \\\n",
       "0  alleestrasse-1  2020-09-02  plantago lanceolata  plantain lancéolé   \n",
       "1  alleestrasse-1  2020-09-02      centaurea nigra    centaurée noire   \n",
       "2  alleestrasse-1  2020-09-02       plantago media     plantain moyen   \n",
       "3  alleestrasse-1  2020-09-02    chenopodium album    chénopode blanc   \n",
       "4  alleestrasse-1  2020-09-02      centaurea jacea    centaurée jacée   \n",
       "\n",
       "                  slug  \n",
       "0  plantago-lanceolata  \n",
       "1      centaurea-nigra  \n",
       "2       plantago-media  \n",
       "3    chenopodium-album  \n",
       "4      centaurea-jacea  "
      ]
     },
     "execution_count": 3,
     "metadata": {},
     "output_type": "execute_result"
    }
   ],
   "source": [
    "samples.head()"
   ]
  },
  {
   "cell_type": "code",
   "execution_count": 4,
   "metadata": {},
   "outputs": [
    {
     "data": {
      "text/html": [
       "<div>\n",
       "<style scoped>\n",
       "    .dataframe tbody tr th:only-of-type {\n",
       "        vertical-align: middle;\n",
       "    }\n",
       "\n",
       "    .dataframe tbody tr th {\n",
       "        vertical-align: top;\n",
       "    }\n",
       "\n",
       "    .dataframe thead th {\n",
       "        text-align: right;\n",
       "    }\n",
       "</style>\n",
       "<table border=\"1\" class=\"dataframe\">\n",
       "  <thead>\n",
       "    <tr style=\"text-align: right;\">\n",
       "      <th></th>\n",
       "      <th>lon</th>\n",
       "      <th>lat</th>\n",
       "      <th>place</th>\n",
       "    </tr>\n",
       "  </thead>\n",
       "  <tbody>\n",
       "    <tr>\n",
       "      <th>0</th>\n",
       "      <td>7.253285</td>\n",
       "      <td>47.138823</td>\n",
       "      <td>jura-2</td>\n",
       "    </tr>\n",
       "    <tr>\n",
       "      <th>1</th>\n",
       "      <td>7.791570</td>\n",
       "      <td>46.685610</td>\n",
       "      <td>sundgraben-port</td>\n",
       "    </tr>\n",
       "    <tr>\n",
       "      <th>2</th>\n",
       "      <td>7.252867</td>\n",
       "      <td>47.137585</td>\n",
       "      <td>salome-3</td>\n",
       "    </tr>\n",
       "    <tr>\n",
       "      <th>3</th>\n",
       "      <td>7.252760</td>\n",
       "      <td>47.137273</td>\n",
       "      <td>salome-4</td>\n",
       "    </tr>\n",
       "    <tr>\n",
       "      <th>4</th>\n",
       "      <td>7.252618</td>\n",
       "      <td>47.136619</td>\n",
       "      <td>alleestrasse-4</td>\n",
       "    </tr>\n",
       "  </tbody>\n",
       "</table>\n",
       "</div>"
      ],
      "text/plain": [
       "        lon        lat            place\n",
       "0  7.253285  47.138823           jura-2\n",
       "1  7.791570  46.685610  sundgraben-port\n",
       "2  7.252867  47.137585         salome-3\n",
       "3  7.252760  47.137273         salome-4\n",
       "4  7.252618  47.136619   alleestrasse-4"
      ]
     },
     "execution_count": 4,
     "metadata": {},
     "output_type": "execute_result"
    }
   ],
   "source": [
    "map_keys.head()"
   ]
  },
  {
   "cell_type": "code",
   "execution_count": 5,
   "metadata": {},
   "outputs": [
    {
     "data": {
      "text/plain": [
       "Index(['place', 'date', 'species', 'name', 'slug'], dtype='object')"
      ]
     },
     "execution_count": 5,
     "metadata": {},
     "output_type": "execute_result"
    }
   ],
   "source": [
    "samples.columns"
   ]
  },
  {
   "cell_type": "code",
   "execution_count": 6,
   "metadata": {},
   "outputs": [
    {
     "name": "stdout",
     "output_type": "stream",
     "text": [
      "There are 0 records with no valid date\n",
      "\n",
      "These are the months of the year that sampling occurred:\n",
      "[9 7 6 8]\n",
      "\n"
     ]
    }
   ],
   "source": [
    "samples['loc_date'] = list(zip(samples.place, samples.date))\n",
    "# datetime.datetime.strptime(date_time_str, '%Y-%m-%d %H:%M:%S.%f')\n",
    "def check_dates(x):\n",
    "    try:\n",
    "        data = dt.datetime.strptime(x, \"%Y-%m-%d\")\n",
    "    except:\n",
    "        data = 'no date'\n",
    "    return data\n",
    "samples['date_stamp'] = samples['date'].map(lambda x: check_dates(x))\n",
    "samples['month'] = samples.date_stamp.dt.month\n",
    "\n",
    "print(F\"There are {len(samples[samples.date_stamp == 'no date'])} records with no valid date\")\n",
    "print(F\"\\nThese are the months of the year that sampling occurred:\\n{samples.month.unique()}\\n\")"
   ]
  },
  {
   "cell_type": "code",
   "execution_count": 7,
   "metadata": {},
   "outputs": [
    {
     "name": "stdout",
     "output_type": "stream",
     "text": [
      "\n",
      "The species count for one sample alleestrasse-1, 2020-09-02:\n",
      "\n",
      "species\n",
      "centaurea jacea        1\n",
      "centaurea nigra        1\n",
      "chenopodium album      1\n",
      "geranium pyrenaicum    1\n",
      "plantago lanceolata    1\n",
      "plantago media         1\n",
      "veronica persica       1\n",
      "Name: species, dtype: int64\n"
     ]
    }
   ],
   "source": [
    "som_samples = samples.groupby(['loc_date', 'species']).species.count()\n",
    "\n",
    "print(F\"\\nThe species count for one sample alleestrasse-1, 2020-09-02:\\n\\n{som_samples.loc[('alleestrasse-1', '2020-09-02')]}\")\n",
    "# som_samples.loc[(\"alleestrasse-1\", \"2020-09-02\")]"
   ]
  },
  {
   "cell_type": "code",
   "execution_count": 8,
   "metadata": {},
   "outputs": [
    {
     "name": "stdout",
     "output_type": "stream",
     "text": [
      "\n",
      "The species count for one location alleestrasse-1:\n",
      "\n",
      "species\n",
      "centaurea jacea        3\n",
      "centaurea nigra        1\n",
      "chenopodium album      1\n",
      "daucus carota          1\n",
      "geranium pyrenaicum    1\n",
      "plantago lanceolata    1\n",
      "plantago media         1\n",
      "veronica persica       1\n",
      "Name: species, dtype: int64\n",
      "\n"
     ]
    }
   ],
   "source": [
    "som_locations = samples.groupby(['place', 'species']).species.count()\n",
    "\n",
    "print(F\"\\nThe species count for one location alleestrasse-1:\\n\\n{som_locations.loc['alleestrasse-1']}\\n\")"
   ]
  },
  {
   "cell_type": "code",
   "execution_count": 9,
   "metadata": {},
   "outputs": [
    {
     "name": "stdout",
     "output_type": "stream",
     "text": [
      "\n",
      "All the samples from one location and the number of times a species was identified:\n",
      "\n",
      "loc_date                      species            \n",
      "(alleestrasse-1, 2020-07-28)  centaurea jacea        2\n",
      "                              daucus carota          1\n",
      "(alleestrasse-1, 2020-09-02)  centaurea jacea        1\n",
      "                              centaurea nigra        1\n",
      "                              chenopodium album      1\n",
      "                              geranium pyrenaicum    1\n",
      "                              plantago lanceolata    1\n",
      "                              plantago media         1\n",
      "                              veronica persica       1\n",
      "Name: name, dtype: int64\n",
      "\n"
     ]
    }
   ],
   "source": [
    "# all the records from one location:\n",
    "\n",
    "allseestrasseone = samples[samples.place == 'alleestrasse-1']\n",
    "\n",
    "print(F\"\\nAll the samples from one location and the number of times a species was identified:\\n\\n{allseestrasseone.groupby(['loc_date', 'species']).name.count()}\\n\")"
   ]
  },
  {
   "cell_type": "code",
   "execution_count": 10,
   "metadata": {},
   "outputs": [
    {
     "name": "stdout",
     "output_type": "stream",
     "text": [
      "The number of times and places a species was identified:\n",
      "\n",
      "place\n",
      "chapelle         1\n",
      "gottstatt-3      1\n",
      "twann-estuary    1\n",
      "Name: loc_date, dtype: int64\n",
      "\n"
     ]
    }
   ],
   "source": [
    "species_list = samples.species.unique()\n",
    "\n",
    "species_group = samples.groupby(['species', 'place']).loc_date.count()\n",
    "\n",
    "print(F\"The number of times and places a species was identified:\\n\\n{species_group.loc['vicia cracca']}\\n\")"
   ]
  },
  {
   "cell_type": "code",
   "execution_count": null,
   "metadata": {},
   "outputs": [],
   "source": []
  }
 ],
 "metadata": {
  "kernelspec": {
   "display_name": "Python 3",
   "language": "python",
   "name": "python3"
  },
  "language_info": {
   "codemirror_mode": {
    "name": "ipython",
    "version": 3
   },
   "file_extension": ".py",
   "mimetype": "text/x-python",
   "name": "python",
   "nbconvert_exporter": "python",
   "pygments_lexer": "ipython3",
   "version": "3.8.3"
  }
 },
 "nbformat": 4,
 "nbformat_minor": 5
}
