{
 "cells": [
  {
   "cell_type": "markdown",
   "id": "original-gender",
   "metadata": {},
   "source": []
  },
  {
   "cell_type": "markdown",
   "id": "optional-timer",
   "metadata": {},
   "source": [
    "<h4> Abstract </h4>\n",
    "This report concludes a 2020 hammerdirt pilot project in identifying plant species along the urban Suze river and its Madretschkanal variant from June - September 2020. The objective was to use plant recognition web and smartphone applications combined with the Flora Helvetica guidebook to learn to identify herbaceous plants, construct an initial dataset on the flowering plants along the urban Suze river, and provide initial analysis and lessons learned to guide further project development."
   ]
  },
  {
   "cell_type": "code",
   "execution_count": null,
   "id": "frozen-local",
   "metadata": {},
   "outputs": [],
   "source": [
    "#insert photo \"carduus-crispus.JPG\" with legend \"Carduus crispus growing on the banks of the Madretschkanal\""
   ]
  },
  {
   "cell_type": "markdown",
   "id": "inner-parking",
   "metadata": {},
   "source": [
    "<h4> Contents </h4>\n",
    "<ol>\n",
    " <li>Background</li><li>Objectives</li><li>Locations</li><li>Timeline</li><li>Data sources</li><li>Survey Methodology</li><li>Tools</li><li>Analysis</li><li>Lessons Learned and Reccomendations</li><li>Bibliography and useful links</li>\n",
    "</ol>\n",
    " "
   ]
  },
  {
   "cell_type": "markdown",
   "id": "rapid-distinction",
   "metadata": {},
   "source": [
    "<h4> Background </h4>\n",
    "\n",
    "<p>Ecological systems in Europe and across the world are under intense stress from various human pressures. Extinction rates are high and on the rise, especially among species dependent on ecological niches that have experienced significant decline, often on the order of 90% loss, since the beginning of the 20th century, such as wetland habitats and wildflower meadows. In addition to extinctions, we also are witnessing the rarefaction of formerly common species alongside a general decline in the mass of mammals, birds and insects. A famous <a href=\"https://journals.plos.org/plosone/article?id=10.1371/journal.pone.0185809\">2017 paper</a> identified a 75% decline between 1989 and 2017 years in flying insect mass captured in nature reserves in Southern Germany - these results set off alarm bells acros the scientific community and civil society. Plants face similar challenges, including loss of habitat, ravages of invasive species, and rapidly changing climate and weather patterns. Regarding the situation in Switzerland, more than a quarter of Swiss vascular plants are under threat and more worryingly, <a href = \"https://www.infoflora.ch/fr/assets/content/documents/conservation/Kempel_al_2020_nationwide_revisitation_doi_10_1111_conl_12749.pdf\"> a 2020 paper</a> identified \"thousands of local extinctions\" of sensitive and endangered species, which are only a prelude to global extinctions in Switzerland. The researchers worry that \"current conservations measures are insufficient\" and judge it necessary to increase the scale and reach conservation measures.</p>\n",
    "\n",
    "<p>While national actors work to set standards and engage in international negotiations to protect biodiversity and ecosystem health on a global scale, local public and private actors have significant room to maneaovre. Indeed, the only way to address the epidemic of local extinctions and rarefactions is to act on a local level. One way to mitigate the pressure is a judicious use of public spaces, such as road verges, railroad berms and parks, that balances their potential as habitats with the needs and requirements of the city's inhabitants. Studies have shown that (sub)urban green spaces can provide plants, insects and birds with suitable conditions to pursue their lifecycles, and even become <a href = \"https://www.bbc.com/news/science-environment-39670191\"> \"a last refuge\"</a> amidst the ongoing intensification of agriculture and loss of habitat, although the potential of (sub)urban ecology remains a topic open for exploration. </p> \n",
    "\n",
    "<p>This pilot project was meant to equip myself with the tools and knowledge to develop a financially sustainable product that contributes to the local preservation of plant species. I chose to survey the urban Suze river and its Madretschkanal variant in Biel because I live in Madretsch and I knew this would provide more than enough species diversity for this study. Further, this urban-suburban mix is a habitat that is not dissimilar from the lived environment of millions of other people in medium size cities across continental Europe and who could thus benefit from the lessons learned and products and services developed as this project goes forward.</p>"
   ]
  },
  {
   "cell_type": "markdown",
   "id": "available-aging",
   "metadata": {},
   "source": [
    "<h4>Objectives</h4>\n",
    "\n",
    "The main objectives of this report are to:\n",
    "<ul>\n",
    " <li>Formalize the knowledge and experience acquired over the course of this first project</li><li>Engage with some of the open source biogeographical material available for Switzerland</li><li>Identify next steps for the second iteration of the project in 2021</li>\n",
    "</ul>"
   ]
  },
  {
   "cell_type": "markdown",
   "id": "powerful-amino",
   "metadata": {},
   "source": [
    "<h4>Survey Locations</h4>\n",
    "\n",
    "<p>The bulk of the survey sites are located along the suze river and its Madretschkanal variant. They lie primarily between the exit of the Suze river from the Taubenloch gorges and the end of the river into Lake Biel / Thiel river. Along this stretch of the river, as with many urban settings, there are many varied habitats, from deep shade to full pavement to (wild) flower strips maintained for ecological and aesthetic purposes. The sites are managed by the municipality to a greater or less degree and all areas surveyed were open access to the public and chosen to be reasonably accessible for an average person.</p>\n",
    "\n",
    "<p>Surveys were carried out essentially on the Central Plateau in the city of Bienne, at the foot of the first range of the Jura mountains. In addition, some surveys were conducted near Lac de Neuchatel and Lac de Thoune, in the Jura, and on the other side of Lac de Bienne. I organized the survey locations using Google MyMaps.</p>"
   ]
  },
  {
   "cell_type": "code",
   "execution_count": null,
   "id": "lasting-throat",
   "metadata": {},
   "outputs": [],
   "source": [
    "# insert picture \"suze-2.JPG\" with caption \"In this location along the Madretschkanal, the undergrowth is dominated by Heracleum sphondylium in late summer\""
   ]
  },
  {
   "cell_type": "code",
   "execution_count": null,
   "id": "growing-criterion",
   "metadata": {},
   "outputs": [],
   "source": [
    "# insert picture \"suze-4.JPG\" with caption \"This bit of ground about 150 meters south of the Taubenloch Gorge hosted many plants until being cleared by the municipality.\""
   ]
  },
  {
   "cell_type": "code",
   "execution_count": null,
   "id": "express-flavor",
   "metadata": {},
   "outputs": [],
   "source": [
    "# insert picture \"eupatorium-suze.JPG\" with caption \"A patch of Eupatorium cannabinium growing along the Suze\""
   ]
  },
  {
   "cell_type": "code",
   "execution_count": null,
   "id": "violent-international",
   "metadata": {},
   "outputs": [],
   "source": [
    "# insert picture \"MyMaps.png\" with caption \"The survey sites along the urban suze river as saved in Google MyMaps\""
   ]
  },
  {
   "cell_type": "markdown",
   "id": "constitutional-spanking",
   "metadata": {},
   "source": [
    "<h4>Survey period</h4>\n",
    "<p>The survey period stretched from June - September 2020, with the majority of plant observations accomplished in August and September 2020. This is because as I gained experience I was able to identify plants more quickly in the field and I expanded the range of plants identified. Some sites were surveyed more than once, some were only surveyed one time.</p>"
   ]
  },
  {
   "cell_type": "code",
   "execution_count": null,
   "id": "1008f864-085d-452a-aa26-60e608d409c4",
   "metadata": {},
   "outputs": [],
   "source": []
  },
  {
   "cell_type": "code",
   "execution_count": 1,
   "id": "indie-session",
   "metadata": {},
   "outputs": [],
   "source": [
    "# time series of surveys with number of species identified on the yaxis, date\n",
    "# compare:\n",
    "\n",
    "# nunique species period one v/s period two\n",
    " \n",
    "\n",
    "\n",
    "\n",
    "\n"
   ]
  },
  {
   "cell_type": "markdown",
   "id": "speaking-moderator",
   "metadata": {},
   "source": [
    "<h4>Data sources</h4>\n",
    "\n",
    "<p>The primary source of reference data is Info Flora, the organization charged with monitoring plant ecology nationally in Switzerland and making the data avaible to the public and for research and reporting purposes. The relevant data was drawn via the Info Flora website, although a connection to the GBIF node maintained by Info Flora was made. The data sets downloaded were the following: </p>\n",
    "\n",
    "<ul>\n",
    "    <li>Biogeographical regions: The locations of botanical observations in Switzerland are available to the public in one of two ways. In conforming with international standards, exact data is not provided to the public except upon special request to minimize potential damage the public may cause to the plants for one reason or another. The first aggregation of observations is done by dividing Switezrland into hundreds of biogeographical regions, called the Welten Sutter maps. The second divides Switzerland into 5x5 kiometer squares and aggregates the data in each square. The Welten Sutter and 5x5 species lists that coincided with the locations of my surveys were downloaded to compare my observations to those I would be expected to encounter based on these data sources.</li>\n",
    "    <li>Invasive species: Info Flora also maintains a list of potentially and actually invasive species, classifed into \"watch list\" and \"black list\". Watch list species threaten to expand and become an issue and planting them should be discouraged, while black list species have already had a significant environmental, economic or human effect in Switzerland. In addition, this list includes the species barred from being sold, planted or used commercially.</li>\n",
    "    <li>IUCN Red List: The International Union for the Conservation of Nature red list is the international standard for tracking the threats faced by different species. For Switzerland, this list is also managed by Info Flora. The latest dataset was downloaded to determine the protection status of the different categories of species identified. </li>\n",
    "    <li>Other: Two other data sets were downloaded from the Info Flora website, the list of undersampled taxa and the list of species that appear on the certication exams for the Swiss Botanical Society. With these data sets I wanted to find out how relevant the certification list of species is to the flora I found around Biel, as well as see if there were any undersampled taxa identified in my surveys.</li>\n",
    "    <li>GBIF: The Global Biodiversity Information Facility hosts an Info Flora dataset available for use to the public. This data was downloaded and inspected but not put to use.</li>\n",
    "</ul>\n",
    "\n",
    "<p>There are a number of other potentially useful data sources available through the work of third parties. The data previously discussed provided more than enough of a foundation for the introductory analysis that is the primary objective of this report, and thus third party data was not included in this report. To name a few interesting data sources for 2021 that will likely be requested to build off of this analysis: </p>\n",
    "\n",
    "<ul>\n",
    "    <li>Request more detailed geographical data from Info Flora on the species identified in and around Biel</li>\n",
    "    <li>Request the dataset of the Cadastre des Arbes of Bienne to easily import the majority of tree species in and around Bienne</li>\n",
    "    <li>Integrate biogeographical data on inverterbates tied to specific plant speices identified. </li>\n",
    "    <li>Integrate typography of plants identified (woody/herbaceous, tree/shrub/etc, flowering times, fruiting times)<li>\n",
    "</ul>\n",
    "\n",
    "<p> Note: The data sources are stored locally and treated in the preprocessing workbook with the result exported to the resources folder for use in the generated charts and analysis. These treated reference files are stored as .json dictionairies. </p>"
   ]
  },
  {
   "cell_type": "markdown",
   "id": "sunset-huntington",
   "metadata": {},
   "source": [
    "<h4>Tools</h4>\n",
    "\n",
    "<p> The tools used in this project amounted to about CHF 400 (not counting my camera and smartphone), the most significant expenditure being the 5th edition of <a href=\"https://www.flora-helvetica.ch/buch_fr\">Flora Helvetica</a>. My botanical kit was comprised of the following:<p>\n",
    "    \n",
    "* Botanical loop 8x/16X\n",
    "* Digital Microscope 60X-300X\n",
    "* Flora Helvetica 5th edition\n",
    "* Scissors, knife, razorblade\n",
    "* Glass containers, a few tupperwares, plastic and paper bags\n",
    "* Samsung A7 smartphone\n",
    "* Sony Cybershot digital camera\n",
    "\n",
    "<p> A number of different plant identificaiton application were downloaded and tried, with <a href=\"https://floraincognita.com/\">Flora Incognita</a> and <a href=\"https://plantnet.org/\">PlantNet</a> being clearly the two most appropriate options. I chose to record my observations primarily in Flora Incognita for this project, which was not the superior option. Although the PlantNet tool has a few advantages over Flora Incognitar, neither of these were the most suitable ways to record and store the mass of observations. It is unnecessary to store a picture for every single observation, especially for common species. In addition, the nomenclature is not the same across Info Flora, Plant Net and Flora Incognita. It is thus superior to use the nomenclature of Info Flora to store the survey data for compatbility with datasets provided by Info Flora and to ease ultimate submission of the observations to Info Flora as well. As such, this should be done via the <a href=\"https://www.infoflora.ch/fr/participer/mes-observations/app/florapp.html\">Florapp</a> application or recorded in a botanical journal and subsequently entered into a database using the same nomenclature.</p>\n",
    "\n",
    "<p> Below is a short comparison of the PlantNet and Info Flora applications.</p>\n",
    "\n",
    "* Both applications usually came up with the same usually accurate top reccomended observation.\n",
    "* Both applications allow for easy export to CSV\n",
    "* Both applications are very useable and make it possible for someone newly interested in plant ecology to identify plants.\n",
    "* PlantNet offered more reccomendations for similar species more of the time which is helpful in being confident in a correct identification.\n",
    "* PlantNet has a significantly higher investment in the look, useability, and frontend of the user portal.\n",
    "* PlantNet's GPS was significantly more accurate, in line with other applications, while Flora Incognita's could be off by 500 meters in the same location.\n",
    "* Neither application allowed the user to simply enter plant observations.\n",
    "* Neither application is linked formally to Switzerland's national database managed by Info Flora."
   ]
  },
  {
   "cell_type": "code",
   "execution_count": null,
   "id": "hired-shooting",
   "metadata": {},
   "outputs": [],
   "source": [
    "# line up the three photos of the Flora Incognita \"FloraIncognita.JPG\", FlorApp \"FlorApp.jpg\", PlantNet \"PlantNet.jpg\" with their names as captions"
   ]
  },
  {
   "cell_type": "markdown",
   "id": "celtic-nerve",
   "metadata": {},
   "source": [
    "<h4>Methodology</h4>\n",
    "\n",
    "<p>The surveys attempt to answer the question “what are the different types of herbaceous plants flowering in this location?\" To begin, I focused on herbaceous plants that I felt I had a good chance to identify, namely the plants in full bloom that were relatively tall and recognizeable, such as Clematis vitalba. Although passingly familiar with some of the flora of North America, I have never examined in any detail the flora around me in Europe, nor had I previously engaged in a serious study of botany, ecology or horticulture. Plants were identified both in situ and ex situ by combining an automatic plant identification tool and the 4th edition of the Flora Helvetica guidebook. From July 31st through September 30th, the smartphone application FloraIncognita was used to record and store the species observations. The approach was similar: first the plant would be identified following the flora incognita entry requirements, then the most likely species was searched in Flora Helvetica to determine if the match was correct or not. If confirmed, the result was accepted and stored in the application. If the match was unsatisfactory, the other suggested species were examined. If no species was a satisfactory match, it was either ignored (there were many plants that I could not identify, especially in June and July) and it was saved as unknown and a sample and/or detailed pictures were then taken and the species eventually identified to a satisfactory degree in a controlled setting. Notes were taken alongside. In the interest of preserving the flora examined, few samples were taken. The samples that were retrieved were to examen the structures under a microscope for educational purposes or to take detailed pictures in a more conducive environment. Some samples were dried and preserved.This methodology thus allowed me to get comfortable identifying different plants by letting me take time with each sample and compare the details from the Flora Helvetica reference book to material provided by PlantNet/Flora Incognita or further photos and descriptions found online. As time went on I included further herbaceous plants, shrubs and small trees and especially more of the plants from the Asteraceae family (the Darn Yellow Composites). As such, the range of species increased over time and by the end of the survey period, the tall trees, decorative-type shrubbery, and grasses remained the only groups that I had made little effort to identify.Note that I did not enter into identification of subspecies.</p>\n",
    "    \n",
    "<p>A survey is uniquely identified by a place name and a date and is composed of a collection of individual species observations, each of which records the following information: place, date and scientific name. The place name corresponds to a set of gps points. The survey locations were chosen largely so that the geographic extent of the survey location would be more or less clear from the satellite imagery I opted for the simplest survey methodology possible. At first I tried a simple transect as well as a belt transect method, but after only a few surveys, I realized that I did not have the botanical experience necessary to make use of these methodologies. Since I was surveying only a small range of species and only those that were in flower and easy to identify, I was not able to identify enough species along the transect points without laying them out in a deliberate fashion which ruins the idea of a transect. I chose many survey locations to be somewhat measurable and recognizable from satellite imagery and I relied on the GPS point stored by the Flora Incognita application and Google MyMaps. The upside of such a regime is that it allowed me to place the records on a map of the city while I focus on the actual identification of plants and introduction to botany and plant anatomy. The downside is that I do not have length records and some of the survey locations are inexact due to poor GPS readings identified only towards the end of the project. Included with each survey are pictures of the survey locations, pictures of many of the individual plant species, and notes/drawings that acocmpany the survey.</p>"
   ]
  },
  {
   "cell_type": "code",
   "execution_count": null,
   "id": "precise-ballot",
   "metadata": {},
   "outputs": [],
   "source": [
    "# insert photo of \"alcea-rosea.JPG\" with caption \"Alcea rosea is a large, easy to recognize plant.\""
   ]
  },
  {
   "cell_type": "code",
   "execution_count": null,
   "id": "informative-sudan",
   "metadata": {},
   "outputs": [],
   "source": [
    "# inset photo \"energie-2.jpg\" with caption \"Another large, easy to recognize plant is Clematis vitalba which grows all over the Suze river area.\""
   ]
  },
  {
   "cell_type": "code",
   "execution_count": 1,
   "id": "voluntary-angle",
   "metadata": {},
   "outputs": [],
   "source": [
    "# insert photo \"matricaria-1-in.JPG\" and \"matricaria-1-out.JPG\" with the caption \"Many members of the Asteraceae family, like this Matricaria chamomilla are much more difficult to identify.\""
   ]
  },
  {
   "cell_type": "markdown",
   "id": "terminal-stable",
   "metadata": {},
   "source": [
    "<h4>Results</h4>\n",
    "\n",
    "Summary statistics\n",
    "\n",
    "(See comments below this box)\n",
    "\n",
    "\n",
    "\n",
    "\n",
    "There was a wide variation in species density, only some of which was captured with the surveys, as well as a preponderance of grasses in certain areas. Although this example is an exxageration, since I recorded \"present\" if at least one member of the species occured, an area with 200 individuals is recorded the same way as an area with 1 individual. Thus sites with similar survey results are not necessarilly comparable in terms of provision of floral resources. To a great extent, this can be corrected manually by viewing pictures of the survey site - if one plant predominates it is usually obvious - or by noting it directly in the survey tool and integrating it into the analysis.\n",
    "\n",
    "Further "
   ]
  },
  {
   "cell_type": "code",
   "execution_count": null,
   "id": "linear-china",
   "metadata": {},
   "outputs": [],
   "source": []
  },
  {
   "cell_type": "code",
   "execution_count": null,
   "id": "inner-commodity",
   "metadata": {},
   "outputs": [],
   "source": [
    "# top ten most commonly identified species:\n",
    "\n",
    " \n",
    "\n",
    "# top ten most commonly identified genus (first part of genus-species slug)\n",
    "\n",
    "## \n",
    "\n",
    "\n",
    "# The ten survey locations with the highest number of unique species\n",
    "\n",
    "# from the surveys:\n",
    "\n",
    "# identify any plants NOT on the Welten Sutter or 5X5 observations list for their region\n",
    "# identify plants on IUCN red list\n",
    "\n",
    "\n",
    "\n"
   ]
  },
  {
   "cell_type": "markdown",
   "id": "consistent-whole",
   "metadata": {},
   "source": [
    "<h6>Invasive species</h6>\n",
    "\n",
    "Four varieties of invasive species were repeatedly encountered:\n",
    "\n",
    "* Erigeron Annuus, a North American species of the Asteraceae family that in considered invasive across Switzerland and Europe. In Switzerland it is generally restricted to areas of less than 1000 meters of altitude (<a href=\"https://www.infoflora.ch/assets/content/documents/neophytes/inva_erig_ann_f.pdf\">Info Flora fact sheet</a>)\n",
    "* Solidago sp: Solidago Canadensis, S. gigantea, S. nemoralis. Again, three members of the Asteraceae family imported from North America and restricted to less than 1000 meters of altitutde. It is likely that I was unable to distinguish between these three plants properly during this survey, so I have chosen to group them all under Solidago sp. as I had not encountered any of the other members of the Solidago genus. (<a href=\"https://www.infoflora.ch/assets/content/documents/neophytes/inva_soli_can_f.pdf\">Info Flora fact sheet</a>)\n",
    "* Buddleja davidii, a Chinese shrubby tree introduced for its ornate, strongly scented purple flowers. It has since naturalized and has a problematic tendency to interrupt normal patterns of plant secession in disturbed areas. A plant of the Central Plateau. (<a href=\"https://www.infoflora.ch/assets/content/documents/neophytes/inva_budd_dav_f.pdf\">Info Flora fact sheet</a>)\n",
    "* Senecio Inaequidens, another member of the Asteraceae family, but from South Africa, restricted largely to the Central Plateau and areas under 1000 meters of altitude. Its habitat is largley road vergers and railroad berms. (<a href=\"https://www.infoflora.ch/assets/content/documents/neophytes/inva_sene_ina_f.pdf\">Info Flora fact sheet</a>)\n",
    "* Interestingly, no Reynoutriea japonica (<a href=\"https://www.infoflora.ch/assets/content/documents/neophytes/inva_reyn_jap_f.pdf\">Info Flora fact sheet</a>) were encountered during the surveys.\n"
   ]
  },
  {
   "cell_type": "code",
   "execution_count": null,
   "id": "favorite-independence",
   "metadata": {},
   "outputs": [],
   "source": [
    "# insert photos \"solidalgo-1.jpg\" and \"iledelasuze2.jpg\" with respective captions \"Thick patch of Solidago sp. in an empty lot near the Madretschkanal\" and \"Erigeron annuus on the Ile de la  Suze park\""
   ]
  },
  {
   "cell_type": "code",
   "execution_count": null,
   "id": "peripheral-duplicate",
   "metadata": {},
   "outputs": [],
   "source": [
    "# insert table with the locations invasive species were identified (rows = locations, columns = invasive species)"
   ]
  },
  {
   "cell_type": "code",
   "execution_count": null,
   "id": "b4466183-df2f-4abf-a1f0-65f892bb7a23",
   "metadata": {},
   "outputs": [],
   "source": [
    "# export gis file with location data and # of species identified both periods"
   ]
  },
  {
   "cell_type": "markdown",
   "id": "legitimate-button",
   "metadata": {},
   "source": [
    "<h4>Lessons Learned and Reccomendations</h4>\n",
    "\n",
    "The objective of this pilot project was to learn to identify herbaceous plants, construct an initial dataset on the flowering plants along the urban Suze river, and provide initial analysis and lessons learned to guide further project development. The first objective was unambiguously reached and I now have a familiarity with the common plants, outside of grasses, that grow along the Suze river, and by extension a good grasp of the plants around the city of Bienne more generally. The second objective was reached as well, but in a less satisfactory manner. With some 900 observations, I was able to engage with the biogeographic data sets available and provide simple analysis. At the same time, the learning process significantly slowed the collection of data. In addition, the GPS coordinates reported by Flora Incognita were not verified and later found to be off on the order of 250 meters for every single observation. The locations were largely reconstructed via photos, memory and imagery available through Google Maps and Swiss Topo, but many observations were also unfortunately lost. Nonetheless, I was able to identify some plant communities and give some indications of the herbaceous plants one finds along ths urban Suze river.\n",
    "\n",
    "The third objective has also been reached. In addition to surveying, I researched current Swiss and French initiatives in citizen science related to conservation of insects and plants as well as read articles, papers and books on ecology, botany, zoology, entomology, horticulture, geology and climate change. The key general points that I took away from this background reading are the following:\n",
    "* The situation is serious. There is a generalized decline across all indicators of ecological health across the world.\n",
    "* The central plateau of Switzerland has many species that are locally menaced with many species that \n",
    "* There is a market and an appetite for products that create ecosystem services.\n",
    "* The protection of biodiversity needs to occur on the level of genetic diversity within species.\n",
    "* Floral resources should be available from March to October.\n",
    "\n",
    "\n",
    "In order to build on this dataset for 2021, the following is recommended for a 2021 round of surveying:\n",
    "* In addition to surveying, value should be created during the survey itself. One obvious way to do this is to remove invasive species when encountered during the surveys to inhibit their proliferation in the public spaces.\n",
    "* The surveys should be repeated starting from March 2021 to capture earlier blooming plant species (especially in March, April and May) as well as to capture some of the surrounding forested regions (e.g. the vorhölzli, längholzli) and other urban green spaces not restricted to the Suze river. The surveys should include a wider diversity of plants from the outset now that the surveyor has a good grasp on the local flora.\n",
    "* Identification of actors around Biel/Bienne constructively engaged in protecting biodiversity of plants, including the genetic diversity provided by wild populations.\n",
    "* Integration of info species data on pollinators and creation of a link to their preferred floral resources\n",
    "* Integration of plant data from the City of Bienne (Cadastre des arbres)\n",
    "* Use of Info Flora's FlorApp or a dedicated botany journal to exclusively record observations.\n",
    "\n",
    "During the 2021 surey process, I will engage further with the field of horticulture with the end goal of developing a product that can bring value to the city of Bienne based on the plants that I find (or don't find) living in the city.\n"
   ]
  },
  {
   "cell_type": "code",
   "execution_count": null,
   "id": "jewish-pleasure",
   "metadata": {},
   "outputs": [],
   "source": []
  }
 ],
 "metadata": {
  "kernelspec": {
   "display_name": "Python 3 (ipykernel)",
   "language": "python",
   "name": "python3"
  },
  "language_info": {
   "codemirror_mode": {
    "name": "ipython",
    "version": 3
   },
   "file_extension": ".py",
   "mimetype": "text/x-python",
   "name": "python",
   "nbconvert_exporter": "python",
   "pygments_lexer": "ipython3",
   "version": "3.7.6"
  }
 },
 "nbformat": 4,
 "nbformat_minor": 5
}
