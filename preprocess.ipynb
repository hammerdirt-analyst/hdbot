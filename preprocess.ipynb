{
 "cells": [
  {
   "cell_type": "markdown",
   "metadata": {},
   "source": [
    "Introduction"
   ]
  },
  {
   "cell_type": "markdown",
   "metadata": {},
   "source": [
    "Import statements"
   ]
  },
  {
   "cell_type": "code",
   "execution_count": null,
   "metadata": {},
   "outputs": [],
   "source": [
    "import pandas as pd\n",
    "import numpy as np\n",
    "import matplotlib as mpl\n",
    "import matplotlib.pyplot as plt\n",
    "import seaborn as sns\n",
    "import os\n",
    "import sys"
   ]
  },
  {
   "cell_type": "code",
   "execution_count": null,
   "metadata": {},
   "outputs": [],
   "source": [
    "Load the 2020 data set and the reference files."
   ]
  },
  {
   "cell_type": "code",
   "execution_count": 2,
   "metadata": {},
   "outputs": [
    {
     "name": "stdout",
     "output_type": "stream",
     "text": [
      "Index(['id', 'obs', 'place', 'date', 'time', 'sci', 'name', 'notes'], dtype='object')\n",
      "Index(['place', 'date', 'time', 'sci', 'name'], dtype='object')\n",
      "Index(['X', 'Y', 'Name', 'description'], dtype='object')\n",
      "Index(['acceptedtaxonkey', 'acceptedscientificname', 'numberofoccurrences',\n",
      "       'kingdom', 'phylum', 'class', 'order', 'family', 'genus', 'species'],\n",
      "      dtype='object')\n"
     ]
    }
   ],
   "source": [
    "a = pd.read_csv(\"data/2020/2020data.csv\")\n",
    "b = pd.read_csv('data/2020/2020datasimp.csv')\n",
    "c = pd.read_csv('data/2020/map-keys-2020.csv')\n",
    "d = pd.read_csv(\"refs/florahelvetica/florahelveticarcsvnew.csv\")\n",
    "\n",
    "print(a.columns)\n",
    "print(b.columns)\n",
    "print(c.columns)\n",
    "print(d.columns)"
   ]
  },
  {
   "cell_type": "code",
   "execution_count": 3,
   "metadata": {},
   "outputs": [],
   "source": [
    "c.rename(columns={'X':'lon', 'Y':'lat', 'Name':'place'}, inplace=True)\n",
    "b.rename(columns={'sci':'species'}, inplace=True)"
   ]
  },
  {
   "cell_type": "code",
   "execution_count": 4,
   "metadata": {},
   "outputs": [
    {
     "data": {
      "text/html": [
       "<div>\n",
       "<style scoped>\n",
       "    .dataframe tbody tr th:only-of-type {\n",
       "        vertical-align: middle;\n",
       "    }\n",
       "\n",
       "    .dataframe tbody tr th {\n",
       "        vertical-align: top;\n",
       "    }\n",
       "\n",
       "    .dataframe thead th {\n",
       "        text-align: right;\n",
       "    }\n",
       "</style>\n",
       "<table border=\"1\" class=\"dataframe\">\n",
       "  <thead>\n",
       "    <tr style=\"text-align: right;\">\n",
       "      <th></th>\n",
       "      <th>id</th>\n",
       "      <th>obs</th>\n",
       "      <th>place</th>\n",
       "      <th>date</th>\n",
       "      <th>time</th>\n",
       "      <th>sci</th>\n",
       "      <th>name</th>\n",
       "      <th>notes</th>\n",
       "    </tr>\n",
       "  </thead>\n",
       "  <tbody>\n",
       "    <tr>\n",
       "      <th>0</th>\n",
       "      <td>02777507-6356-5477-92eb-6d7aea343265</td>\n",
       "      <td>NaN</td>\n",
       "      <td>alleestrasse 1</td>\n",
       "      <td>2020-09-02</td>\n",
       "      <td>11:09:04 AM</td>\n",
       "      <td>plantago lanceolata</td>\n",
       "      <td>plantain lancéolé</td>\n",
       "      <td>NaN</td>\n",
       "    </tr>\n",
       "    <tr>\n",
       "      <th>1</th>\n",
       "      <td>fd359c20-af7c-5560-b412-56bfbbd154e3</td>\n",
       "      <td>NaN</td>\n",
       "      <td>alleestrasse 1</td>\n",
       "      <td>2020-09-02</td>\n",
       "      <td>11:08:19 AM</td>\n",
       "      <td>centaurea nigra</td>\n",
       "      <td>centaurée noire</td>\n",
       "      <td>could be jaucee</td>\n",
       "    </tr>\n",
       "    <tr>\n",
       "      <th>2</th>\n",
       "      <td>469cc29c-f377-5312-ba11-f222ca888cec</td>\n",
       "      <td>NaN</td>\n",
       "      <td>alleestrasse 1</td>\n",
       "      <td>2020-09-02</td>\n",
       "      <td>11:06:59 AM</td>\n",
       "      <td>plantago media</td>\n",
       "      <td>plantain moyen</td>\n",
       "      <td>NaN</td>\n",
       "    </tr>\n",
       "    <tr>\n",
       "      <th>3</th>\n",
       "      <td>c7613f5f-b22d-5b51-832f-06cb61bc4128</td>\n",
       "      <td>NaN</td>\n",
       "      <td>alleestrasse 1</td>\n",
       "      <td>2020-09-02</td>\n",
       "      <td>11:06:05 AM</td>\n",
       "      <td>chenopodium album agg.</td>\n",
       "      <td>chénopode blanc</td>\n",
       "      <td>NaN</td>\n",
       "    </tr>\n",
       "    <tr>\n",
       "      <th>4</th>\n",
       "      <td>9bba2690-f7a5-54b4-bd74-74fd056ccb3a</td>\n",
       "      <td>NaN</td>\n",
       "      <td>alleestrasse 1</td>\n",
       "      <td>2020-09-02</td>\n",
       "      <td>11:05:18 AM</td>\n",
       "      <td>centaurea jacea agg.</td>\n",
       "      <td>centaurée jacée</td>\n",
       "      <td>NaN</td>\n",
       "    </tr>\n",
       "  </tbody>\n",
       "</table>\n",
       "</div>"
      ],
      "text/plain": [
       "                                     id  obs           place        date  \\\n",
       "0  02777507-6356-5477-92eb-6d7aea343265  NaN  alleestrasse 1  2020-09-02   \n",
       "1  fd359c20-af7c-5560-b412-56bfbbd154e3  NaN  alleestrasse 1  2020-09-02   \n",
       "2  469cc29c-f377-5312-ba11-f222ca888cec  NaN  alleestrasse 1  2020-09-02   \n",
       "3  c7613f5f-b22d-5b51-832f-06cb61bc4128  NaN  alleestrasse 1  2020-09-02   \n",
       "4  9bba2690-f7a5-54b4-bd74-74fd056ccb3a  NaN  alleestrasse 1  2020-09-02   \n",
       "\n",
       "          time                     sci               name            notes  \n",
       "0  11:09:04 AM     plantago lanceolata  plantain lancéolé              NaN  \n",
       "1  11:08:19 AM         centaurea nigra    centaurée noire  could be jaucee  \n",
       "2  11:06:59 AM          plantago media     plantain moyen              NaN  \n",
       "3  11:06:05 AM  chenopodium album agg.    chénopode blanc              NaN  \n",
       "4  11:05:18 AM    centaurea jacea agg.    centaurée jacée              NaN  "
      ]
     },
     "execution_count": 4,
     "metadata": {},
     "output_type": "execute_result"
    }
   ],
   "source": [
    "a.iloc[:5]"
   ]
  },
  {
   "cell_type": "code",
   "execution_count": 5,
   "metadata": {},
   "outputs": [
    {
     "data": {
      "text/html": [
       "<div>\n",
       "<style scoped>\n",
       "    .dataframe tbody tr th:only-of-type {\n",
       "        vertical-align: middle;\n",
       "    }\n",
       "\n",
       "    .dataframe tbody tr th {\n",
       "        vertical-align: top;\n",
       "    }\n",
       "\n",
       "    .dataframe thead th {\n",
       "        text-align: right;\n",
       "    }\n",
       "</style>\n",
       "<table border=\"1\" class=\"dataframe\">\n",
       "  <thead>\n",
       "    <tr style=\"text-align: right;\">\n",
       "      <th></th>\n",
       "      <th>place</th>\n",
       "      <th>date</th>\n",
       "      <th>time</th>\n",
       "      <th>species</th>\n",
       "      <th>name</th>\n",
       "    </tr>\n",
       "  </thead>\n",
       "  <tbody>\n",
       "    <tr>\n",
       "      <th>0</th>\n",
       "      <td>alleestrasse 1</td>\n",
       "      <td>2020-09-02</td>\n",
       "      <td>11:09:04 AM</td>\n",
       "      <td>plantago lanceolata</td>\n",
       "      <td>plantain lancéolé</td>\n",
       "    </tr>\n",
       "    <tr>\n",
       "      <th>1</th>\n",
       "      <td>alleestrasse 1</td>\n",
       "      <td>2020-09-02</td>\n",
       "      <td>11:08:19 AM</td>\n",
       "      <td>centaurea nigra</td>\n",
       "      <td>centaurée noire</td>\n",
       "    </tr>\n",
       "    <tr>\n",
       "      <th>2</th>\n",
       "      <td>alleestrasse 1</td>\n",
       "      <td>2020-09-02</td>\n",
       "      <td>11:06:59 AM</td>\n",
       "      <td>plantago media</td>\n",
       "      <td>plantain moyen</td>\n",
       "    </tr>\n",
       "    <tr>\n",
       "      <th>3</th>\n",
       "      <td>alleestrasse 1</td>\n",
       "      <td>2020-09-02</td>\n",
       "      <td>11:06:05 AM</td>\n",
       "      <td>chenopodium album agg.</td>\n",
       "      <td>chénopode blanc</td>\n",
       "    </tr>\n",
       "    <tr>\n",
       "      <th>4</th>\n",
       "      <td>alleestrasse 1</td>\n",
       "      <td>2020-09-02</td>\n",
       "      <td>11:05:18 AM</td>\n",
       "      <td>centaurea jacea agg.</td>\n",
       "      <td>centaurée jacée</td>\n",
       "    </tr>\n",
       "  </tbody>\n",
       "</table>\n",
       "</div>"
      ],
      "text/plain": [
       "            place        date         time                 species  \\\n",
       "0  alleestrasse 1  2020-09-02  11:09:04 AM     plantago lanceolata   \n",
       "1  alleestrasse 1  2020-09-02  11:08:19 AM         centaurea nigra   \n",
       "2  alleestrasse 1  2020-09-02  11:06:59 AM          plantago media   \n",
       "3  alleestrasse 1  2020-09-02  11:06:05 AM  chenopodium album agg.   \n",
       "4  alleestrasse 1  2020-09-02  11:05:18 AM    centaurea jacea agg.   \n",
       "\n",
       "                name  \n",
       "0  plantain lancéolé  \n",
       "1    centaurée noire  \n",
       "2     plantain moyen  \n",
       "3    chénopode blanc  \n",
       "4    centaurée jacée  "
      ]
     },
     "execution_count": 5,
     "metadata": {},
     "output_type": "execute_result"
    }
   ],
   "source": [
    "b.iloc[:5]"
   ]
  },
  {
   "cell_type": "code",
   "execution_count": 6,
   "metadata": {},
   "outputs": [
    {
     "data": {
      "text/html": [
       "<div>\n",
       "<style scoped>\n",
       "    .dataframe tbody tr th:only-of-type {\n",
       "        vertical-align: middle;\n",
       "    }\n",
       "\n",
       "    .dataframe tbody tr th {\n",
       "        vertical-align: top;\n",
       "    }\n",
       "\n",
       "    .dataframe thead th {\n",
       "        text-align: right;\n",
       "    }\n",
       "</style>\n",
       "<table border=\"1\" class=\"dataframe\">\n",
       "  <thead>\n",
       "    <tr style=\"text-align: right;\">\n",
       "      <th></th>\n",
       "      <th>lon</th>\n",
       "      <th>lat</th>\n",
       "      <th>place</th>\n",
       "      <th>description</th>\n",
       "    </tr>\n",
       "  </thead>\n",
       "  <tbody>\n",
       "    <tr>\n",
       "      <th>0</th>\n",
       "      <td>7.253285</td>\n",
       "      <td>47.138823</td>\n",
       "      <td>Jura 2</td>\n",
       "      <td>NaN</td>\n",
       "    </tr>\n",
       "    <tr>\n",
       "      <th>1</th>\n",
       "      <td>7.791570</td>\n",
       "      <td>46.685610</td>\n",
       "      <td>Sundgraben Port</td>\n",
       "      <td>NaN</td>\n",
       "    </tr>\n",
       "    <tr>\n",
       "      <th>2</th>\n",
       "      <td>7.252867</td>\n",
       "      <td>47.137585</td>\n",
       "      <td>Salome 3</td>\n",
       "      <td>NaN</td>\n",
       "    </tr>\n",
       "    <tr>\n",
       "      <th>3</th>\n",
       "      <td>7.252760</td>\n",
       "      <td>47.137273</td>\n",
       "      <td>Salome 4</td>\n",
       "      <td>NaN</td>\n",
       "    </tr>\n",
       "    <tr>\n",
       "      <th>4</th>\n",
       "      <td>7.252618</td>\n",
       "      <td>47.136619</td>\n",
       "      <td>Alleestrasse 4\\n</td>\n",
       "      <td>NaN</td>\n",
       "    </tr>\n",
       "  </tbody>\n",
       "</table>\n",
       "</div>"
      ],
      "text/plain": [
       "        lon        lat             place  description\n",
       "0  7.253285  47.138823            Jura 2          NaN\n",
       "1  7.791570  46.685610   Sundgraben Port          NaN\n",
       "2  7.252867  47.137585          Salome 3          NaN\n",
       "3  7.252760  47.137273          Salome 4          NaN\n",
       "4  7.252618  47.136619  Alleestrasse 4\\n          NaN"
      ]
     },
     "execution_count": 6,
     "metadata": {},
     "output_type": "execute_result"
    }
   ],
   "source": [
    "c.iloc[:5]"
   ]
  },
  {
   "cell_type": "code",
   "execution_count": 7,
   "metadata": {},
   "outputs": [
    {
     "data": {
      "text/html": [
       "<div>\n",
       "<style scoped>\n",
       "    .dataframe tbody tr th:only-of-type {\n",
       "        vertical-align: middle;\n",
       "    }\n",
       "\n",
       "    .dataframe tbody tr th {\n",
       "        vertical-align: top;\n",
       "    }\n",
       "\n",
       "    .dataframe thead th {\n",
       "        text-align: right;\n",
       "    }\n",
       "</style>\n",
       "<table border=\"1\" class=\"dataframe\">\n",
       "  <thead>\n",
       "    <tr style=\"text-align: right;\">\n",
       "      <th></th>\n",
       "      <th>acceptedtaxonkey</th>\n",
       "      <th>acceptedscientificname</th>\n",
       "      <th>numberofoccurrences</th>\n",
       "      <th>kingdom</th>\n",
       "      <th>phylum</th>\n",
       "      <th>class</th>\n",
       "      <th>order</th>\n",
       "      <th>family</th>\n",
       "      <th>genus</th>\n",
       "      <th>species</th>\n",
       "    </tr>\n",
       "  </thead>\n",
       "  <tbody>\n",
       "    <tr>\n",
       "      <th>0</th>\n",
       "      <td>2701311</td>\n",
       "      <td>juncus effusus l.</td>\n",
       "      <td>8778</td>\n",
       "      <td>plantae</td>\n",
       "      <td>tracheophyta</td>\n",
       "      <td>liliopsida</td>\n",
       "      <td>poales</td>\n",
       "      <td>juncaceae</td>\n",
       "      <td>juncus</td>\n",
       "      <td>juncus effusus</td>\n",
       "    </tr>\n",
       "    <tr>\n",
       "      <th>1</th>\n",
       "      <td>2713300</td>\n",
       "      <td>isolepis setacea (l.) r.br.</td>\n",
       "      <td>362</td>\n",
       "      <td>plantae</td>\n",
       "      <td>tracheophyta</td>\n",
       "      <td>liliopsida</td>\n",
       "      <td>poales</td>\n",
       "      <td>cyperaceae</td>\n",
       "      <td>isolepis</td>\n",
       "      <td>isolepis setacea</td>\n",
       "    </tr>\n",
       "    <tr>\n",
       "      <th>2</th>\n",
       "      <td>2874621</td>\n",
       "      <td>citrullus lanatus (thunb.) matsumura &amp; nakai</td>\n",
       "      <td>11</td>\n",
       "      <td>plantae</td>\n",
       "      <td>tracheophyta</td>\n",
       "      <td>magnoliopsida</td>\n",
       "      <td>cucurbitales</td>\n",
       "      <td>cucurbitaceae</td>\n",
       "      <td>citrullus</td>\n",
       "      <td>citrullus lanatus</td>\n",
       "    </tr>\n",
       "    <tr>\n",
       "      <th>3</th>\n",
       "      <td>8259811</td>\n",
       "      <td>cephalaria alpina schrad.</td>\n",
       "      <td>353</td>\n",
       "      <td>plantae</td>\n",
       "      <td>tracheophyta</td>\n",
       "      <td>magnoliopsida</td>\n",
       "      <td>dipsacales</td>\n",
       "      <td>caprifoliaceae</td>\n",
       "      <td>cephalaria</td>\n",
       "      <td>cephalaria alpina</td>\n",
       "    </tr>\n",
       "    <tr>\n",
       "      <th>4</th>\n",
       "      <td>2889934</td>\n",
       "      <td>tropaeolum majus l.</td>\n",
       "      <td>64</td>\n",
       "      <td>plantae</td>\n",
       "      <td>tracheophyta</td>\n",
       "      <td>magnoliopsida</td>\n",
       "      <td>brassicales</td>\n",
       "      <td>tropaeolaceae</td>\n",
       "      <td>tropaeolum</td>\n",
       "      <td>tropaeolum majus</td>\n",
       "    </tr>\n",
       "  </tbody>\n",
       "</table>\n",
       "</div>"
      ],
      "text/plain": [
       "   acceptedtaxonkey                        acceptedscientificname  \\\n",
       "0           2701311                             juncus effusus l.   \n",
       "1           2713300                   isolepis setacea (l.) r.br.   \n",
       "2           2874621  citrullus lanatus (thunb.) matsumura & nakai   \n",
       "3           8259811                     cephalaria alpina schrad.   \n",
       "4           2889934                           tropaeolum majus l.   \n",
       "\n",
       "   numberofoccurrences  kingdom        phylum          class         order  \\\n",
       "0                 8778  plantae  tracheophyta     liliopsida        poales   \n",
       "1                  362  plantae  tracheophyta     liliopsida        poales   \n",
       "2                   11  plantae  tracheophyta  magnoliopsida  cucurbitales   \n",
       "3                  353  plantae  tracheophyta  magnoliopsida    dipsacales   \n",
       "4                   64  plantae  tracheophyta  magnoliopsida   brassicales   \n",
       "\n",
       "           family       genus            species  \n",
       "0       juncaceae      juncus     juncus effusus  \n",
       "1      cyperaceae    isolepis   isolepis setacea  \n",
       "2   cucurbitaceae   citrullus  citrullus lanatus  \n",
       "3  caprifoliaceae  cephalaria  cephalaria alpina  \n",
       "4   tropaeolaceae  tropaeolum   tropaeolum majus  "
      ]
     },
     "execution_count": 7,
     "metadata": {},
     "output_type": "execute_result"
    }
   ],
   "source": [
    "d.iloc[:5]"
   ]
  },
  {
   "cell_type": "code",
   "execution_count": 8,
   "metadata": {},
   "outputs": [
    {
     "data": {
      "text/plain": [
       "Index(['place', 'date', 'time', 'species', 'name'], dtype='object')"
      ]
     },
     "execution_count": 8,
     "metadata": {},
     "output_type": "execute_result"
    }
   ],
   "source": [
    "b.columns"
   ]
  },
  {
   "cell_type": "code",
   "execution_count": 9,
   "metadata": {},
   "outputs": [
    {
     "data": {
      "text/plain": [
       "0         plantago lanceolata\n",
       "1             centaurea nigra\n",
       "2              plantago media\n",
       "3      chenopodium album agg.\n",
       "4        centaurea jacea agg.\n",
       "                ...          \n",
       "932          allium carinatum\n",
       "933          viburnum lantana\n",
       "934       filipendula ulmaria\n",
       "935         lythrum salicaria\n",
       "936       lysimachia vulgaris\n",
       "Name: species, Length: 937, dtype: object"
      ]
     },
     "execution_count": 9,
     "metadata": {},
     "output_type": "execute_result"
    }
   ],
   "source": [
    "b.species"
   ]
  },
  {
   "cell_type": "code",
   "execution_count": 10,
   "metadata": {},
   "outputs": [],
   "source": [
    "def remove_agg(x):\n",
    "    try:\n",
    "        data=x.remove('agg.')\n",
    "    except:\n",
    "        data=x\n",
    "    return data\n",
    " \n",
    "def join_that(x):\n",
    "    try:\n",
    "        data='-'.join([a_name for a_name in x])\n",
    "    except:\n",
    "        data=x\n",
    "    return data"
   ]
  },
  {
   "cell_type": "code",
   "execution_count": 1,
   "metadata": {},
   "outputs": [
    {
     "ename": "NameError",
     "evalue": "name 'b' is not defined",
     "output_type": "error",
     "traceback": [
      "\u001b[0;31m---------------------------------------------------------------------------\u001b[0m",
      "\u001b[0;31mNameError\u001b[0m                                 Traceback (most recent call last)",
      "\u001b[0;32m<ipython-input-1-0b77f1edcf92>\u001b[0m in \u001b[0;36m<module>\u001b[0;34m\u001b[0m\n\u001b[0;32m----> 1\u001b[0;31m \u001b[0mb\u001b[0m\u001b[0;34m[\u001b[0m\u001b[0;34m'speciesx'\u001b[0m\u001b[0;34m]\u001b[0m \u001b[0;34m=\u001b[0m \u001b[0mb\u001b[0m\u001b[0;34m.\u001b[0m\u001b[0mspecies\u001b[0m\u001b[0;34m.\u001b[0m\u001b[0mapply\u001b[0m\u001b[0;34m(\u001b[0m\u001b[0;32mlambda\u001b[0m \u001b[0mx\u001b[0m\u001b[0;34m:\u001b[0m \u001b[0mx\u001b[0m\u001b[0;34m.\u001b[0m\u001b[0msplit\u001b[0m\u001b[0;34m(\u001b[0m\u001b[0;34m\" \"\u001b[0m\u001b[0;34m)\u001b[0m\u001b[0;34m)\u001b[0m\u001b[0;34m\u001b[0m\u001b[0;34m\u001b[0m\u001b[0m\n\u001b[0m\u001b[1;32m      2\u001b[0m \u001b[0mb\u001b[0m\u001b[0;34m[\u001b[0m\u001b[0;34m'speciesy'\u001b[0m\u001b[0;34m]\u001b[0m \u001b[0;34m=\u001b[0m \u001b[0mb\u001b[0m\u001b[0;34m.\u001b[0m\u001b[0mspeciesx\u001b[0m\u001b[0;34m.\u001b[0m\u001b[0mapply\u001b[0m\u001b[0;34m(\u001b[0m\u001b[0;32mlambda\u001b[0m \u001b[0mx\u001b[0m\u001b[0;34m:\u001b[0m \u001b[0mremove_agg\u001b[0m\u001b[0;34m(\u001b[0m\u001b[0mx\u001b[0m\u001b[0;34m)\u001b[0m\u001b[0;34m)\u001b[0m\u001b[0;34m\u001b[0m\u001b[0;34m\u001b[0m\u001b[0m\n\u001b[1;32m      3\u001b[0m \u001b[0;34m\u001b[0m\u001b[0m\n\u001b[1;32m      4\u001b[0m \u001b[0;31m#dictionary of species names to replace in b (badname in b : goodname in d)\u001b[0m\u001b[0;34m\u001b[0m\u001b[0;34m\u001b[0m\u001b[0;34m\u001b[0m\u001b[0m\n\u001b[1;32m      5\u001b[0m \u001b[0mreplace\u001b[0m \u001b[0;34m=\u001b[0m \u001b[0;34m{\u001b[0m\u001b[0;34m'verbanum bonariensis'\u001b[0m\u001b[0;34m:\u001b[0m\u001b[0;34m'verbena bonariensis'\u001b[0m\u001b[0;34m,\u001b[0m \u001b[0;34m'medicago varia'\u001b[0m\u001b[0;34m:\u001b[0m\u001b[0;34m'medicago sativa'\u001b[0m\u001b[0;34m,\u001b[0m \u001b[0;34m\"oenothera\"\u001b[0m\u001b[0;34m:\u001b[0m\u001b[0;34m\"oenothera biennis\"\u001b[0m\u001b[0;34m,\u001b[0m \u001b[0;34m\"geranium pratens\"\u001b[0m\u001b[0;34m:\u001b[0m\u001b[0;34m\"geranium pratense\"\u001b[0m\u001b[0;34m,\u001b[0m \u001b[0;34m\"senecio jacobaea\"\u001b[0m\u001b[0;34m:\u001b[0m \u001b[0;34m\"jacobaea vulgaris\"\u001b[0m\u001b[0;34m,\u001b[0m \u001b[0;34m\"oenothera biennis \"\u001b[0m\u001b[0;34m:\u001b[0m \u001b[0;34m\"oenothera biennis\"\u001b[0m\u001b[0;34m,\u001b[0m \u001b[0;34m\"solidalgo canadensis\"\u001b[0m\u001b[0;34m:\u001b[0m \u001b[0;34m\"solidago canadensis\"\u001b[0m\u001b[0;34m,\u001b[0m \u001b[0;34m\"verbascum lynchitis\"\u001b[0m\u001b[0;34m:\u001b[0m\u001b[0;34m\"verbascum lychnitis\"\u001b[0m\u001b[0;34m,\u001b[0m \u001b[0;34m\"verbascum negris\"\u001b[0m\u001b[0;34m:\u001b[0m\u001b[0;34m\"verbascum nigrum\"\u001b[0m\u001b[0;34m,\u001b[0m\u001b[0;34m\"securigea varia\"\u001b[0m\u001b[0;34m:\u001b[0m \u001b[0;34m\"securigera varia\"\u001b[0m\u001b[0;34m,\u001b[0m \u001b[0;34m\"melilotus officianalis\"\u001b[0m\u001b[0;34m:\u001b[0m \u001b[0;34m\"melilotus officinalis\"\u001b[0m\u001b[0;34m,\u001b[0m \u001b[0;34m\"knautia maxima\"\u001b[0m\u001b[0;34m:\u001b[0m \u001b[0;34m\"knautia dipsacifolia\"\u001b[0m\u001b[0;34m,\u001b[0m \u001b[0;34m\"hieracium aurantiacum\"\u001b[0m\u001b[0;34m:\u001b[0m\u001b[0;34m\"pilosella aurantiaca\"\u001b[0m\u001b[0;34m,\u001b[0m \u001b[0;34m\"sysimbrium officinale\"\u001b[0m\u001b[0;34m:\u001b[0m\u001b[0;34m\"sisymbrium officinale\"\u001b[0m\u001b[0;34m,\u001b[0m \u001b[0;34m\"geranium robertanium\"\u001b[0m\u001b[0;34m:\u001b[0m\u001b[0;34m\"geranium robertianum\"\u001b[0m\u001b[0;34m,\u001b[0m \u001b[0;34m\"mycelis muralis\"\u001b[0m\u001b[0;34m:\u001b[0m \u001b[0;34m\"lactuca muralis\"\u001b[0m\u001b[0;34m,\u001b[0m \u001b[0;34m\"calamintha nepeta\"\u001b[0m\u001b[0;34m:\u001b[0m \u001b[0;34m\"clinopodium nepeta\"\u001b[0m\u001b[0;34m,\u001b[0m \u001b[0;34m\"polygonum persicaria\"\u001b[0m\u001b[0;34m:\u001b[0m\u001b[0;34m\"persicaria maculosa\"\u001b[0m\u001b[0;34m,\u001b[0m \u001b[0;34m\"sorbus aria\"\u001b[0m\u001b[0;34m:\u001b[0m\u001b[0;34m\"aria edulis\"\u001b[0m\u001b[0;34m}\u001b[0m\u001b[0;34m\u001b[0m\u001b[0;34m\u001b[0m\u001b[0m\n",
      "\u001b[0;31mNameError\u001b[0m: name 'b' is not defined"
     ]
    }
   ],
   "source": [
    "b['speciesx'] = b.species.apply(lambda x: x.split(\" \"))\n",
    "b['speciesy'] = b.speciesx.apply(lambda x: remove_agg(x))\n",
    "\n",
    "#dictionary of species names to replace in b (badname in b : goodname in d)\n",
    "replace = {'verbanum bonariensis':'verbena bonariensis', 'medicago varia':'medicago sativa', \"oenothera\":\"oenothera biennis\", \"geranium pratens\":\"geranium pratense\", \"senecio jacobaea\": \"jacobaea vulgaris\", \"oenothera biennis \": \"oenothera biennis\", \"solidalgo canadensis\": \"solidago canadensis\", \"verbascum lynchitis\":\"verbascum lychnitis\", \"verbascum negris\":\"verbascum nigrum\",\"securigea varia\": \"securigera varia\", \"melilotus officianalis\": \"melilotus officinalis\", \"knautia maxima\": \"knautia dipsacifolia\", \"hieracium aurantiacum\":\"pilosella aurantiaca\", \"sysimbrium officinale\":\"sisymbrium officinale\", \"geranium robertanium\":\"geranium robertianum\", \"mycelis muralis\": \"lactuca muralis\", \"calamintha nepeta\": \"clinopodium nepeta\", \"polygonum persicaria\":\"persicaria maculosa\", \"sorbus aria\":\"aria edulis\"}\n"
   ]
  },
  {
   "cell_type": "code",
   "execution_count": 12,
   "metadata": {},
   "outputs": [],
   "source": [
    "b['speciesy'] = b.speciesy.apply(lambda x:   join_that(x))"
   ]
  },
  {
   "cell_type": "code",
   "execution_count": 13,
   "metadata": {},
   "outputs": [
    {
     "data": {
      "text/plain": [
       "0      plantago-lanceolata\n",
       "1          centaurea-nigra\n",
       "2           plantago-media\n",
       "3                     None\n",
       "4                     None\n",
       "              ...         \n",
       "932       allium-carinatum\n",
       "933       viburnum-lantana\n",
       "934    filipendula-ulmaria\n",
       "935      lythrum-salicaria\n",
       "936    lysimachia-vulgaris\n",
       "Name: speciesy, Length: 937, dtype: object"
      ]
     },
     "execution_count": 13,
     "metadata": {},
     "output_type": "execute_result"
    }
   ],
   "source": [
    "b['speciesy']"
   ]
  },
  {
   "cell_type": "code",
   "execution_count": 14,
   "metadata": {},
   "outputs": [],
   "source": [
    "# the place variable does not match in the data frames\n",
    "# df['text'].str.split('::').str[0]\n",
    "c['place'] = c.place.str.split('\\n').str[0]\n",
    "d['species'] = d.species.str.split('\\n').str[0]\n",
    "# get rid of uppercase\n",
    "c.place = c.place.str.lower()\n",
    "b.place = b.place.str.lower()\n",
    "b.species = b.species.str.lower()\n",
    "d.species = d.species.str.lower()\n",
    "\n",
    "# get rid of spaces\n",
    "c.place = c.place.map(lambda x:  x.replace(\" \",\"-\"))\n",
    "b.place = b.place.map(lambda x:  x.replace(\" \",\"-\"))"
   ]
  },
  {
   "cell_type": "code",
   "execution_count": 15,
   "metadata": {},
   "outputs": [
    {
     "name": "stdout",
     "output_type": "stream",
     "text": [
      "There are 111 different place names\n",
      "\n",
      "\n",
      "There are 111 different names in b\n",
      "\n",
      "\n",
      "There are 111 different names in c\n",
      "\n",
      "\n",
      "There are 111 shared between b and c\n",
      "There are 111 different species names\n",
      "\n",
      "\n",
      "There are 256 different names in b\n",
      "\n",
      "\n",
      "There are 3418 different names in d\n",
      "\n",
      "\n",
      "There are 179 shared between b and d\n",
      "\n",
      "There are 77 in b not in d\n"
     ]
    }
   ],
   "source": [
    "# find place names that don't match:\n",
    "a_locs = a.place.unique()\n",
    "b_locs = b.place.unique()\n",
    "c_locs = c.place.unique()\n",
    "b_species = b.species.unique()\n",
    "d_species = d.species.unique()\n",
    "\n",
    "# get the symetric difference between the different place name lists\n",
    "placenames = list(set(c_locs) | set(b_locs))\n",
    "intersect_placenames = list(set(c_locs) & set(b_locs))\n",
    "print(F\"There are {len(placenames)} different place names\\n\")\n",
    "print(F\"\\nThere are {len(b_locs)} different names in b\\n\")\n",
    "print(F\"\\nThere are {len(c_locs)} different names in c\\n\")\n",
    "print(F\"\\nThere are {len(intersect_placenames)} shared between b and c\")\n",
    "\n",
    "#find the species in the data set that are not in the flora helvetica set\n",
    "speciesnames = list(set(d_species) | set(b_species))\n",
    "intersect_speciesnames = list(set(d_species) & set(b_species))\n",
    "in_b_not_d = list(set(b_species) - set(intersect_speciesnames))\n",
    "print(F\"There are {len(placenames)} different species names\\n\")\n",
    "print(F\"\\nThere are {len(b_species)} different names in b\\n\")\n",
    "print(F\"\\nThere are {len(d_species)} different names in d\\n\")\n",
    "print(F\"\\nThere are {len(intersect_speciesnames)} shared between b and d\")\n",
    "print(F\"\\nThere are {len(in_b_not_d)} in b not in d\")"
   ]
  },
  {
   "cell_type": "code",
   "execution_count": 16,
   "metadata": {},
   "outputs": [
    {
     "name": "stdout",
     "output_type": "stream",
     "text": [
      "The shared species names:\n",
      "\n",
      "['boujean-3', 'pieterlen-stockweg', 'cygnes-lot-4', 'cygnes-lot-5', 'cygnes-lot-1', 'schlosslifeld-3', 'chemin-de-la-course', 'football-4', 'hayek-1', 'swatch-1', 'cff-path-2', 'frinvillier-fabrique-4', 'gottstatt-3', 'lucherz-seestrasse', 'buren-1', 'taubenloch-1', 'alleestrasse-3', 'college', 'lezard-1', 'chemin-des-voies', 'sundgraben-forest-right', 'football-1', 'rue-alfred-aebi', 'salome-2', 'sundgraben-gorge', 'cff-path-1', 'sureaux', 'frinvillier-fabrique-3', 'bluets-3', 'rue-de-leau-3', 'truite-1', 'schlosslifeld-2', 'sonnenfeld-1', 'lezard-2', 'sundgraben-port', 'reichenbach', 'truite-5', 'schussinsel-6', 'gottstatt-2', 'pery-taubenlochweg', 'truite-4', 'cff-lot-2', 'saint-ursanne-falls', 'weissenau', 'buren-3', 'buren-2', 'chapelle', 'swatch-2', 'ligerz-favorite', 'energie-2', 'cheyres-reserve', 'cff-path-3', 'sonnenfeld-2', 'football-2', 'schussinsel-2', 'twann-gorges', 'boujean-1', 'schussinsel-3', 'parc-muni', 'sundgraben-bridge-left', 'cygnes-lot-3', 'gottstatt-1', 'rondchatel', 'alleestrasse-1', 'bluets-2', 'strom', 'cygnes-lot-2', 'salome-5', 'alleestrasse-4', 'alleestrasse-2', 'football-3', 'cff-lot-1', 'schussinsel-4', 'schlosslistrasse', 'boujean-2', 'schussinsel-1', 'salome-3', 'salome-1', 'sundgraben-beach', 'energie-3', 'schlosslifeld-1', 'rue-de-leau-5', 'football-5', 'rue-de-leau-4', 'rue-de-leau-2', 'salome-4', 'cygnes-lot-7', 'frinvillier-fabrique-1', 'cygnes-lot-6', 'frinvillier-fabrique-2', 'truite-3', 'cheyres-path', 'twann-estuary', 'rue-de-leau-1', 'taubenloch-2', 'sundgraben-forest-left', 'rue-centrale', 'transjurane-tunnel', 'energie-1', 'bluets-1', 'orvin-petit-moulin', 'football-6', 'cygnes-lot-8', 'jura-2', 'jura-1', 'dam', 'truite-2', 'cygnes', 'frinvillier-ramp', 'schussinsel-5', 'lucherz-bureli']\n"
     ]
    }
   ],
   "source": [
    "print(F\"The shared species names:\\n\\n{intersect_placenames}\")"
   ]
  },
  {
   "cell_type": "code",
   "execution_count": 17,
   "metadata": {},
   "outputs": [
    {
     "data": {
      "text/plain": [
       "['knautia arvensis agg.',\n",
       " 'sorbus aria agg.',\n",
       " 'geranium pratens',\n",
       " 'ranunculus acris agg.',\n",
       " 'dipsacus fullonum',\n",
       " 'oenothera biennis aggr.',\n",
       " 'senecio jacobaea',\n",
       " 'malus sylvestris agg.',\n",
       " 'polygonum persicaria',\n",
       " 'rubus fruticosus',\n",
       " 'x',\n",
       " 'lotus corniculatus agg.',\n",
       " 'verbanum bonariensis ',\n",
       " 'erigeron annuus',\n",
       " 'erodium cicutarium agg.',\n",
       " 'anemone sylvestris',\n",
       " 'geranium robertanium',\n",
       " 'leucanthemum vulgare agg.',\n",
       " 'rorippa islandica agg.',\n",
       " 'galeopsis tetrahit agg.',\n",
       " 'prunus spinosa agg.',\n",
       " 'stachys recta agg.',\n",
       " 'knautia maxima',\n",
       " 'verbascum negris',\n",
       " 'campanula rotundifolia agg.',\n",
       " 'verbascum lynchitis',\n",
       " 'galium mollugo agg.',\n",
       " 'packera aurea',\n",
       " 'artemisia vulgaris agg.',\n",
       " 'hylotelephium telephium agg.',\n",
       " 'salvia pratensis agg.',\n",
       " 'onobrychis viciifolia agg.',\n",
       " 'hieracium morulum',\n",
       " 'centaurea jacea agg.',\n",
       " 'dianthus carthusianorum agg.',\n",
       " 'salix nigra',\n",
       " 'taraxacum',\n",
       " 'rubus rubus sect.',\n",
       " 'securigea varia',\n",
       " 'solidalgo canadensis',\n",
       " 'rubus',\n",
       " 'mycelis muralis',\n",
       " 'linaria vulgaris agg.',\n",
       " 'calamintha nepeta agg.',\n",
       " 'achillea millefolium agg.',\n",
       " 'chaenorhinum minus agg.',\n",
       " 'polygonum aviculare agg.',\n",
       " 'persicaria longiseta',\n",
       " 'achillea ptarmica agg.',\n",
       " 'parthenocissus quinquefolia agg.',\n",
       " 'trifolium dubium agg.',\n",
       " 'melilotus officianalis',\n",
       " 'geranium pyrenaicum ',\n",
       " 'geranium robertianum agg.',\n",
       " 'scabiosa columbaria agg.',\n",
       " 'calystegia sepium agg.',\n",
       " 'geranium molle agg.',\n",
       " 'vicia cracca agg.',\n",
       " 'symphytum officinale agg.',\n",
       " 'ligustrum vulgare',\n",
       " 'sysimbrium officinale',\n",
       " 'medicago varia',\n",
       " 'populus alba agg.',\n",
       " 'solanum ptychanthum',\n",
       " 'mentha aquatica agg.',\n",
       " 'stellaria aquatica',\n",
       " 'ligustrum sinense',\n",
       " 'chenopodium album agg.',\n",
       " 'eupatorium serotinum',\n",
       " 'phlox pilosa',\n",
       " 'corylus cornuta',\n",
       " 'oenothera',\n",
       " 'plantago media agg.',\n",
       " 'mentha spicata agg.',\n",
       " 'tripleurospermum maritimum agg.',\n",
       " 'hieracium aurantiacum',\n",
       " 'origanum vulgare agg.']"
      ]
     },
     "execution_count": 17,
     "metadata": {},
     "output_type": "execute_result"
    }
   ],
   "source": [
    "# places in b that do not match c:\n",
    "b_no_match = [x for x in b_locs if x not in c_locs]\n",
    "b_no_match\n",
    "in_b_not_d"
   ]
  },
  {
   "cell_type": "code",
   "execution_count": 18,
   "metadata": {},
   "outputs": [
    {
     "data": {
      "text/plain": [
       "pandas.core.series.Series"
      ]
     },
     "execution_count": 18,
     "metadata": {},
     "output_type": "execute_result"
    }
   ],
   "source": [
    "type(b.species)"
   ]
  },
  {
   "cell_type": "code",
   "execution_count": 19,
   "metadata": {},
   "outputs": [
    {
     "data": {
      "text/plain": [
       "dict"
      ]
     },
     "execution_count": 19,
     "metadata": {},
     "output_type": "execute_result"
    }
   ],
   "source": [
    "replace = {'badname':'goodname'}\n",
    "type(replace)"
   ]
  },
  {
   "cell_type": "code",
   "execution_count": 20,
   "metadata": {},
   "outputs": [
    {
     "data": {
      "text/plain": [
       "'goodname'"
      ]
     },
     "execution_count": 20,
     "metadata": {},
     "output_type": "execute_result"
    }
   ],
   "source": [
    "replace['badname']"
   ]
  },
  {
   "cell_type": "code",
   "execution_count": 21,
   "metadata": {},
   "outputs": [],
   "source": [
    "b['a_new_name'] = b.species.map(lambda x: F\"{x}three\")"
   ]
  },
  {
   "cell_type": "code",
   "execution_count": 22,
   "metadata": {},
   "outputs": [
    {
     "data": {
      "text/plain": [
       "0         plantago lanceolatathree\n",
       "1             centaurea nigrathree\n",
       "2              plantago mediathree\n",
       "3      chenopodium album agg.three\n",
       "4        centaurea jacea agg.three\n",
       "                  ...             \n",
       "932          allium carinatumthree\n",
       "933          viburnum lantanathree\n",
       "934       filipendula ulmariathree\n",
       "935         lythrum salicariathree\n",
       "936       lysimachia vulgaristhree\n",
       "Name: a_new_name, Length: 937, dtype: object"
      ]
     },
     "execution_count": 22,
     "metadata": {},
     "output_type": "execute_result"
    }
   ],
   "source": [
    "b.a_new_name"
   ]
  },
  {
   "cell_type": "code",
   "execution_count": 23,
   "metadata": {},
   "outputs": [
    {
     "name": "stdout",
     "output_type": "stream",
     "text": [
      "There are 3495 different species names\n",
      "\n",
      "\n",
      "There are 256 different names in b\n",
      "\n",
      "\n",
      "There are 3418 different names in d\n",
      "\n",
      "\n",
      "There are 179 shared between b and d\n",
      "\n",
      "There are 77 in b not in d\n"
     ]
    }
   ],
   "source": [
    "#attempt to correct species names\n",
    "\n",
    "#function fixes the scientific name in the 4th position of the \n",
    "y = b.species\n",
    "for k in range(len(y[3])):\n",
    "    if y[3][k] == \"verbanum bonariensis\":\n",
    "        y[3][k] = \"verbena bonariensis\"\n",
    "    if y[3][k] == \"medicago varia\":\n",
    "        y[3][k] = \"medicago sativa\"\n",
    "    if y[3][k] == \"geranium pratens\":\n",
    "        y[3][k] = \"geranium pratense\"\n",
    "    if y[3][k] == \"oenothera\":\n",
    "        y[3][k] = \"oenothera biennis\"\n",
    "    if y[3][k] == \"senecio jacobaea\":\n",
    "        y[3][k] = \"jacobaea vulgaris\"\n",
    "    if y[3][k] == \"oenothera biennis \":\n",
    "        y[3][k] = \"oenothera biennis\"\n",
    "    if y[3][k] == \"solidalgo canadensis\":\n",
    "        y[3][k] = \"solidago canadensis\"\n",
    "    if y[3][k] == \"verbascum lynchitis\":\n",
    "        y[3][k] = \"verbascum lychnitis\"\n",
    "    if y[3][k] == \"verbascum negris\":\n",
    "        y[3][k] = \"verbascum nigrum\"\n",
    "    if y[3][k] == \"securigea varia\":\n",
    "        y[3][k] = \"securigera varia\"\n",
    "    if y[3][k] == \"melilotus officianalis\":\n",
    "        y[3][k] = \"melilotus officinalis\"\n",
    "    if y[3][k] == \"knautia maxima\":\n",
    "        y[3][k] = \"knautia dipsacifolia\"\n",
    "    if y[3][k] == \"hieracium aurantiacum\":\n",
    "        y[3][k] = \"pilosella aurantiaca\"\n",
    "    if y[3][k] == \"sysimbrium officinale\":\n",
    "        y[3][k] = \"sisymbrium officinale\"\n",
    "    if y[3][k] == \"geranium robertanium\":\n",
    "        y[3][k] = \"geranium robertianum\"\n",
    "    if y[3][k] == \"mycelis muralis\":\n",
    "        y[3][k] = \"lactuca muralis\"\n",
    "    if y[3][k] == \"calamintha nepeta\":\n",
    "        y[3][k] = \"clinopodium nepeta\"\n",
    "    if y[3][k] == \"polygonum persicaria\":\n",
    "        y[3][k] = \"persicaria maculosa\"\n",
    "    if y[3][k] == \"sorbus aria\":\n",
    "        y[3][k] = \"aria edulis\"\n",
    "b.species = y\n",
    "new_b_species = b.species.unique()\n",
    "new_d_species = d.species.unique()\n",
    "new_speciesnames = list(set(new_d_species) | set(new_b_species))\n",
    "new_intersect_speciesnames = list(set(new_d_species) & set(new_b_species))\n",
    "new_in_b_not_d = list(set(new_b_species) - set(new_intersect_speciesnames))\n",
    "print(F\"There are {len(new_speciesnames)} different species names\\n\")\n",
    "print(F\"\\nThere are {len(new_b_species)} different names in b\\n\")\n",
    "print(F\"\\nThere are {len(new_d_species)} different names in d\\n\")\n",
    "print(F\"\\nThere are {len(new_intersect_speciesnames)} shared between b and d\")\n",
    "print(F\"\\nThere are {len(new_in_b_not_d)} in b not in d\")\n"
   ]
  },
  {
   "cell_type": "markdown",
   "metadata": {},
   "source": [
    "Clean 2020 data set and reference files"
   ]
  },
  {
   "cell_type": "code",
   "execution_count": 24,
   "metadata": {},
   "outputs": [
    {
     "ename": "NameError",
     "evalue": "name 'utility' is not defined",
     "output_type": "error",
     "traceback": [
      "\u001b[0;31m---------------------------------------------------------------------------\u001b[0m",
      "\u001b[0;31mNameError\u001b[0m                                 Traceback (most recent call last)",
      "\u001b[0;32m<ipython-input-24-39d82c0059cd>\u001b[0m in \u001b[0;36m<module>\u001b[0;34m\u001b[0m\n\u001b[0;32m----> 1\u001b[0;31m \u001b[0mdata2020\u001b[0m \u001b[0;34m=\u001b[0m \u001b[0mutility\u001b[0m\u001b[0;34m.\u001b[0m\u001b[0mremovelistreturns\u001b[0m\u001b[0;34m(\u001b[0m\u001b[0mdata2020\u001b[0m\u001b[0;34m)\u001b[0m\u001b[0;34m\u001b[0m\u001b[0;34m\u001b[0m\u001b[0m\n\u001b[0m\u001b[1;32m      2\u001b[0m \u001b[0mfloralist\u001b[0m \u001b[0;34m=\u001b[0m \u001b[0mutility\u001b[0m\u001b[0;34m.\u001b[0m\u001b[0mremovelistreturns\u001b[0m\u001b[0;34m(\u001b[0m\u001b[0mfloralist\u001b[0m\u001b[0;34m)\u001b[0m\u001b[0;34m\u001b[0m\u001b[0;34m\u001b[0m\u001b[0m\n\u001b[1;32m      3\u001b[0m \u001b[0mdata2020\u001b[0m \u001b[0;34m=\u001b[0m \u001b[0mutility\u001b[0m\u001b[0;34m.\u001b[0m\u001b[0mmakenestedlist\u001b[0m\u001b[0;34m(\u001b[0m\u001b[0mdata2020\u001b[0m\u001b[0;34m)\u001b[0m\u001b[0;34m\u001b[0m\u001b[0;34m\u001b[0m\u001b[0m\n\u001b[1;32m      4\u001b[0m \u001b[0mfloralist\u001b[0m \u001b[0;34m=\u001b[0m \u001b[0mutility\u001b[0m\u001b[0;34m.\u001b[0m\u001b[0mmakenestedlist\u001b[0m\u001b[0;34m(\u001b[0m\u001b[0mfloralist\u001b[0m\u001b[0;34m)\u001b[0m\u001b[0;34m\u001b[0m\u001b[0;34m\u001b[0m\u001b[0m\n\u001b[1;32m      5\u001b[0m \u001b[0mdata2020\u001b[0m \u001b[0;34m=\u001b[0m \u001b[0mutility\u001b[0m\u001b[0;34m.\u001b[0m\u001b[0marrange2020data\u001b[0m\u001b[0;34m(\u001b[0m\u001b[0mdata2020\u001b[0m\u001b[0;34m)\u001b[0m\u001b[0;34m\u001b[0m\u001b[0;34m\u001b[0m\u001b[0m\n",
      "\u001b[0;31mNameError\u001b[0m: name 'utility' is not defined"
     ]
    }
   ],
   "source": [
    "data2020 = utility.removelistreturns(data2020)\n",
    "floralist = utility.removelistreturns(floralist)\n",
    "data2020 = utility.makenestedlist(data2020)\n",
    "floralist = utility.makenestedlist(floralist)\n",
    "data2020 = utility.arrange2020data(data2020)\n",
    "floralist = utility.arrangeflorahelveticadata(floralist)\n",
    "data2020[3] = utility.removenameendings(data2020[3])\n",
    "data2020 = utility.fixscinames(data2020)\n",
    "data2020 = utility.fixdate(data2020)\n",
    "data2020 = utility.fixtime(data2020)"
   ]
  },
  {
   "cell_type": "markdown",
   "metadata": {},
   "source": [
    "Initial data analysis"
   ]
  },
  {
   "cell_type": "code",
   "execution_count": null,
   "metadata": {},
   "outputs": [],
   "source": [
    "#total number of different values for each variable in data.\n",
    "occurencesummary = utility.occurencelists(data2020)\n",
    "print(occurencesummary[3])\n",
    "newfile = open(\"occurencesummary.txt\", 'w')\n",
    "newfile.write(occurencesummary)\n",
    "newfile.close()\n",
    "comparison = utility.compared(occurencesummary[3][1], floralist[9])\n",
    "print(comparison)"
   ]
  },
  {
   "cell_type": "code",
   "execution_count": null,
   "metadata": {},
   "outputs": [],
   "source": []
  }
 ],
 "metadata": {
  "kernelspec": {
   "display_name": "Python 3",
   "language": "python",
   "name": "python3"
  },
  "language_info": {
   "codemirror_mode": {
    "name": "ipython",
    "version": 3
   },
   "file_extension": ".py",
   "mimetype": "text/x-python",
   "name": "python",
   "nbconvert_exporter": "python",
   "pygments_lexer": "ipython3",
   "version": "3.7.4"
  }
 },
 "nbformat": 4,
 "nbformat_minor": 5
}
