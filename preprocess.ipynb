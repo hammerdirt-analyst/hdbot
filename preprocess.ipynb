{
 "cells": [
  {
   "cell_type": "markdown",
   "id": "nominated-fusion",
   "metadata": {},
   "source": [
    "Introduction"
   ]
  },
  {
   "cell_type": "markdown",
   "id": "damaged-nancy",
   "metadata": {},
   "source": [
    "Import statements"
   ]
  },
  {
   "cell_type": "code",
   "execution_count": 1,
   "id": "south-condition",
   "metadata": {},
   "outputs": [],
   "source": [
    "import pandas as pd\n",
    "import numpy as np\n",
    "import matplotlib as mpl\n",
    "import matplotlib.pyplot as plt\n",
    "import seaborn as sns\n",
    "import os\n",
    "import sys"
   ]
  },
  {
   "cell_type": "markdown",
   "id": "hollow-illinois",
   "metadata": {},
   "source": [
    "Load the 2020 data set and the reference files."
   ]
  },
  {
   "cell_type": "code",
   "execution_count": 2,
   "id": "urban-packing",
   "metadata": {},
   "outputs": [
    {
     "name": "stdout",
     "output_type": "stream",
     "text": [
      "Index(['id', 'obs', 'place', 'date', 'time', 'sci', 'name', 'notes'], dtype='object')\n",
      "Index(['place', 'date', 'time', 'sci', 'name'], dtype='object')\n",
      "Index(['X', 'Y', 'Name', 'description'], dtype='object')\n"
     ]
    }
   ],
   "source": [
    "a = pd.read_csv(\"data/2020/2020data.csv\")\n",
    "b = pd.read_csv('data/2020/2020datasimp.csv')\n",
    "c = pd.read_csv('data/2020/map-keys-2020.csv')\n",
    "\n",
    "print(a.columns)\n",
    "print(b.columns)\n",
    "print(c.columns)"
   ]
  },
  {
   "cell_type": "code",
   "execution_count": 3,
   "id": "covered-notification",
   "metadata": {},
   "outputs": [],
   "source": [
    "c.rename(columns={'X':'lon', 'Y':'lat', 'Name':'place'}, inplace=True)"
   ]
  },
  {
   "cell_type": "code",
   "execution_count": 4,
   "id": "tamil-salon",
   "metadata": {},
   "outputs": [
    {
     "data": {
      "text/html": [
       "<div>\n",
       "<style scoped>\n",
       "    .dataframe tbody tr th:only-of-type {\n",
       "        vertical-align: middle;\n",
       "    }\n",
       "\n",
       "    .dataframe tbody tr th {\n",
       "        vertical-align: top;\n",
       "    }\n",
       "\n",
       "    .dataframe thead th {\n",
       "        text-align: right;\n",
       "    }\n",
       "</style>\n",
       "<table border=\"1\" class=\"dataframe\">\n",
       "  <thead>\n",
       "    <tr style=\"text-align: right;\">\n",
       "      <th></th>\n",
       "      <th>id</th>\n",
       "      <th>obs</th>\n",
       "      <th>place</th>\n",
       "      <th>date</th>\n",
       "      <th>time</th>\n",
       "      <th>sci</th>\n",
       "      <th>name</th>\n",
       "      <th>notes</th>\n",
       "    </tr>\n",
       "  </thead>\n",
       "  <tbody>\n",
       "    <tr>\n",
       "      <th>0</th>\n",
       "      <td>02777507-6356-5477-92eb-6d7aea343265</td>\n",
       "      <td>NaN</td>\n",
       "      <td>alleestrasse 1</td>\n",
       "      <td>2020-09-02</td>\n",
       "      <td>11:09:04 AM</td>\n",
       "      <td>plantago lanceolata</td>\n",
       "      <td>plantain lancéolé</td>\n",
       "      <td>NaN</td>\n",
       "    </tr>\n",
       "    <tr>\n",
       "      <th>1</th>\n",
       "      <td>fd359c20-af7c-5560-b412-56bfbbd154e3</td>\n",
       "      <td>NaN</td>\n",
       "      <td>alleestrasse 1</td>\n",
       "      <td>2020-09-02</td>\n",
       "      <td>11:08:19 AM</td>\n",
       "      <td>centaurea nigra</td>\n",
       "      <td>centaurée noire</td>\n",
       "      <td>could be jaucee</td>\n",
       "    </tr>\n",
       "    <tr>\n",
       "      <th>2</th>\n",
       "      <td>469cc29c-f377-5312-ba11-f222ca888cec</td>\n",
       "      <td>NaN</td>\n",
       "      <td>alleestrasse 1</td>\n",
       "      <td>2020-09-02</td>\n",
       "      <td>11:06:59 AM</td>\n",
       "      <td>plantago media</td>\n",
       "      <td>plantain moyen</td>\n",
       "      <td>NaN</td>\n",
       "    </tr>\n",
       "    <tr>\n",
       "      <th>3</th>\n",
       "      <td>c7613f5f-b22d-5b51-832f-06cb61bc4128</td>\n",
       "      <td>NaN</td>\n",
       "      <td>alleestrasse 1</td>\n",
       "      <td>2020-09-02</td>\n",
       "      <td>11:06:05 AM</td>\n",
       "      <td>chenopodium album agg.</td>\n",
       "      <td>chénopode blanc</td>\n",
       "      <td>NaN</td>\n",
       "    </tr>\n",
       "    <tr>\n",
       "      <th>4</th>\n",
       "      <td>9bba2690-f7a5-54b4-bd74-74fd056ccb3a</td>\n",
       "      <td>NaN</td>\n",
       "      <td>alleestrasse 1</td>\n",
       "      <td>2020-09-02</td>\n",
       "      <td>11:05:18 AM</td>\n",
       "      <td>centaurea jacea agg.</td>\n",
       "      <td>centaurée jacée</td>\n",
       "      <td>NaN</td>\n",
       "    </tr>\n",
       "  </tbody>\n",
       "</table>\n",
       "</div>"
      ],
      "text/plain": [
       "                                     id  obs           place        date  \\\n",
       "0  02777507-6356-5477-92eb-6d7aea343265  NaN  alleestrasse 1  2020-09-02   \n",
       "1  fd359c20-af7c-5560-b412-56bfbbd154e3  NaN  alleestrasse 1  2020-09-02   \n",
       "2  469cc29c-f377-5312-ba11-f222ca888cec  NaN  alleestrasse 1  2020-09-02   \n",
       "3  c7613f5f-b22d-5b51-832f-06cb61bc4128  NaN  alleestrasse 1  2020-09-02   \n",
       "4  9bba2690-f7a5-54b4-bd74-74fd056ccb3a  NaN  alleestrasse 1  2020-09-02   \n",
       "\n",
       "          time                     sci               name            notes  \n",
       "0  11:09:04 AM     plantago lanceolata  plantain lancéolé              NaN  \n",
       "1  11:08:19 AM         centaurea nigra    centaurée noire  could be jaucee  \n",
       "2  11:06:59 AM          plantago media     plantain moyen              NaN  \n",
       "3  11:06:05 AM  chenopodium album agg.    chénopode blanc              NaN  \n",
       "4  11:05:18 AM    centaurea jacea agg.    centaurée jacée              NaN  "
      ]
     },
     "execution_count": 4,
     "metadata": {},
     "output_type": "execute_result"
    }
   ],
   "source": [
    "a.iloc[:5]"
   ]
  },
  {
   "cell_type": "code",
   "execution_count": 5,
   "id": "prime-elevation",
   "metadata": {},
   "outputs": [
    {
     "data": {
      "text/html": [
       "<div>\n",
       "<style scoped>\n",
       "    .dataframe tbody tr th:only-of-type {\n",
       "        vertical-align: middle;\n",
       "    }\n",
       "\n",
       "    .dataframe tbody tr th {\n",
       "        vertical-align: top;\n",
       "    }\n",
       "\n",
       "    .dataframe thead th {\n",
       "        text-align: right;\n",
       "    }\n",
       "</style>\n",
       "<table border=\"1\" class=\"dataframe\">\n",
       "  <thead>\n",
       "    <tr style=\"text-align: right;\">\n",
       "      <th></th>\n",
       "      <th>place</th>\n",
       "      <th>date</th>\n",
       "      <th>time</th>\n",
       "      <th>sci</th>\n",
       "      <th>name</th>\n",
       "    </tr>\n",
       "  </thead>\n",
       "  <tbody>\n",
       "    <tr>\n",
       "      <th>0</th>\n",
       "      <td>alleestrasse 1</td>\n",
       "      <td>2020-09-02</td>\n",
       "      <td>11:09:04 AM</td>\n",
       "      <td>plantago lanceolata</td>\n",
       "      <td>plantain lancéolé</td>\n",
       "    </tr>\n",
       "    <tr>\n",
       "      <th>1</th>\n",
       "      <td>alleestrasse 1</td>\n",
       "      <td>2020-09-02</td>\n",
       "      <td>11:08:19 AM</td>\n",
       "      <td>centaurea nigra</td>\n",
       "      <td>centaurée noire</td>\n",
       "    </tr>\n",
       "    <tr>\n",
       "      <th>2</th>\n",
       "      <td>alleestrasse 1</td>\n",
       "      <td>2020-09-02</td>\n",
       "      <td>11:06:59 AM</td>\n",
       "      <td>plantago media</td>\n",
       "      <td>plantain moyen</td>\n",
       "    </tr>\n",
       "    <tr>\n",
       "      <th>3</th>\n",
       "      <td>alleestrasse 1</td>\n",
       "      <td>2020-09-02</td>\n",
       "      <td>11:06:05 AM</td>\n",
       "      <td>chenopodium album agg.</td>\n",
       "      <td>chénopode blanc</td>\n",
       "    </tr>\n",
       "    <tr>\n",
       "      <th>4</th>\n",
       "      <td>alleestrasse 1</td>\n",
       "      <td>2020-09-02</td>\n",
       "      <td>11:05:18 AM</td>\n",
       "      <td>centaurea jacea agg.</td>\n",
       "      <td>centaurée jacée</td>\n",
       "    </tr>\n",
       "  </tbody>\n",
       "</table>\n",
       "</div>"
      ],
      "text/plain": [
       "            place        date         time                     sci  \\\n",
       "0  alleestrasse 1  2020-09-02  11:09:04 AM     plantago lanceolata   \n",
       "1  alleestrasse 1  2020-09-02  11:08:19 AM         centaurea nigra   \n",
       "2  alleestrasse 1  2020-09-02  11:06:59 AM          plantago media   \n",
       "3  alleestrasse 1  2020-09-02  11:06:05 AM  chenopodium album agg.   \n",
       "4  alleestrasse 1  2020-09-02  11:05:18 AM    centaurea jacea agg.   \n",
       "\n",
       "                name  \n",
       "0  plantain lancéolé  \n",
       "1    centaurée noire  \n",
       "2     plantain moyen  \n",
       "3    chénopode blanc  \n",
       "4    centaurée jacée  "
      ]
     },
     "execution_count": 5,
     "metadata": {},
     "output_type": "execute_result"
    }
   ],
   "source": [
    "b.iloc[:5]"
   ]
  },
  {
   "cell_type": "code",
   "execution_count": 6,
   "id": "labeled-priority",
   "metadata": {},
   "outputs": [
    {
     "data": {
      "text/html": [
       "<div>\n",
       "<style scoped>\n",
       "    .dataframe tbody tr th:only-of-type {\n",
       "        vertical-align: middle;\n",
       "    }\n",
       "\n",
       "    .dataframe tbody tr th {\n",
       "        vertical-align: top;\n",
       "    }\n",
       "\n",
       "    .dataframe thead th {\n",
       "        text-align: right;\n",
       "    }\n",
       "</style>\n",
       "<table border=\"1\" class=\"dataframe\">\n",
       "  <thead>\n",
       "    <tr style=\"text-align: right;\">\n",
       "      <th></th>\n",
       "      <th>lon</th>\n",
       "      <th>lat</th>\n",
       "      <th>place</th>\n",
       "      <th>description</th>\n",
       "    </tr>\n",
       "  </thead>\n",
       "  <tbody>\n",
       "    <tr>\n",
       "      <th>0</th>\n",
       "      <td>7.253285</td>\n",
       "      <td>47.138823</td>\n",
       "      <td>Jura 2</td>\n",
       "      <td>5.06</td>\n",
       "    </tr>\n",
       "    <tr>\n",
       "      <th>1</th>\n",
       "      <td>7.252867</td>\n",
       "      <td>47.137585</td>\n",
       "      <td>Salome 3</td>\n",
       "      <td>NaN</td>\n",
       "    </tr>\n",
       "    <tr>\n",
       "      <th>2</th>\n",
       "      <td>7.252760</td>\n",
       "      <td>47.137273</td>\n",
       "      <td>Salome 4</td>\n",
       "      <td>NaN</td>\n",
       "    </tr>\n",
       "    <tr>\n",
       "      <th>3</th>\n",
       "      <td>7.252618</td>\n",
       "      <td>47.136619</td>\n",
       "      <td>Alleestrasse 4\\n</td>\n",
       "      <td>NaN</td>\n",
       "    </tr>\n",
       "    <tr>\n",
       "      <th>4</th>\n",
       "      <td>7.261210</td>\n",
       "      <td>47.143164</td>\n",
       "      <td>Energie 1</td>\n",
       "      <td>NaN</td>\n",
       "    </tr>\n",
       "  </tbody>\n",
       "</table>\n",
       "</div>"
      ],
      "text/plain": [
       "        lon        lat             place  description\n",
       "0  7.253285  47.138823            Jura 2         5.06\n",
       "1  7.252867  47.137585          Salome 3          NaN\n",
       "2  7.252760  47.137273          Salome 4          NaN\n",
       "3  7.252618  47.136619  Alleestrasse 4\\n          NaN\n",
       "4  7.261210  47.143164         Energie 1          NaN"
      ]
     },
     "execution_count": 6,
     "metadata": {},
     "output_type": "execute_result"
    }
   ],
   "source": [
    "c.iloc[:5]"
   ]
  },
  {
   "cell_type": "code",
   "execution_count": 7,
   "id": "premier-domain",
   "metadata": {},
   "outputs": [],
   "source": [
    "# the place variable does not match in the data frames\n",
    "# df['text'].str.split('::').str[0]\n",
    "c['place'] = c.place.str.split('\\n').str[0]\n",
    "\n",
    "# get rid of uppercase\n",
    "c.place = c.place.str.lower()\n",
    "b.place = b.place.str.lower()\n",
    "\n",
    "# get rid of spaces\n",
    "c.place = c.place.map(lambda x:  x.replace(\" \",\"-\"))\n",
    "b.place = b.place.map(lambda x:  x.replace(\" \",\"-\"))\n"
   ]
  },
  {
   "cell_type": "code",
   "execution_count": 8,
   "id": "insured-african",
   "metadata": {},
   "outputs": [
    {
     "name": "stdout",
     "output_type": "stream",
     "text": [
      "There are 121 different place names\n",
      "\n",
      "\n",
      "There are 115 different names in b\n",
      "\n",
      "\n",
      "There are 109 different names in c\n",
      "\n",
      "\n",
      "There are 103 shared between b and c\n"
     ]
    }
   ],
   "source": [
    "# find place names that don't match:\n",
    "a_locs = a.place.unique()\n",
    "b_locs = b.place.unique()\n",
    "c_locs = c.place.unique()\n",
    "\n",
    "# get the symetric difference between the different place name lists\n",
    "placenames = list(set(c_locs) | set(b_locs))\n",
    "intersect_placenames = list(set(c_locs) & set(b_locs))\n",
    "print(F\"There are {len(placenames)} different place names\\n\")\n",
    "print(F\"\\nThere are {len(b_locs)} different names in b\\n\")\n",
    "print(F\"\\nThere are {len(c_locs)} different names in c\\n\")\n",
    "print(F\"\\nThere are {len(intersect_placenames)} shared between b and c\")"
   ]
  },
  {
   "cell_type": "code",
   "execution_count": 9,
   "id": "mounted-phone",
   "metadata": {},
   "outputs": [
    {
     "name": "stdout",
     "output_type": "stream",
     "text": [
      "The shared place names:\n",
      "\n",
      "['salome-3', 'truite-3', 'swatch-1', 'truite-5', 'chapelle', 'parc-muni', 'boujean-1', 'cygnes-lot-8', 'energie-1', 'energie-2', 'pery-taubenlochweg', 'weissenau', 'lucherz-bureli', 'cygnes', 'frinvillier-fabrique-4', 'schlosslistrasse', 'cygnes-lot-6', 'cygnes-lot-3', 'schlosslifeld-3', 'sundgraben-forest-left', 'orvin-petit-moulin', 'gottstatt-3', 'college', 'frinvillier-fabrique-1', 'schussinsel-2', 'schussinsel-1', 'salome-5', 'reichenbach', 'lezard-1', 'cygnes-lot-4', 'sonnenfeld-1', 'cygnes-lot-7', 'cygnes-lot-2', 'frinvilier-fabrique-3', 'salome-4', 'cygnes-lot-1', 'saint-ursanne-falls', 'cff-path-2', 'gottstatt-1', 'schussinsel-4', 'cheyres-reserve', 'frinvillier-ramp', 'taubenloch-2', 'buren-1', 'bluets-2', 'truite-2', 'buren-3', 'chemin-des-voies', 'energie-3', 'transjurane-tunnel', 'alleestrasse-2', 'jura-1', 'salome-1', 'sureaux', 'bluets-1', 'cheyres-path', 'salome-2', 'schussinsel-5', 'sundgraben-forest-right', 'football-6', 'cff-lot-2', 'boujean-2', 'schussinsel-3', 'schussinsel-6', 'football-4', 'sundgraben-gorge', 'cff-path-1', 'buren-2', 'cff-lot-1', 'chemin-de-la-course', 'hayek-1', 'ligerz-favorite', 'cygnes-lot-5', 'rondchatel', 'schlosslifeld-2', 'dam', 'sundgraben-beach', 'lucherz-seestrasse', 'truite-4', 'schlosslifeld-1', 'alleestrasse-3', 'rue-alfred-aebi', 'football-3', 'frinvilier-fabrique-2', 'boujean-3', 'truite-1', 'football-2', 'sonnenfeld-2', 'cff-path-3', 'football-5', 'football-1', 'pieterlen-stockweg', 'twann-estuary', 'gottstatt-2', 'taubenloch-1', 'alleestrasse-4', 'strom', 'alleestrasse-1', 'swatch-2', 'rue-centrale', 'bluets-3', 'lezard-2', 'jura-2']\n"
     ]
    }
   ],
   "source": [
    "print(F\"The shared place names:\\n\\n{intersect_placenames}\")"
   ]
  },
  {
   "cell_type": "code",
   "execution_count": 10,
   "id": "established-harris",
   "metadata": {},
   "outputs": [
    {
     "data": {
      "text/plain": [
       "['frinvilier-fabrique-1',\n",
       " 'frinvilier-fabrique-4',\n",
       " 'frinvillier-fabrique-2',\n",
       " 'rue-de-l’eau-1',\n",
       " 'rue-de-l’eau-2',\n",
       " 'rue-de-l’eau-3',\n",
       " 'rue-de-l’eau-4',\n",
       " 'rue-de-l’eau-5',\n",
       " 'schusinsel-3',\n",
       " 'sundgraben-bridge-left',\n",
       " 'sundgraben-port',\n",
       " 'twann-gorges']"
      ]
     },
     "execution_count": 10,
     "metadata": {},
     "output_type": "execute_result"
    }
   ],
   "source": [
    "# places in b that do not mathc c:\n",
    "b_no_match = [x for x in b_locs if x not in c_locs]\n",
    "b_no_match"
   ]
  },
  {
   "cell_type": "code",
   "execution_count": null,
   "id": "cutting-insert",
   "metadata": {},
   "outputs": [],
   "source": []
  },
  {
   "cell_type": "markdown",
   "id": "unsigned-component",
   "metadata": {},
   "source": [
    "Clean 2020 data set and reference files"
   ]
  },
  {
   "cell_type": "code",
   "execution_count": 11,
   "id": "behind-secretary",
   "metadata": {},
   "outputs": [
    {
     "ename": "NameError",
     "evalue": "name 'utility' is not defined",
     "output_type": "error",
     "traceback": [
      "\u001b[0;31m---------------------------------------------------------------------------\u001b[0m",
      "\u001b[0;31mNameError\u001b[0m                                 Traceback (most recent call last)",
      "\u001b[0;32m<ipython-input-11-39d82c0059cd>\u001b[0m in \u001b[0;36m<module>\u001b[0;34m\u001b[0m\n\u001b[0;32m----> 1\u001b[0;31m \u001b[0mdata2020\u001b[0m \u001b[0;34m=\u001b[0m \u001b[0mutility\u001b[0m\u001b[0;34m.\u001b[0m\u001b[0mremovelistreturns\u001b[0m\u001b[0;34m(\u001b[0m\u001b[0mdata2020\u001b[0m\u001b[0;34m)\u001b[0m\u001b[0;34m\u001b[0m\u001b[0;34m\u001b[0m\u001b[0m\n\u001b[0m\u001b[1;32m      2\u001b[0m \u001b[0mfloralist\u001b[0m \u001b[0;34m=\u001b[0m \u001b[0mutility\u001b[0m\u001b[0;34m.\u001b[0m\u001b[0mremovelistreturns\u001b[0m\u001b[0;34m(\u001b[0m\u001b[0mfloralist\u001b[0m\u001b[0;34m)\u001b[0m\u001b[0;34m\u001b[0m\u001b[0;34m\u001b[0m\u001b[0m\n\u001b[1;32m      3\u001b[0m \u001b[0mdata2020\u001b[0m \u001b[0;34m=\u001b[0m \u001b[0mutility\u001b[0m\u001b[0;34m.\u001b[0m\u001b[0mmakenestedlist\u001b[0m\u001b[0;34m(\u001b[0m\u001b[0mdata2020\u001b[0m\u001b[0;34m)\u001b[0m\u001b[0;34m\u001b[0m\u001b[0;34m\u001b[0m\u001b[0m\n\u001b[1;32m      4\u001b[0m \u001b[0mfloralist\u001b[0m \u001b[0;34m=\u001b[0m \u001b[0mutility\u001b[0m\u001b[0;34m.\u001b[0m\u001b[0mmakenestedlist\u001b[0m\u001b[0;34m(\u001b[0m\u001b[0mfloralist\u001b[0m\u001b[0;34m)\u001b[0m\u001b[0;34m\u001b[0m\u001b[0;34m\u001b[0m\u001b[0m\n\u001b[1;32m      5\u001b[0m \u001b[0mdata2020\u001b[0m \u001b[0;34m=\u001b[0m \u001b[0mutility\u001b[0m\u001b[0;34m.\u001b[0m\u001b[0marrange2020data\u001b[0m\u001b[0;34m(\u001b[0m\u001b[0mdata2020\u001b[0m\u001b[0;34m)\u001b[0m\u001b[0;34m\u001b[0m\u001b[0;34m\u001b[0m\u001b[0m\n",
      "\u001b[0;31mNameError\u001b[0m: name 'utility' is not defined"
     ]
    }
   ],
   "source": [
    "data2020 = utility.removelistreturns(data2020)\n",
    "floralist = utility.removelistreturns(floralist)\n",
    "data2020 = utility.makenestedlist(data2020)\n",
    "floralist = utility.makenestedlist(floralist)\n",
    "data2020 = utility.arrange2020data(data2020)\n",
    "floralist = utility.arrangeflorahelveticadata(floralist)\n",
    "data2020[3] = utility.removenameendings(data2020[3])\n",
    "data2020 = utility.fixscinames(data2020)\n",
    "data2020 = utility.fixdate(data2020)\n",
    "data2020 = utility.fixtime(data2020)"
   ]
  },
  {
   "cell_type": "markdown",
   "id": "atmospheric-mathematics",
   "metadata": {},
   "source": [
    "Initial data analysis"
   ]
  },
  {
   "cell_type": "code",
   "execution_count": null,
   "id": "swedish-caribbean",
   "metadata": {},
   "outputs": [],
   "source": [
    "#total number of different values for each variable in data.\n",
    "occurencesummary = utility.occurencelists(data2020)\n",
    "print(occurencesummary[3])\n",
    "newfile = open(\"occurencesummary.txt\", 'w')\n",
    "newfile.write(occurencesummary)\n",
    "newfile.close()\n",
    "comparison = utility.compared(occurencesummary[3][1], floralist[9])\n",
    "print(comparison)"
   ]
  },
  {
   "cell_type": "code",
   "execution_count": null,
   "id": "worth-architect",
   "metadata": {},
   "outputs": [],
   "source": []
  }
 ],
 "metadata": {
  "kernelspec": {
   "display_name": "Python 3",
   "language": "python",
   "name": "python3"
  },
  "language_info": {
   "codemirror_mode": {
    "name": "ipython",
    "version": 3
   },
   "file_extension": ".py",
   "mimetype": "text/x-python",
   "name": "python",
   "nbconvert_exporter": "python",
   "pygments_lexer": "ipython3",
   "version": "3.8.2"
  }
 },
 "nbformat": 4,
 "nbformat_minor": 5
}
