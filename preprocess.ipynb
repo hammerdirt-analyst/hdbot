{
 "cells": [
  {
   "cell_type": "markdown",
   "metadata": {},
   "source": [
    "Introduction\n",
    "\n"
   ]
  },
  {
   "cell_type": "markdown",
   "metadata": {},
   "source": [
    "Import statements"
   ]
  },
  {
   "cell_type": "code",
   "execution_count": 1,
   "metadata": {},
   "outputs": [],
   "source": [
    "import pandas as pd\n",
    "import numpy as np\n",
    "import matplotlib as mpl\n",
    "import matplotlib.pyplot as plt\n",
    "import seaborn as sns\n",
    "import os\n",
    "import sys\n",
    "import datetime as dt\n",
    "import math\n",
    "\n",
    "here = os.getcwd()"
   ]
  },
  {
   "cell_type": "markdown",
   "metadata": {},
   "source": [
    "Load the 2020 data set and the reference files."
   ]
  },
  {
   "cell_type": "code",
   "execution_count": 2,
   "metadata": {},
   "outputs": [],
   "source": [
    "a = pd.read_csv('data/2020/2020datasimp.csv')\n",
    "b = pd.read_csv('data/2020/map-keys-2020.csv')\n",
    "c = pd.read_csv(\"refs/florahelvetica/florahelveticarcsvnew.csv\")\n"
   ]
  },
  {
   "cell_type": "code",
   "execution_count": 3,
   "metadata": {},
   "outputs": [],
   "source": [
    "b.rename(columns={'X':'lon', 'Y':'lat', 'Name':'place'}, inplace=True)\n",
    "a.rename(columns={'sci':'species'}, inplace=True)"
   ]
  },
  {
   "cell_type": "code",
   "execution_count": 3,
   "metadata": {},
   "outputs": [],
   "source": [
    "replacedict = {\n",
    "    'verbanum bonariensis ':'verbena bonariensis',\n",
    "    'medicago varia':'medicago sativa',\n",
    "    \"oenothera\":\"oenothera biennis\",\n",
    "    \"geranium pratens\":\"geranium pratense\",\n",
    "    \"senecio jacobaea\": \"jacobaea vulgaris\",\n",
    "    \"oenothera biennis \": \"oenothera biennis\",\n",
    "    \"oenothera biennis agg.\": \"oenothera biennis\",\n",
    "    \"solidalgo canadensis\": \"solidago canadensis\",\n",
    "    \"verbascum lynchitis\":\"verbascum lychnitis\",\n",
    "    \"verbascum negris\":\"verbascum nigrum\",\n",
    "    \"securigea varia\": \"securigera varia\",\n",
    "    \"melilotus officianalis\": \"melilotus officinalis\",\n",
    "    \"knautia maxima\": \"knautia dipsacifolia\",\n",
    "    \"hieracium aurantiacum\":\"pilosella aurantiaca\",\n",
    "    \"sysimbrium officinale\":\"sisymbrium officinale\",\n",
    "    \"geranium robertanium\":\"geranium robertianum\",\n",
    "    \"mycelis muralis\": \"lactuca muralis\",\n",
    "    \"calamintha nepeta\":\"clinopodium nepeta\",\n",
    "    \"polygonum persicaria\":\"persicaria maculosa\",\n",
    "    \"sorbus aria\":\"aria edulis\",\n",
    "    \"taraxacum\": \"taraxacum officinale\"\n",
    "}\n"
   ]
  },
  {
   "cell_type": "code",
   "execution_count": 5,
   "metadata": {},
   "outputs": [],
   "source": [
    "def new_func(x,keys):\n",
    "    try:\n",
    "        data = keys[x]\n",
    "    except:\n",
    "        data = x\n",
    "    return data\n",
    "a[\"species1\"] = a.species.map(lambda x: new_func(x, replacedict))\n",
    "\n",
    "# b[\"species\"] = b.species1"
   ]
  },
  {
   "cell_type": "code",
   "execution_count": 6,
   "metadata": {},
   "outputs": [],
   "source": [
    "a['string_list'] = a.species1.str.split( \" \")\n",
    "a['string_list'] = a.string_list.map(lambda x: [name for name in x if name != 'agg.'])"
   ]
  },
  {
   "cell_type": "code",
   "execution_count": 7,
   "metadata": {},
   "outputs": [
    {
     "data": {
      "text/plain": [
       "0      [plantago, lanceolata]\n",
       "1          [centaurea, nigra]\n",
       "2           [plantago, media]\n",
       "3        [chenopodium, album]\n",
       "4          [centaurea, jacea]\n",
       "                ...          \n",
       "930       [allium, carinatum]\n",
       "931       [viburnum, lantana]\n",
       "932    [filipendula, ulmaria]\n",
       "933      [lythrum, salicaria]\n",
       "934    [lysimachia, vulgaris]\n",
       "Name: string_list, Length: 935, dtype: object"
      ]
     },
     "execution_count": 7,
     "metadata": {},
     "output_type": "execute_result"
    }
   ],
   "source": [
    "a['string_list']"
   ]
  },
  {
   "cell_type": "code",
   "execution_count": 8,
   "metadata": {},
   "outputs": [],
   "source": [
    "a['slug'] = a.string_list.map(lambda x: \"-\".join(x))\n",
    "a['species'] = a.string_list.map(lambda x: \" \". join(x))\n",
    "a['place'] = a.place.map(lambda x:  x.replace(\" \",\"-\"))"
   ]
  },
  {
   "cell_type": "code",
   "execution_count": 9,
   "metadata": {},
   "outputs": [],
   "source": [
    "def change_string(x):\n",
    "    try:\n",
    "        s_data = x.split('.')\n",
    "        data = s_data[::-1]\n",
    "        data = \"-\".join(data)\n",
    "    except:\n",
    "        print(\"no luck\")\n",
    "        data = x\n",
    "    \n",
    "    return data\n",
    "a['new_date'] = a.date.map(lambda x: change_string(x))"
   ]
  },
  {
   "cell_type": "code",
   "execution_count": 10,
   "metadata": {},
   "outputs": [
    {
     "name": "stdout",
     "output_type": "stream",
     "text": [
      "\n",
      "These are the records in a with no valid date:\n",
      "\n",
      "Empty DataFrame\n",
      "Columns: [place, date, time, species, name, species1, string_list, slug, new_date, check_date]\n",
      "Index: []\n",
      "\n"
     ]
    }
   ],
   "source": [
    "def make_timestamp(x):\n",
    "    try:        \n",
    "        data = dt.datetime.strptime(x, \"%Y-%m-%d\")        \n",
    "    except:        \n",
    "        data = 'no date'\n",
    "    \n",
    "    return data\n",
    "a['check_date'] = a.new_date.map(lambda x: make_timestamp(x))\n",
    "a['date'] = a.new_date\n",
    "\n",
    "print(F\"\\nThese are the records in a with no valid date:\\n\\n{a[a.check_date == 'no date']}\\n\")"
   ]
  },
  {
   "cell_type": "code",
   "execution_count": 11,
   "metadata": {},
   "outputs": [
    {
     "name": "stdout",
     "output_type": "stream",
     "text": [
      "\n",
      "These are the species in a that do not match c:\n",
      "\n",
      "['erigeron annuus', 'taraxacum officinale', 'rubus rubus sect.', 'tripleurospermum maritimum', 'persicaria longiseta', 'ligustrum vulgare', 'anemone hupehensis', 'packera aurea', 'dipsacus fullonum', 'rubus fruticosus', 'ligustrum sinense', 'eupatorium serotinum', 'geranium pyrenaicum ', 'salix nigra', 'phlox pilosa', 'hieracium morulum']\n",
      "\n"
     ]
    },
    {
     "data": {
      "text/plain": [
       "16"
      ]
     },
     "execution_count": 11,
     "metadata": {},
     "output_type": "execute_result"
    }
   ],
   "source": [
    "a_to_csv = a[['place','date','species', 'name', 'slug']].copy()\n",
    "a_not_in_c = [x for x in a_to_csv.species.unique() if x not in c.species.unique()]\n",
    "print(F\"\\nThese are the species in a that do not match c:\\n\\n{a_not_in_c }\\n\")\n",
    "len(a_not_in_c)"
   ]
  },
  {
   "cell_type": "code",
   "execution_count": 12,
   "metadata": {},
   "outputs": [
    {
     "data": {
      "text/html": [
       "<div>\n",
       "<style scoped>\n",
       "    .dataframe tbody tr th:only-of-type {\n",
       "        vertical-align: middle;\n",
       "    }\n",
       "\n",
       "    .dataframe tbody tr th {\n",
       "        vertical-align: top;\n",
       "    }\n",
       "\n",
       "    .dataframe thead th {\n",
       "        text-align: right;\n",
       "    }\n",
       "</style>\n",
       "<table border=\"1\" class=\"dataframe\">\n",
       "  <thead>\n",
       "    <tr style=\"text-align: right;\">\n",
       "      <th></th>\n",
       "      <th>place</th>\n",
       "      <th>date</th>\n",
       "      <th>species</th>\n",
       "      <th>name</th>\n",
       "      <th>slug</th>\n",
       "    </tr>\n",
       "  </thead>\n",
       "  <tbody>\n",
       "    <tr>\n",
       "      <td>0</td>\n",
       "      <td>alleestrasse-1</td>\n",
       "      <td>2020-09-02</td>\n",
       "      <td>plantago lanceolata</td>\n",
       "      <td>plantain lancéolé</td>\n",
       "      <td>plantago-lanceolata</td>\n",
       "    </tr>\n",
       "    <tr>\n",
       "      <td>1</td>\n",
       "      <td>alleestrasse-1</td>\n",
       "      <td>2020-09-02</td>\n",
       "      <td>centaurea nigra</td>\n",
       "      <td>centaurée noire</td>\n",
       "      <td>centaurea-nigra</td>\n",
       "    </tr>\n",
       "    <tr>\n",
       "      <td>2</td>\n",
       "      <td>alleestrasse-1</td>\n",
       "      <td>2020-09-02</td>\n",
       "      <td>plantago media</td>\n",
       "      <td>plantain moyen</td>\n",
       "      <td>plantago-media</td>\n",
       "    </tr>\n",
       "    <tr>\n",
       "      <td>3</td>\n",
       "      <td>alleestrasse-1</td>\n",
       "      <td>2020-09-02</td>\n",
       "      <td>chenopodium album</td>\n",
       "      <td>chénopode blanc</td>\n",
       "      <td>chenopodium-album</td>\n",
       "    </tr>\n",
       "    <tr>\n",
       "      <td>4</td>\n",
       "      <td>alleestrasse-1</td>\n",
       "      <td>2020-09-02</td>\n",
       "      <td>centaurea jacea</td>\n",
       "      <td>centaurée jacée</td>\n",
       "      <td>centaurea-jacea</td>\n",
       "    </tr>\n",
       "    <tr>\n",
       "      <td>...</td>\n",
       "      <td>...</td>\n",
       "      <td>...</td>\n",
       "      <td>...</td>\n",
       "      <td>...</td>\n",
       "      <td>...</td>\n",
       "    </tr>\n",
       "    <tr>\n",
       "      <td>930</td>\n",
       "      <td>weissenau</td>\n",
       "      <td>2020-08-10</td>\n",
       "      <td>allium carinatum</td>\n",
       "      <td>ail caréné</td>\n",
       "      <td>allium-carinatum</td>\n",
       "    </tr>\n",
       "    <tr>\n",
       "      <td>931</td>\n",
       "      <td>weissenau</td>\n",
       "      <td>2020-08-10</td>\n",
       "      <td>viburnum lantana</td>\n",
       "      <td>mancienne, viorne lantane</td>\n",
       "      <td>viburnum-lantana</td>\n",
       "    </tr>\n",
       "    <tr>\n",
       "      <td>932</td>\n",
       "      <td>weissenau</td>\n",
       "      <td>2020-08-10</td>\n",
       "      <td>filipendula ulmaria</td>\n",
       "      <td>reine des prés, spirée</td>\n",
       "      <td>filipendula-ulmaria</td>\n",
       "    </tr>\n",
       "    <tr>\n",
       "      <td>933</td>\n",
       "      <td>weissenau</td>\n",
       "      <td>2020-08-10</td>\n",
       "      <td>lythrum salicaria</td>\n",
       "      <td>salicaire commune</td>\n",
       "      <td>lythrum-salicaria</td>\n",
       "    </tr>\n",
       "    <tr>\n",
       "      <td>934</td>\n",
       "      <td>weissenau</td>\n",
       "      <td>2020-08-10</td>\n",
       "      <td>lysimachia vulgaris</td>\n",
       "      <td>lysimaque commune</td>\n",
       "      <td>lysimachia-vulgaris</td>\n",
       "    </tr>\n",
       "  </tbody>\n",
       "</table>\n",
       "<p>935 rows × 5 columns</p>\n",
       "</div>"
      ],
      "text/plain": [
       "              place        date              species  \\\n",
       "0    alleestrasse-1  2020-09-02  plantago lanceolata   \n",
       "1    alleestrasse-1  2020-09-02      centaurea nigra   \n",
       "2    alleestrasse-1  2020-09-02       plantago media   \n",
       "3    alleestrasse-1  2020-09-02    chenopodium album   \n",
       "4    alleestrasse-1  2020-09-02      centaurea jacea   \n",
       "..              ...         ...                  ...   \n",
       "930       weissenau  2020-08-10     allium carinatum   \n",
       "931       weissenau  2020-08-10     viburnum lantana   \n",
       "932       weissenau  2020-08-10  filipendula ulmaria   \n",
       "933       weissenau  2020-08-10    lythrum salicaria   \n",
       "934       weissenau  2020-08-10  lysimachia vulgaris   \n",
       "\n",
       "                          name                 slug  \n",
       "0            plantain lancéolé  plantago-lanceolata  \n",
       "1              centaurée noire      centaurea-nigra  \n",
       "2               plantain moyen       plantago-media  \n",
       "3              chénopode blanc    chenopodium-album  \n",
       "4              centaurée jacée      centaurea-jacea  \n",
       "..                         ...                  ...  \n",
       "930                 ail caréné     allium-carinatum  \n",
       "931  mancienne, viorne lantane     viburnum-lantana  \n",
       "932     reine des prés, spirée  filipendula-ulmaria  \n",
       "933          salicaire commune    lythrum-salicaria  \n",
       "934          lysimaque commune  lysimachia-vulgaris  \n",
       "\n",
       "[935 rows x 5 columns]"
      ]
     },
     "execution_count": 12,
     "metadata": {},
     "output_type": "execute_result"
    }
   ],
   "source": [
    "a_to_csv"
   ]
  },
  {
   "cell_type": "code",
   "execution_count": 13,
   "metadata": {},
   "outputs": [],
   "source": [
    "b['place'] = b.place.str.split('\\n').str[0]\n",
    "b.place = b.place.str.lower()\n",
    "b.place = b.place.map(lambda x:  x.replace(\" \",\"-\"))\n"
   ]
  },
  {
   "cell_type": "code",
   "execution_count": 14,
   "metadata": {},
   "outputs": [],
   "source": [
    "# saving the location map keys\n",
    "afilename= F\"{here}/data/2020/map-keys-2020.csv\"\n",
    "b.to_csv(afilename, index=False)"
   ]
  },
  {
   "cell_type": "code",
   "execution_count": 15,
   "metadata": {},
   "outputs": [],
   "source": [
    "afilename = here+\"/data/2020/species2020_matching.csv\"\n",
    "afilename2 = here+\"/data/2020/species2020_full.csv\"\n",
    "\n",
    "matching_species = a_to_csv[~a_to_csv.species.isin(a_not_in_c)]\n",
    "\n",
    "a_to_csv.to_csv(afilename2, index=False)\n",
    "\n",
    "matching_species.to_csv(afilename, index=False)"
   ]
  },
  {
   "cell_type": "code",
   "execution_count": 16,
   "metadata": {},
   "outputs": [
    {
     "name": "stdout",
     "output_type": "stream",
     "text": [
      "There are 111 different place names\n",
      "\n",
      "\n",
      "There are 111 different names in a\n",
      "\n",
      "\n",
      "There are 111 different names in b\n",
      "\n",
      "\n",
      "There are 111 shared between a and b\n",
      "There are 3434 different species names\n",
      "\n",
      "\n",
      "There are 232 different names in a\n",
      "\n",
      "\n",
      "There are 3418 different names in c\n",
      "\n",
      "\n",
      "There are 216 shared between a and c\n",
      "\n",
      "There are 16 in a not in c\n"
     ]
    }
   ],
   "source": [
    "# find place names that don't match:\n",
    "a_locs = a.place.unique()\n",
    "b_locs = b.place.unique()\n",
    "a_species = a.species.unique()\n",
    "c_species = c.species.unique()\n",
    "\n",
    "# get the symetric difference between the different place name lists\n",
    "placenames = list(set(a_locs) | set(b_locs))\n",
    "intersect_placenames = list(set(a_locs) & set(b_locs))\n",
    "print(F\"There are {len(placenames)} different place names\\n\")\n",
    "print(F\"\\nThere are {len(a_locs)} different names in a\\n\")\n",
    "print(F\"\\nThere are {len(b_locs)} different names in b\\n\")\n",
    "print(F\"\\nThere are {len(intersect_placenames)} shared between a and b\")\n",
    "\n",
    "#find the species in the data set that are not in the flora helvetica set\n",
    "speciesnames = list(set(a_species) | set(c_species))\n",
    "intersect_speciesnames = list(set(a_species) & set(c_species))\n",
    "in_b_not_d = list(set(a_species) - set(intersect_speciesnames))\n",
    "print(F\"There are {len(speciesnames)} different species names\\n\")\n",
    "print(F\"\\nThere are {len(a_species)} different names in a\\n\")\n",
    "print(F\"\\nThere are {len(c_species)} different names in c\\n\")\n",
    "print(F\"\\nThere are {len(intersect_speciesnames)} shared between a and c\")\n",
    "print(F\"\\nThere are {len(a_not_in_c)} in a not in c\")"
   ]
  },
  {
   "cell_type": "code",
   "execution_count": null,
   "metadata": {},
   "outputs": [],
   "source": []
  }
 ],
 "metadata": {
  "kernelspec": {
   "display_name": "Python 3",
   "language": "python",
   "name": "python3"
  },
  "language_info": {
   "codemirror_mode": {
    "name": "ipython",
    "version": 3
   },
   "file_extension": ".py",
   "mimetype": "text/x-python",
   "name": "python",
   "nbconvert_exporter": "python",
   "pygments_lexer": "ipython3",
   "version": "3.7.4"
  }
 },
 "nbformat": 4,
 "nbformat_minor": 5
}
