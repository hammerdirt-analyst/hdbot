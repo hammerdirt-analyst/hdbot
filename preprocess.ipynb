{
 "cells": [
  {
   "cell_type": "markdown",
   "metadata": {},
   "source": [
    "Introduction\n",
    "\n"
   ]
  },
  {
   "cell_type": "markdown",
   "metadata": {},
   "source": [
    "Import statements"
   ]
  },
  {
   "cell_type": "code",
   "execution_count": 1,
   "metadata": {},
   "outputs": [],
   "source": [
    "import pandas as pd\n",
    "import numpy as np\n",
    "import matplotlib as mpl\n",
    "import matplotlib.pyplot as plt\n",
    "import seaborn as sns\n",
    "import os\n",
    "import sys\n",
    "import datetime as dt\n",
    "import math\n",
    "\n",
    "here = os.getcwd()"
   ]
  },
  {
   "cell_type": "markdown",
   "metadata": {},
   "source": [
    "Load the 2020 data set and the reference files."
   ]
  },
  {
   "cell_type": "code",
   "execution_count": 2,
   "metadata": {},
   "outputs": [
    {
     "name": "stdout",
     "output_type": "stream",
     "text": [
      "Index(['id', 'obs', 'place', 'date', 'time', 'sci', 'name', 'notes'], dtype='object')\n",
      "Index(['place', 'date', 'time', 'sci', 'name'], dtype='object')\n",
      "Index(['lon', 'lat', 'place'], dtype='object')\n",
      "Index(['acceptedtaxonkey', 'acceptedscientificname', 'numberofoccurrences',\n",
      "       'kingdom', 'phylum', 'class', 'order', 'family', 'genus', 'species'],\n",
      "      dtype='object')\n"
     ]
    }
   ],
   "source": [
    "a = pd.read_csv(\"data/2020/2020data.csv\")\n",
    "b = pd.read_csv('data/2020/2020datasimp.csv')\n",
    "c = pd.read_csv('data/2020/map-keys-2020.csv')\n",
    "d = pd.read_csv(\"refs/florahelvetica/florahelveticarcsvnew.csv\")\n",
    "\n",
    "print(a.columns)\n",
    "print(b.columns)\n",
    "print(c.columns)\n",
    "print(d.columns)"
   ]
  },
  {
   "cell_type": "code",
   "execution_count": 3,
   "metadata": {},
   "outputs": [],
   "source": [
    "c.rename(columns={'X':'lon', 'Y':'lat', 'Name':'place'}, inplace=True)\n",
    "b.rename(columns={'sci':'species'}, inplace=True)"
   ]
  },
  {
   "cell_type": "code",
   "execution_count": 4,
   "metadata": {},
   "outputs": [],
   "source": [
    "replacedict = {\n",
    "    'verbanum bonariensis':'verbena bonariensis',\n",
    "    'medicago varia':'medicago sativa',\n",
    "    \"oenothera\":\"oenothera biennis\",\n",
    "    \"geranium pratens\":\"geranium pratense\",\n",
    "    \"senecio jacobaea\": \"jacobaea vulgaris\",\n",
    "    \"oenothera biennis \": \"oenothera biennis\",\n",
    "    \"solidalgo canadensis\": \"solidago canadensis\",\n",
    "    \"verbascum lynchitis\":\"verbascum lychnitis\",\n",
    "    \"verbascum negris\":\"verbascum nigrum\",\n",
    "    \"securigea varia\": \"securigera varia\",\n",
    "    \"melilotus officianalis\": \"melilotus officinalis\",\n",
    "    \"knautia maxima\": \"knautia dipsacifolia\",\n",
    "    \"hieracium aurantiacum\":\"pilosella aurantiaca\",\n",
    "    \"sysimbrium officinale\":\"sisymbrium officinale\",\n",
    "    \"geranium robertanium\":\"geranium robertianum\",\n",
    "    \"mycelis muralis\": \"lactuca muralis\",\n",
    "    \"calamintha nepeta\":\n",
    "    \"clinopodium nepeta\",\n",
    "    \"polygonum persicaria\":\"persicaria maculosa\",\n",
    "    \"sorbus aria\":\"aria edulis\"\n",
    "}\n"
   ]
  },
  {
   "cell_type": "code",
   "execution_count": 5,
   "metadata": {},
   "outputs": [],
   "source": [
    "def new_func(x,keys):\n",
    "    try:\n",
    "        data = keys[x]\n",
    "    except:\n",
    "        data = x\n",
    "    return data\n",
    "b[\"species1\"] = b.species.map(lambda x: new_func(x, replacedict))\n",
    "\n",
    "# b[\"species\"] = b.species1"
   ]
  },
  {
   "cell_type": "code",
   "execution_count": 6,
   "metadata": {},
   "outputs": [],
   "source": [
    "b['string_list'] = b.species1.str.split( \" \")\n",
    "b['string_list'] = b.string_list.map(lambda x: [name for name in x if name != 'agg.'])"
   ]
  },
  {
   "cell_type": "code",
   "execution_count": 7,
   "metadata": {},
   "outputs": [
    {
     "data": {
      "text/plain": [
       "0      [plantago, lanceolata]\n",
       "1          [centaurea, nigra]\n",
       "2           [plantago, media]\n",
       "3        [chenopodium, album]\n",
       "4          [centaurea, jacea]\n",
       "                ...          \n",
       "932       [allium, carinatum]\n",
       "933       [viburnum, lantana]\n",
       "934    [filipendula, ulmaria]\n",
       "935      [lythrum, salicaria]\n",
       "936    [lysimachia, vulgaris]\n",
       "Name: string_list, Length: 937, dtype: object"
      ]
     },
     "execution_count": 7,
     "metadata": {},
     "output_type": "execute_result"
    }
   ],
   "source": [
    "b['string_list']"
   ]
  },
  {
   "cell_type": "code",
   "execution_count": 8,
   "metadata": {},
   "outputs": [],
   "source": [
    "b['slug'] = b.string_list.map(lambda x: \"-\".join(x))\n",
    "b['species'] = b.string_list.map(lambda x: \" \". join(x))\n",
    "b['place'] = b.place.map(lambda x:  x.replace(\" \",\"-\"))"
   ]
  },
  {
   "cell_type": "code",
   "execution_count": 9,
   "metadata": {},
   "outputs": [],
   "source": [
    "def change_string(x):\n",
    "    try:\n",
    "        s_data = x.split('.')\n",
    "        data = s_data[::-1]\n",
    "        data = \"-\".join(data)\n",
    "    except:\n",
    "        print(\"no luck\")\n",
    "        data = x\n",
    "    \n",
    "    return data\n",
    "b['new_date'] = b.date.map(lambda x: change_string(x))"
   ]
  },
  {
   "cell_type": "code",
   "execution_count": 10,
   "metadata": {},
   "outputs": [
    {
     "name": "stdout",
     "output_type": "stream",
     "text": [
      "\n",
      "These are the records in b with no valid date:\n",
      "\n",
      "Empty DataFrame\n",
      "Columns: [place, date, time, species, name, species1, string_list, slug, new_date, check_date]\n",
      "Index: []\n",
      "\n"
     ]
    }
   ],
   "source": [
    "def make_timestamp(x):\n",
    "    try:        \n",
    "        data = dt.datetime.strptime(x, \"%Y-%m-%d\")        \n",
    "    except:        \n",
    "        data = 'no date'\n",
    "    \n",
    "    return data\n",
    "b['check_date'] = b.new_date.map(lambda x: make_timestamp(x))\n",
    "b['date'] = b.new_date\n",
    "\n",
    "print(F\"\\nThese are the records in b with no valid date:\\n\\n{b[b.check_date == 'no date']}\\n\")"
   ]
  },
  {
   "cell_type": "code",
   "execution_count": 11,
   "metadata": {},
   "outputs": [
    {
     "name": "stdout",
     "output_type": "stream",
     "text": [
      "\n",
      "These are the species in b that do not match d:\n",
      "\n",
      "['erigeron annuus', 'verbanum bonariensis ', 'taraxacum', 'rubus', 'rubus rubus sect.', 'tripleurospermum maritimum', 'persicaria longiseta', 'ligustrum vulgare', 'anemone sylvestris', 'x', 'oenothera biennis aggr.', 'packera aurea', 'dipsacus fullonum', 'rubus fruticosus', 'corylus cornuta', 'ligustrum sinense', 'eupatorium serotinum', 'stellaria aquatica', 'geranium pyrenaicum ', 'calamintha nepeta', 'solanum ptychanthum', 'salix nigra', 'phlox pilosa', 'hieracium morulum', 'sorbus aria']\n",
      "\n"
     ]
    }
   ],
   "source": [
    "b_to_csv = b[['place','date','species', 'name', 'slug']].copy()\n",
    "b_not_in_d = [x for x in b_to_csv.species.unique() if x not in d.species.unique()]\n",
    "print(F\"\\nThese are the species in b that do not match d:\\n\\n{b_not_in_d }\\n\")"
   ]
  },
  {
   "cell_type": "code",
   "execution_count": 12,
   "metadata": {},
   "outputs": [
    {
     "data": {
      "text/html": [
       "<div>\n",
       "<style scoped>\n",
       "    .dataframe tbody tr th:only-of-type {\n",
       "        vertical-align: middle;\n",
       "    }\n",
       "\n",
       "    .dataframe tbody tr th {\n",
       "        vertical-align: top;\n",
       "    }\n",
       "\n",
       "    .dataframe thead th {\n",
       "        text-align: right;\n",
       "    }\n",
       "</style>\n",
       "<table border=\"1\" class=\"dataframe\">\n",
       "  <thead>\n",
       "    <tr style=\"text-align: right;\">\n",
       "      <th></th>\n",
       "      <th>place</th>\n",
       "      <th>date</th>\n",
       "      <th>species</th>\n",
       "      <th>name</th>\n",
       "      <th>slug</th>\n",
       "    </tr>\n",
       "  </thead>\n",
       "  <tbody>\n",
       "    <tr>\n",
       "      <th>0</th>\n",
       "      <td>alleestrasse-1</td>\n",
       "      <td>2020-09-02</td>\n",
       "      <td>plantago lanceolata</td>\n",
       "      <td>plantain lancéolé</td>\n",
       "      <td>plantago-lanceolata</td>\n",
       "    </tr>\n",
       "    <tr>\n",
       "      <th>1</th>\n",
       "      <td>alleestrasse-1</td>\n",
       "      <td>2020-09-02</td>\n",
       "      <td>centaurea nigra</td>\n",
       "      <td>centaurée noire</td>\n",
       "      <td>centaurea-nigra</td>\n",
       "    </tr>\n",
       "    <tr>\n",
       "      <th>2</th>\n",
       "      <td>alleestrasse-1</td>\n",
       "      <td>2020-09-02</td>\n",
       "      <td>plantago media</td>\n",
       "      <td>plantain moyen</td>\n",
       "      <td>plantago-media</td>\n",
       "    </tr>\n",
       "    <tr>\n",
       "      <th>3</th>\n",
       "      <td>alleestrasse-1</td>\n",
       "      <td>2020-09-02</td>\n",
       "      <td>chenopodium album</td>\n",
       "      <td>chénopode blanc</td>\n",
       "      <td>chenopodium-album</td>\n",
       "    </tr>\n",
       "    <tr>\n",
       "      <th>4</th>\n",
       "      <td>alleestrasse-1</td>\n",
       "      <td>2020-09-02</td>\n",
       "      <td>centaurea jacea</td>\n",
       "      <td>centaurée jacée</td>\n",
       "      <td>centaurea-jacea</td>\n",
       "    </tr>\n",
       "    <tr>\n",
       "      <th>...</th>\n",
       "      <td>...</td>\n",
       "      <td>...</td>\n",
       "      <td>...</td>\n",
       "      <td>...</td>\n",
       "      <td>...</td>\n",
       "    </tr>\n",
       "    <tr>\n",
       "      <th>932</th>\n",
       "      <td>weissenau</td>\n",
       "      <td>2020-08-10</td>\n",
       "      <td>allium carinatum</td>\n",
       "      <td>ail caréné</td>\n",
       "      <td>allium-carinatum</td>\n",
       "    </tr>\n",
       "    <tr>\n",
       "      <th>933</th>\n",
       "      <td>weissenau</td>\n",
       "      <td>2020-08-10</td>\n",
       "      <td>viburnum lantana</td>\n",
       "      <td>mancienne, viorne lantane</td>\n",
       "      <td>viburnum-lantana</td>\n",
       "    </tr>\n",
       "    <tr>\n",
       "      <th>934</th>\n",
       "      <td>weissenau</td>\n",
       "      <td>2020-08-10</td>\n",
       "      <td>filipendula ulmaria</td>\n",
       "      <td>reine des prés, spirée</td>\n",
       "      <td>filipendula-ulmaria</td>\n",
       "    </tr>\n",
       "    <tr>\n",
       "      <th>935</th>\n",
       "      <td>weissenau</td>\n",
       "      <td>2020-08-10</td>\n",
       "      <td>lythrum salicaria</td>\n",
       "      <td>salicaire commune</td>\n",
       "      <td>lythrum-salicaria</td>\n",
       "    </tr>\n",
       "    <tr>\n",
       "      <th>936</th>\n",
       "      <td>weissenau</td>\n",
       "      <td>2020-08-10</td>\n",
       "      <td>lysimachia vulgaris</td>\n",
       "      <td>lysimaque commune</td>\n",
       "      <td>lysimachia-vulgaris</td>\n",
       "    </tr>\n",
       "  </tbody>\n",
       "</table>\n",
       "<p>937 rows × 5 columns</p>\n",
       "</div>"
      ],
      "text/plain": [
       "              place        date              species  \\\n",
       "0    alleestrasse-1  2020-09-02  plantago lanceolata   \n",
       "1    alleestrasse-1  2020-09-02      centaurea nigra   \n",
       "2    alleestrasse-1  2020-09-02       plantago media   \n",
       "3    alleestrasse-1  2020-09-02    chenopodium album   \n",
       "4    alleestrasse-1  2020-09-02      centaurea jacea   \n",
       "..              ...         ...                  ...   \n",
       "932       weissenau  2020-08-10     allium carinatum   \n",
       "933       weissenau  2020-08-10     viburnum lantana   \n",
       "934       weissenau  2020-08-10  filipendula ulmaria   \n",
       "935       weissenau  2020-08-10    lythrum salicaria   \n",
       "936       weissenau  2020-08-10  lysimachia vulgaris   \n",
       "\n",
       "                          name                 slug  \n",
       "0            plantain lancéolé  plantago-lanceolata  \n",
       "1              centaurée noire      centaurea-nigra  \n",
       "2               plantain moyen       plantago-media  \n",
       "3              chénopode blanc    chenopodium-album  \n",
       "4              centaurée jacée      centaurea-jacea  \n",
       "..                         ...                  ...  \n",
       "932                 ail caréné     allium-carinatum  \n",
       "933  mancienne, viorne lantane     viburnum-lantana  \n",
       "934     reine des prés, spirée  filipendula-ulmaria  \n",
       "935          salicaire commune    lythrum-salicaria  \n",
       "936          lysimaque commune  lysimachia-vulgaris  \n",
       "\n",
       "[937 rows x 5 columns]"
      ]
     },
     "execution_count": 12,
     "metadata": {},
     "output_type": "execute_result"
    }
   ],
   "source": [
    "b_to_csv"
   ]
  },
  {
   "cell_type": "code",
   "execution_count": 13,
   "metadata": {},
   "outputs": [
    {
     "ename": "SyntaxError",
     "evalue": "'break' outside loop (<ipython-input-13-6aaf1f276005>, line 1)",
     "output_type": "error",
     "traceback": [
      "\u001b[0;36m  File \u001b[0;32m\"<ipython-input-13-6aaf1f276005>\"\u001b[0;36m, line \u001b[0;32m1\u001b[0m\n\u001b[0;31m    break\u001b[0m\n\u001b[0m    ^\u001b[0m\n\u001b[0;31mSyntaxError\u001b[0m\u001b[0;31m:\u001b[0m 'break' outside loop\n"
     ]
    }
   ],
   "source": [
    "break"
   ]
  },
  {
   "cell_type": "code",
   "execution_count": 14,
   "metadata": {},
   "outputs": [],
   "source": [
    "c['place'] = c.place.str.split('\\n').str[0]\n",
    "c.place = c.place.str.lower()\n",
    "c.place = c.place.map(lambda x:  x.replace(\" \",\"-\"))\n"
   ]
  },
  {
   "cell_type": "code",
   "execution_count": 16,
   "metadata": {},
   "outputs": [],
   "source": [
    "# saving the location map keys\n",
    "afilename= F\"{here}/data/2020/map-keys-2020.csv\"\n",
    "c.to_csv(afilename, index=False)"
   ]
  },
  {
   "cell_type": "code",
   "execution_count": 17,
   "metadata": {},
   "outputs": [],
   "source": [
    "afilename = here+\"/data/2020/species2020_n23.csv\"\n",
    "\n",
    "minus_twenty_three = b_to_csv[~b_to_csv.species.isin(b_not_in_d)]\n",
    "\n",
    "minus_twenty_three.to_csv(afilename, index=False)"
   ]
  },
  {
   "cell_type": "code",
   "execution_count": null,
   "metadata": {},
   "outputs": [],
   "source": [
    "replacedict[\"verbanum bonariensis\"]"
   ]
  },
  {
   "cell_type": "code",
   "execution_count": null,
   "metadata": {},
   "outputs": [],
   "source": [
    "break"
   ]
  },
  {
   "cell_type": "code",
   "execution_count": null,
   "metadata": {},
   "outputs": [],
   "source": [
    "# find place names that don't match:\n",
    "a_locs = a.place.unique()\n",
    "b_locs = b.place.unique()\n",
    "c_locs = c.place.unique()\n",
    "b_species = b.species.unique()\n",
    "d_species = d.species.unique()\n",
    "\n",
    "# get the symetric difference between the different place name lists\n",
    "placenames = list(set(c_locs) | set(b_locs))\n",
    "intersect_placenames = list(set(c_locs) & set(b_locs))\n",
    "print(F\"There are {len(placenames)} different place names\\n\")\n",
    "print(F\"\\nThere are {len(b_locs)} different names in b\\n\")\n",
    "print(F\"\\nThere are {len(c_locs)} different names in c\\n\")\n",
    "print(F\"\\nThere are {len(intersect_placenames)} shared between b and c\")\n",
    "\n",
    "#find the species in the data set that are not in the flora helvetica set\n",
    "speciesnames = list(set(d_species) | set(b_species))\n",
    "intersect_speciesnames = list(set(d_species) & set(b_species))\n",
    "in_b_not_d = list(set(b_species) - set(intersect_speciesnames))\n",
    "print(F\"There are {len(speciesnames)} different species names\\n\")\n",
    "print(F\"\\nThere are {len(b_species)} different names in b\\n\")\n",
    "print(F\"\\nThere are {len(d_species)} different names in d\\n\")\n",
    "print(F\"\\nThere are {len(intersect_speciesnames)} shared between b and d\")\n",
    "print(F\"\\nThere are {len(in_b_not_d)} in b not in d\")"
   ]
  },
  {
   "cell_type": "code",
   "execution_count": null,
   "metadata": {},
   "outputs": [],
   "source": [
    "b['slug'] = b.species.map(lambda x: \"-\".join([x for x in x.split(\" \")]))"
   ]
  },
  {
   "cell_type": "code",
   "execution_count": null,
   "metadata": {},
   "outputs": [],
   "source": []
  },
  {
   "cell_type": "code",
   "execution_count": null,
   "metadata": {},
   "outputs": [],
   "source": []
  },
  {
   "cell_type": "code",
   "execution_count": null,
   "metadata": {},
   "outputs": [],
   "source": [
    "# saving the sample data\n",
    "\n",
    "\n"
   ]
  },
  {
   "cell_type": "code",
   "execution_count": null,
   "metadata": {},
   "outputs": [],
   "source": [
    "b['a_new_name'] = b.species.map(lambda x: F\"{x}three\")"
   ]
  },
  {
   "cell_type": "code",
   "execution_count": null,
   "metadata": {},
   "outputs": [],
   "source": [
    "#attempt to correct species names\n",
    "\n",
    "#function fixes the scientific name in the 4th position of the \n",
    "y = b.species\n",
    "for k in range(len(y[3])):\n",
    "    if y[3][k] == \"verbanum bonariensis\":\n",
    "        y[3][k] = \"verbena bonariensis\"\n",
    "    if y[3][k] == \"medicago varia\":\n",
    "        y[3][k] = \"medicago sativa\"\n",
    "    if y[3][k] == \"geranium pratens\":\n",
    "        y[3][k] = \"geranium pratense\"\n",
    "    if y[3][k] == \"oenothera\":\n",
    "        y[3][k] = \"oenothera biennis\"\n",
    "    if y[3][k] == \"senecio jacobaea\":\n",
    "        y[3][k] = \"jacobaea vulgaris\"\n",
    "    if y[3][k] == \"oenothera biennis \":\n",
    "        y[3][k] = \"oenothera biennis\"\n",
    "    if y[3][k] == \"solidalgo canadensis\":\n",
    "        y[3][k] = \"solidago canadensis\"\n",
    "    if y[3][k] == \"verbascum lynchitis\":\n",
    "        y[3][k] = \"verbascum lychnitis\"\n",
    "    if y[3][k] == \"verbascum negris\":\n",
    "        y[3][k] = \"verbascum nigrum\"\n",
    "    if y[3][k] == \"securigea varia\":\n",
    "        y[3][k] = \"securigera varia\"\n",
    "    if y[3][k] == \"melilotus officianalis\":\n",
    "        y[3][k] = \"melilotus officinalis\"\n",
    "    if y[3][k] == \"knautia maxima\":\n",
    "        y[3][k] = \"knautia dipsacifolia\"\n",
    "    if y[3][k] == \"hieracium aurantiacum\":\n",
    "        y[3][k] = \"pilosella aurantiaca\"\n",
    "    if y[3][k] == \"sysimbrium officinale\":\n",
    "        y[3][k] = \"sisymbrium officinale\"\n",
    "    if y[3][k] == \"geranium robertanium\":\n",
    "        y[3][k] = \"geranium robertianum\"\n",
    "    if y[3][k] == \"mycelis muralis\":\n",
    "        y[3][k] = \"lactuca muralis\"\n",
    "    if y[3][k] == \"calamintha nepeta\":\n",
    "        y[3][k] = \"clinopodium nepeta\"\n",
    "    if y[3][k] == \"polygonum persicaria\":\n",
    "        y[3][k] = \"persicaria maculosa\"\n",
    "    if y[3][k] == \"sorbus aria\":\n",
    "        y[3][k] = \"aria edulis\"\n",
    "b.species = y\n",
    "new_b_species = b.species.unique()\n",
    "new_d_species = d.species.unique()\n",
    "new_speciesnames = list(set(new_d_species) | set(new_b_species))\n",
    "new_intersect_speciesnames = list(set(new_d_species) & set(new_b_species))\n",
    "new_in_b_not_d = list(set(new_b_species) - set(new_intersect_speciesnames))\n",
    "print(F\"There are {len(new_speciesnames)} different species names\\n\")\n",
    "print(F\"\\nThere are {len(new_b_species)} different names in b\\n\")\n",
    "print(F\"\\nThere are {len(new_d_species)} different names in d\\n\")\n",
    "print(F\"\\nThere are {len(new_intersect_speciesnames)} shared between b and d\")\n",
    "print(F\"\\nThere are {len(new_in_b_not_d)} in b not in d\")\n"
   ]
  },
  {
   "cell_type": "markdown",
   "metadata": {},
   "source": [
    "Clean 2020 data set and reference files"
   ]
  },
  {
   "cell_type": "code",
   "execution_count": null,
   "metadata": {},
   "outputs": [],
   "source": [
    "data2020 = utility.removelistreturns(data2020)\n",
    "floralist = utility.removelistreturns(floralist)\n",
    "data2020 = utility.makenestedlist(data2020)\n",
    "floralist = utility.makenestedlist(floralist)\n",
    "data2020 = utility.arrange2020data(data2020)\n",
    "floralist = utility.arrangeflorahelveticadata(floralist)\n",
    "data2020[3] = utility.removenameendings(data2020[3])\n",
    "data2020 = utility.fixscinames(data2020)\n",
    "data2020 = utility.fixdate(data2020)\n",
    "data2020 = utility.fixtime(data2020)"
   ]
  },
  {
   "cell_type": "markdown",
   "metadata": {},
   "source": [
    "Initial data analysis"
   ]
  },
  {
   "cell_type": "code",
   "execution_count": null,
   "metadata": {},
   "outputs": [],
   "source": [
    "#total number of different values for each variable in data.\n",
    "occurencesummary = utility.occurencelists(data2020)\n",
    "print(occurencesummary[3])\n",
    "newfile = open(\"occurencesummary.txt\", 'w')\n",
    "newfile.write(occurencesummary)\n",
    "newfile.close()\n",
    "comparison = utility.compared(occurencesummary[3][1], floralist[9])\n",
    "print(comparison)"
   ]
  },
  {
   "cell_type": "code",
   "execution_count": null,
   "metadata": {},
   "outputs": [],
   "source": []
  },
  {
   "cell_type": "code",
   "execution_count": null,
   "metadata": {},
   "outputs": [],
   "source": []
  }
 ],
 "metadata": {
  "kernelspec": {
   "display_name": "Python 3",
   "language": "python",
   "name": "python3"
  },
  "language_info": {
   "codemirror_mode": {
    "name": "ipython",
    "version": 3
   },
   "file_extension": ".py",
   "mimetype": "text/x-python",
   "name": "python",
   "nbconvert_exporter": "python",
   "pygments_lexer": "ipython3",
   "version": "3.8.3"
  }
 },
 "nbformat": 4,
 "nbformat_minor": 5
}
